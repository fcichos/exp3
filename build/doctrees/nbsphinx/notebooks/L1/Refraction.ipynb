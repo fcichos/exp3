{
 "cells": [
  {
   "cell_type": "markdown",
   "metadata": {},
   "source": [
    "## Refraction"
   ]
  },
  {
   "cell_type": "markdown",
   "metadata": {},
   "source": [
    "The law of refraction is the second important law of geometrical optics. It connects the refractive index $n_1$ at the incident side and the angle of incidence $\\theta_1$ to the refractive index $n_2$ and the angle of refraction $\\theta_2$ on the transmission side. It will later turn out, that both laws, the law of reflection and the law of refraction actually correspond to a conservation of momentum. \n"
   ]
  },
  {
   "cell_type": "markdown",
   "metadata": {},
   "source": [
    "### Refractive Index\n",
    "\n",
    "The refractive index $n$ is a material constant representing the factor by which the speed of light is slowed down in the medium. As the maximum speed is the speed of light in vacuum, the refractive index is typically a number $n \\ge 1$. Yet, it will turn out later, that the refractive index can be smaller than 1 or even negative. This, however, requires first to understand the origin of the refractive index. "
   ]
  },
  {
   "cell_type": "markdown",
   "metadata": {},
   "source": [
    "### Snells Law"
   ]
  },
  {
   "cell_type": "markdown",
   "metadata": {},
   "source": [
    "|<img src=\"img/snell.png\" width=\"59%\"> <img src=\"img/refraction_law.png\" width=\"40%\">|\n",
    "|--|\n",
    "|**Fig.:** Snell's law.|"
   ]
  },
  {
   "cell_type": "markdown",
   "metadata": {},
   "source": [
    "<div class=\"alert alert-info\">\n",
    "\n",
    "**Law of Reflection (Snells Law)**\n",
    "    \n",
    "The law of refraction (Snell's law) is given for the above sketch by\n",
    "\n",
    "\\begin{equation}\n",
    "n_1 \\sin(\\theta_1)=n_2 \\sin(\\theta_2)\n",
    "\\end{equation}\n",
    "    \n",
    " \n",
    "</div>\n",
    "\n"
   ]
  },
  {
   "cell_type": "markdown",
   "metadata": {},
   "source": [
    "***\n",
    "\n",
    "In the previous section in refraction we have derived the law of reflection from Fermat's principle. **Try yourself to obtain Snell's law with the help of Fermat's principle**.\n",
    " Check out the [Refraction Explorer Snippet](https://mybinder.org/v2/gh/fcichos/exp3/master?urlpath=tree/source/snippets/Refraction%20Explorer.ipynb) if you want to play around with Snells law. You may tray there even negative refraction. \n",
    "\n",
    "***\n"
   ]
  },
  {
   "cell_type": "markdown",
   "metadata": {},
   "source": [
    "According to Snell's law, there is a general behavior of the corresponding angles, which you might want to remember (see also Fig. above). Consider the following cases:\n",
    "\n",
    "$n_1<n_2$:\n",
    "- refraction is towards the optical axis\n",
    "- $\\theta_2<\\theta_1$\n",
    "\n",
    "\n",
    "$n_2<n_1$: \n",
    "- refraction is away from the optical axis\n",
    "- $\\theta_1<\\theta_2$\n",
    "\n",
    "The plot below shows this result in three plots with varying incident angle and two different refractive index combinations (glass/air, ait/glass). "
   ]
  },
  {
   "cell_type": "markdown",
   "metadata": {},
   "source": [
    "|<img src=\"img/angles.png\" width=\"60%\">|\n",
    "|-|\n",
    "|**Fig.:** Snells law for different combinations of refractive indices.|"
   ]
  },
  {
   "cell_type": "markdown",
   "metadata": {},
   "source": [
    "### Total Internal Reflection\n",
    "\n",
    "The above diagram reveals a special case occurring when $n_1>n_2$. Under these condition, one may change the incident angle $\\theta_1$ such that the outgoing angle becomes $\\theta_2=\\frac{\\pi}{2}$. For any incident angle $\\theta_1$ larger than this critical angle, the is no refracted ray anymore, but just a reflected ray. This is despite the fact that the material with $n_2$ is completely transparent. This phenomenon is called **total internal reflection** and it has several important applications. \n",
    "\n",
    "Let's first formalize this. Using the Snell's law. For $\\theta_2=\\frac{\\pi}{2}$ we obtain \n",
    "\n",
    "$$\\theta_1=\\theta_c=\\sin^{-1}\\left (\\frac{n_2}{n_1}\\right )$$\n",
    "\n",
    "\n",
    "for the critical angle $\\theta_c$. As the $\\sin^{-1}()$ requires an argument $\\le1$, this works only if we have $n_2 < n_1$\n",
    "\n"
   ]
  },
  {
   "cell_type": "markdown",
   "metadata": {},
   "source": [
    "|<img src=\"img/tir.png\" width=\"50%\"> <img src=\"img/tir_disk.png\" width=\"49%\">|\n",
    "|--|\n",
    "|**Fig.:** Total internal reflection|"
   ]
  },
  {
   "cell_type": "markdown",
   "metadata": {},
   "source": [
    "<div class=\"alert alert-info\">\n",
    "\n",
    "**Total Internal Reflection**\n",
    "    \n",
    "Total internal reflection occurs when light is passing from higher refractive index to lower refractive index materials for incidence angle larger than a critical angle \n",
    "    \n",
    "\\begin{equation}\n",
    "\\theta_c=\\sin^{-1}\\left (\\frac{n_2}{n_1}\\right )\n",
    "\\end{equation}\n",
    "    \n",
    " \n",
    "</div>\n",
    "\n"
   ]
  },
  {
   "cell_type": "markdown",
   "metadata": {},
   "source": [
    "We can demonstrate total internal reflection very easily with a water basin, for example, where we couple in light from a laser from the side. \n",
    "\n",
    "|<img src=\"img/basin_tir.png\" width=\"59%\"> <img src=\"img/tir_basin.png\" width=\"40%\">|\n",
    "|--|\n",
    "|**Fig.:** Total internal reflection at a water/air interface.|\n",
    "\n",
    "\n",
    "But you could try that yourself also in the bath tub diving below the water surface."
   ]
  },
  {
   "cell_type": "markdown",
   "metadata": {},
   "source": [
    "**Optical Fiber** Total internal reflection is very important for guiding light in telecommunications, for example. There, glass wires with a diameter from a few to several 100 µm are used to transport light. The glass wire with a central core of refractive index $n_1$ is surrounded by a cladding layer of slightly lower refractive index $n_2$. Light is then coupled into the fiber from one side. To obtain total internal reflection in this setting, the incident rays have to hit the front of the fiber at a maximum angle $\\theta_{a}$\n",
    "\n",
    "\n",
    "|<img src=\"img/fiber.png\" width=\"59%\"> <img src=\"img/tir_rod.png\" width=\"40%\">|\n",
    "|--|\n",
    "|**Fig.:** Total internal reflection in an optical fiber and a glass rod.|\n",
    "\n",
    "The angle $\\theta_{a}$ can be easily calculated from Snells law. To characterize this opening angle one typically defines a new quantity called numerical aperature $NA$, which is the sine of the opening angle $\\theta_a$\n",
    "\n",
    "\\begin{equation}\n",
    "NA=\\sin(\\theta_a)=\\sqrt{n_1^2-n_2^{2}}\n",
    "\\end{equation}\n",
    "\n",
    "Using typical values of the refractive indices $n_1=1.475$ and $n_2=1.46$ one obtains a numerical apeture of $NA\\approx 0.2$."
   ]
  }
 ],
 "metadata": {
  "anaconda-cloud": {},
  "hide_input": false,
  "kernelspec": {
   "display_name": "Python 3",
   "language": "python",
   "name": "python3"
  },
  "language_info": {
   "codemirror_mode": {
    "name": "ipython",
    "version": 3
   },
   "file_extension": ".py",
   "mimetype": "text/x-python",
   "name": "python",
   "nbconvert_exporter": "python",
   "pygments_lexer": "ipython3",
   "version": "3.8.5"
  },
  "latex_envs": {
   "LaTeX_envs_menu_present": true,
   "autoclose": false,
   "autocomplete": true,
   "bibliofile": "biblio.bib",
   "cite_by": "apalike",
   "current_citInitial": 1,
   "eqLabelWithNumbers": true,
   "eqNumInitial": 1,
   "hotkeys": {
    "equation": "Ctrl-E",
    "itemize": "Ctrl-I"
   },
   "labels_anchors": false,
   "latex_user_defs": false,
   "report_style_numbering": true,
   "user_envs_cfg": false
  },
  "nteract": {
   "version": "0.22.4"
  },
  "toc": {
   "nav_menu": {
    "height": "12px",
    "width": "252px"
   },
   "number_sections": true,
   "sideBar": true,
   "skip_h1_title": false,
   "toc_cell": true,
   "toc_position": {
    "height": "1335px",
    "left": "0px",
    "right": "2386px",
    "top": "110px",
    "width": "302px"
   },
   "toc_section_display": "block",
   "toc_window_display": false
  },
  "varInspector": {
   "cols": {
    "lenName": 16,
    "lenType": 16,
    "lenVar": 40
   },
   "kernels_config": {
    "python": {
     "delete_cmd_postfix": "",
     "delete_cmd_prefix": "del ",
     "library": "var_list.py",
     "varRefreshCmd": "print(var_dic_list())"
    },
    "r": {
     "delete_cmd_postfix": ") ",
     "delete_cmd_prefix": "rm(",
     "library": "var_list.r",
     "varRefreshCmd": "cat(var_dic_list()) "
    }
   },
   "types_to_exclude": [
    "module",
    "function",
    "builtin_function_or_method",
    "instance",
    "_Feature"
   ],
   "window_display": false
  }
 },
 "nbformat": 4,
 "nbformat_minor": 4
}
