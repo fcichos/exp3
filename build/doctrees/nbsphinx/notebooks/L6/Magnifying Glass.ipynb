{
 "cells": [
  {
   "cell_type": "markdown",
   "metadata": {},
   "source": [
    "### Magnifying Glass"
   ]
  },
  {
   "cell_type": "markdown",
   "metadata": {},
   "source": [
    "A magnifying glass has several applications. First of all, it allows to see objects with details that would otherwise be too small to be observed with the eye even of the eye lens can accomodate to the distances. Such magnifying glasses are also used in microscopes as the so-called **eye-piece** as we will later see in the section on microscopes."
   ]
  },
  {
   "cell_type": "markdown",
   "metadata": {},
   "source": [
    "Consider the sketch below. The sketch shows an object of a size $A$ which is at a distance of $s_0$ from the eye. The object makes an angle $\\epsilon_0$ with the optical axis. If we insert now a lens into the space between object and eye and the lens is positioned in a way that it is exactly at a distance $f$ (the focal distance of the lens) from the object then we are able to observe the object under a different angle $\\epsilon$."
   ]
  },
  {
   "cell_type": "markdown",
   "metadata": {},
   "source": [
    "|<img src=\"img/magnifying_glass_focal.png\" width=\"60%\">|\n",
    "|-|\n",
    "| **Fig.:** Magnifying glass at the focal distance.|\n",
    "\n"
   ]
  },
  {
   "cell_type": "markdown",
   "metadata": {},
   "source": [
    "The magnification of this magnifying glass can the be calculated from the angles $\\epsilon\\approx A/f$ and $\\epsilon_0\\approx A/s_0$:\n",
    "\n",
    "$$\n",
    "V=\\frac{\\tan(\\epsilon)}{\\tan(\\epsilon_0)}\\approx \\frac{\\epsilon}{\\epsilon_0}=\\frac{A}{f}\\frac{s_0}{A}=\\frac{s_0}{f}.\n",
    "$$\n",
    "\n",
    "The angular magnification is, thus, just given by the ratio of the clear visual range to the focal distance of the lens. If the focal distance $f$ becomes much smaller than $s_0$, large magnifications are possible. \n",
    "\n",
    "A second very useful effect is that when the object is placed inside the focal distance from the lens, the eye images a virtual image at infinite distance to the retina (see sketch). This means the eye muscle can stay relaxed when observing the object, while it would otherwise probably have to accommodate to the distance. "
   ]
  },
  {
   "cell_type": "markdown",
   "metadata": {},
   "source": [
    "Yet, placing the object at exactly the focal distance is rather tedious when holding the magnifying glass by hand. If the object is now placed inside the focal distance of the magnifying glass, we may also calculate a magnification in this case knowing the virtual image size $B$ created in this case (see sketch below)"
   ]
  },
  {
   "cell_type": "markdown",
   "metadata": {},
   "source": [
    "|<img src=\"img/inside_focus.png\" width=\"60%\">|\n",
    "|-|\n",
    "| **Fig.:** Magnifying glass for an object inside the focal range of the lens.|\n",
    "\n",
    "\n"
   ]
  },
  {
   "cell_type": "markdown",
   "metadata": {},
   "source": [
    "If $a$ is the distance of the object from the principle plane of the magnifying glass and $b$ and $B$ are the distance and the size of the virtual image, respectively, we obtain\n",
    "\n",
    "$$\n",
    "V=\\frac{\\tan(\\epsilon)}{\\tan(\\epsilon_0)}\\approx \\frac{\\epsilon}{\\epsilon_0}=\\frac{B}{b}\\frac{s_0}{A}=\\frac{s_0}{a}.\n",
    "$$\n",
    "\n",
    "Using the imaging equation \n",
    "\n",
    "$$\n",
    "\\frac{1}{f}=\\frac{1}{a}+\\frac{1}{b}\n",
    "$$\n",
    "\n",
    "we may finally arrive at \n",
    "\n",
    "$$\n",
    "V=\\frac{s_0(b-f)}{b\\,f}\n",
    "$$\n",
    "\n",
    "in this case. If we place the virtual image directly at the clear visual range, i.e., $b=-s_0$, we find\n",
    "\n",
    "\n",
    "$$\n",
    "V=\\frac{s_0}{f}+1.\n",
    "$$\n",
    "\n"
   ]
  }
 ],
 "metadata": {
  "kernelspec": {
   "display_name": "Python 3 (ipykernel)",
   "language": "python",
   "name": "python3"
  },
  "language_info": {
   "codemirror_mode": {
    "name": "ipython",
    "version": 3
   },
   "file_extension": ".py",
   "mimetype": "text/x-python",
   "name": "python",
   "nbconvert_exporter": "python",
   "pygments_lexer": "ipython3",
   "version": "3.8.12"
  },
  "widgets": {
   "application/vnd.jupyter.widget-state+json": {
    "state": {},
    "version_major": 2,
    "version_minor": 0
   }
  }
 },
 "nbformat": 4,
 "nbformat_minor": 4
}
