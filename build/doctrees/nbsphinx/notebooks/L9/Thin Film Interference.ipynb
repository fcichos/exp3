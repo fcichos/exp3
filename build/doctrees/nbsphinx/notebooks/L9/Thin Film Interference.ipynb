{
 "cells": [
  {
   "cell_type": "markdown",
   "metadata": {},
   "source": [
    "## Thin Film Interference"
   ]
  },
  {
   "cell_type": "markdown",
   "metadata": {},
   "source": [
    "<style>\n",
    "figure {\n",
    "  border: 1px #cccccc solid;\n",
    "  padding: 4px;\n",
    "  margin: auto;\n",
    "  align: center;\n",
    "}\n",
    "\n",
    "figcaption {\n",
    "  background-color: #eeeeee;\n",
    "  color: black;\n",
    "  padding: 2px;\n",
    "}\n",
    "</style>"
   ]
  },
  {
   "cell_type": "markdown",
   "metadata": {},
   "source": [
    "The reflection and transmission of waves on a thin film can also be regarded as an interference of two waves. A light wave is incident on a thin film as depicted below. A part of the wave is reflected on the first boundary (1). Another part is transmitted through the first boundary and reflected at the second boundary to be transmitted in the same direction (2) as the first reflected part. Note that the lines and arrows denote the direction of the wavevector $\\vec{k}$ of the partial waves. "
   ]
  },
  {
   "cell_type": "markdown",
   "metadata": {},
   "source": [
    "|<img src=\"img/thin_film.png\" width=\"50%\">|\n",
    "|-|\n",
    "| **Fig.:** Interference on a thin film considering two partial waves.|"
   ]
  },
  {
   "cell_type": "markdown",
   "metadata": {},
   "source": [
    "This picture of a single reflection at each of the interfaces is certainly a simplification and in general we would have to consider an infinite number of reflections. But if we assume that the reflection is weak (e.g. 4% as for the air/glass interface), then the next reflection would just diminish the 4% to 4% of 4%, which is really weak. So the two wave interference may be a good model for weak reflections. "
   ]
  },
  {
   "cell_type": "markdown",
   "metadata": {},
   "source": [
    "For the geometry shown in the figure above, we have just have a medium with $n_1$ surrounding the film with $n_2$. For this situation, we may calculate the path difference $\\Delta s$, the waves 1 and 2 have to travel.\n",
    "\n",
    "We find\n",
    "\n",
    "$$\n",
    "\\Delta s=\\frac{2nd}{\\cos(\\beta)}-2d\\tan(\\beta)\\sin(\\alpha)\n",
    "$$\n",
    "\n",
    "where the first term contains the distance traveled by wave 2 inside the water film. The second term is the additional distance wave 1 has to travel after being reflected which is indicated by the dotted line inbetween.\n",
    "\n",
    "We can now introduce Snells law into the calculation, as Snells law must be also valid in wave optics and also in electromagnetic optics. With $n_1\\sin(\\alpha)=n_2\\sin(\\beta)$ and setting $n_1=1$ and $n_2=n$ we can rewrite the path difference as\n",
    "\n",
    "$$\n",
    "\\Delta s =\\frac{2nd}{\\cos(\\beta)}-\\frac{2nd\\sin^2(\\beta)}{\\cos(\\beta)}=2n d \\cos(\\beta)=2d\\sqrt{n^2-\\sin^2(\\alpha)}\n",
    "$$\n",
    "\n",
    "With that we can now also calculate the phase shift $\\Delta \\phi$ that is introduced through the path difference, which reads\n",
    "\n",
    "$$\n",
    "\\Delta \\phi=\\frac{2\\pi}{\\lambda}\\Delta s +\\pi\n",
    "$$\n",
    "\n",
    "You may now wonder about the second part $\\pi$, which is not coming from a path difference. This addition phase shift occurs due to the reflection at an interface with higher refractive index. For such a reflection, there is always a phase jump of $\\phi$, which we have to consider. This is not occuring for the reflection at the second boundary, as we there go from a higher refractive index to a lower one. "
   ]
  },
  {
   "cell_type": "markdown",
   "metadata": {},
   "source": [
    "<div class=\"alert alert-info\">\n",
    "\n",
    "**Phase Jump at Boundaries**\n",
    "    \n",
    "Wave may experience phase jumps when being reflected.\n",
    "\n",
    "A light wave will experience a phase jump of $\\pi$ when being reflected by a medium of higher refractive index.     \n",
    "    \n",
    "A light wave will experience no phase jump when being reflected by a medium of lower refractive index. \n",
    "\n",
    "The physical reasons will be covered when we deal with the Fresnel formulas in electromagnetic optics.\n",
    "    \n",
    "</div>"
   ]
  },
  {
   "cell_type": "markdown",
   "metadata": {},
   "source": [
    "To get to know the properties of thin film interference a bit better we consider the normal incidence $\\alpha=0$, which leaves us with\n",
    "\n",
    "$$\n",
    "\\Delta \\phi=\\frac{2\\pi}{\\lambda}2dn+\\pi\n",
    "$$\n",
    "\n",
    "In case we are searching for constructive interference, this phase shift should correspond to an integer multiple of $2\\pi$, e.g. $\\Delta \\phi =m2\\pi$. From the last equation we see already, that for $d=0$, we have in principle a residual phase shift of $\\pi$, meaning that there is only destructive interference. Yet a film thickness of zeor does not really make sense.\n",
    "\n",
    "We would like to discuss two different situations in the following in an example. For that we either look at the thickness under which a constructive interference at a wavelength of $\\lambda$ occurs, or we ask what kind of wavelength do show constructive interference for a fixed thickness."
   ]
  },
  {
   "cell_type": "markdown",
   "metadata": {},
   "source": [
    "**Fixed Wavelength**\n",
    "\n",
    "For a fixed wavelength of $\\lambda$ we obtain a corresponding thickness for the constructive interference of\n",
    "\n",
    "$$\n",
    "d=\\frac{(2m-1)\\lambda}{4n}\n",
    "$$\n",
    "\n",
    "**Fixed Thickness**\n",
    "\n",
    "For a fixed thickness of $d$ we obtain constructive interference at\n",
    "\n",
    "$$\n",
    "\\lambda_{max}=\\frac{4nd}{2m-1}\n",
    "$$"
   ]
  },
  {
   "cell_type": "markdown",
   "metadata": {},
   "source": [
    "We can now have a look at two examples. "
   ]
  },
  {
   "cell_type": "markdown",
   "metadata": {},
   "source": [
    "**Example 1 - d=100 nm**\n",
    "\n",
    "If we look at a film thickness of $d=100$ nm and a film of $n=1.33$, which corresponds to water we obbtain constructive interference for \n",
    "\n",
    "$$\n",
    "\\lambda_{max}=\\frac{4\\cdot 100\\, {\\rm nm} \\cdot 1.33}{2m-1}\n",
    "$$\n",
    "\n",
    "or\n",
    "\n",
    "$$\n",
    "\\lambda_{max}=\\frac{ 532 {\\rm nm}}{2m-1}\n",
    "$$\n",
    "\n",
    "which yields for different values of $m$\n",
    "\n",
    "- $m=1$: 532 nm\n",
    "- $m=2$: 177 nm\n",
    "- $m=3$: 106 nm\n",
    "\n",
    "\n",
    "and so on. We see therefore that the longest wavelength to create constructive interference is $532$ nm, which is green light. The next longest wavelength is 177 nm, which is not visible anymore, so the reflection of a $d=100$ nm film would look green. The left plot in the figure below shows the intensity distribution over wavelength where you recognize that the maximum is very broad. "
   ]
  },
  {
   "cell_type": "markdown",
   "metadata": {},
   "source": [
    "|<img src=\"img/100nm_film.png\" width=\"40%\"> <img src=\"img/10nm_film.png\" width=\"40%\">|\n",
    "|-|\n",
    "| **Fig.:** Reflection from a 100 nm (left) and a 10 nm (right)thin water film.|"
   ]
  },
  {
   "cell_type": "markdown",
   "metadata": {},
   "source": [
    "An interesting effect is appearing, when the thickness of the water film get very thin. We may ask, when is no constructive interference observed. We therefore set the wavelength of the constructive interefence to $\\lambda_{max}=400\\, {\\rm nm}$ and calculate the film thickness for which this occurs. \n",
    "\n",
    "$$\n",
    "d=\\frac{(2m-1)\\lambda_{max}}{2n}\\approx 75\\, {\\rm nm}\n",
    "$$\n",
    "\n",
    "So for film thickness of water thinner than 75 nm, there is no constructive interference of the reflected light from the two boundaries in the visible region anymore. There will be still a reflection but no specific color. If the film gets even thinner, the intensity of the reflected light is further diminished by desctructive interference and whe obtain no reflection as shown on the right side of the above figure for a $d=10$ nm film. Such thin films, which do not show any reflection are called **Newton black films**. You might have seen them, if you look closer at soap bubbles. They will show regions, which look like holes, but of course there are no holes in soap bubbles. "
   ]
  },
  {
   "cell_type": "markdown",
   "metadata": {},
   "source": [
    "If the film gets thicker, e.g. $d=1$ µm or even $d=100$ µm, more than one constructive interference fits into the visible wavelength range. Due to that, the film may appear to have mixed colors or even look white. Below are the diagrams for those film thicknesses. "
   ]
  },
  {
   "cell_type": "markdown",
   "metadata": {},
   "source": [
    "|<img src=\"img/1µm_film.png\" width=\"40%\"> <img src=\"img/100µm_film.png\" width=\"40%\">|\n",
    "|-|\n",
    "| **Fig.:** Reflection from a 1 µm (left) and a 100 µm (right)thin water film.|"
   ]
  },
  {
   "cell_type": "markdown",
   "metadata": {},
   "source": [
    "|<img src=\"img/soap_film_lecture.png\" width=\"45%\"> <img src=\"img/soap_film_lecture1.png\" width=\"45%\">|\n",
    "|-|\n",
    "| **Fig.:** Experimental demonstration of the reflection of white light by a thin soap film.|"
   ]
  }
 ],
 "metadata": {
  "kernelspec": {
   "display_name": "Python 3 (ipykernel)",
   "language": "python",
   "name": "python3"
  },
  "language_info": {
   "codemirror_mode": {
    "name": "ipython",
    "version": 3
   },
   "file_extension": ".py",
   "mimetype": "text/x-python",
   "name": "python",
   "nbconvert_exporter": "python",
   "pygments_lexer": "ipython3",
   "version": "3.8.12"
  },
  "toc-autonumbering": false,
  "toc-showmarkdowntxt": false,
  "toc-showtags": false,
  "widgets": {
   "application/vnd.jupyter.widget-state+json": {
    "state": {},
    "version_major": 2,
    "version_minor": 0
   }
  }
 },
 "nbformat": 4,
 "nbformat_minor": 4
}
