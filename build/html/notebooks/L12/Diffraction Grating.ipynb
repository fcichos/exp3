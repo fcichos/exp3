{
 "cells": [
  {
   "cell_type": "markdown",
   "metadata": {},
   "source": [
    "# Diffraction Grating"
   ]
  },
  {
   "cell_type": "markdown",
   "metadata": {},
   "source": [
    "<style>\n",
    "figure {\n",
    "  border: 1px #cccccc solid;\n",
    "  padding: 4px; \n",
    "  display: block;\n",
    "  margin-left: auto;\n",
    "  margin-right: auto;\n",
    "}\n",
    "\n",
    "figcaption {\n",
    "  background-color: #eeeeee;\n",
    "  color: black;\n",
    "  padding: 2px;\n",
    "}\n",
    "</style>"
   ]
  },
  {
   "cell_type": "markdown",
   "metadata": {},
   "source": [
    "## Spectral resolution"
   ]
  },
  {
   "cell_type": "markdown",
   "metadata": {},
   "source": [
    "For the spectral resolution we have to define a criterium again, that allows us to quantify the spectral resolution. We borrow the idea we used from the optical resolution of the microscope, i.e. that two peaks are separable, if the second peak is located at the minimum of the first diffraction pattern. \n",
    "Here the diffraction patterns refer not to different objects on space but to different wavelength $\\lambda_1$ and $\\lambda_2$."
   ]
  },
  {
   "cell_type": "markdown",
   "metadata": {},
   "source": [
    "<figure>\n",
    "   <img src=\"img/grating_resolution.png\"width=\"100%\"> \n",
    "  <figcaption>**Fig.:** Rayleigh resolution limit a grating with $N=100$ slits ($d=4$ µm, $b=1$ µm) with $\\lambda_1=532$ nm and $\\lambda_2=537$ nm in the first order diffraction peak (left) and the second order peak (right).\n",
    "  </figcaption>\n",
    "</figure>"
   ]
  },
  {
   "cell_type": "markdown",
   "metadata": {},
   "source": [
    "Let us have a look at the $m$th order diffraction peak for the wavelength $\\lambda_1$. This occurs at\n",
    "\n",
    "$$\n",
    "\\sin(\\theta)=m\\frac{\\lambda_1}{d}\n",
    "$$\n",
    "\n",
    "The next secondary minimum to larger angles of the diffraction pattern is then located at a position, where the numerator of the multiple wave interference \n",
    "\n",
    "$$\n",
    "\\sin^2(N\\pi\\frac{d}{\\lambda}\\sin(\\theta))\n",
    "$$\n",
    "\n",
    "becomes zero or the argument\n",
    "\n",
    "$$\n",
    "N\\pi\\frac{d}{\\lambda}\\sin(\\theta)=l\\pi\n",
    "$$\n",
    "\n",
    "becomes a multiple $l$ of $\\pi$. For the first order main peak we have had already $N-2$ intermediate peaks as well as the 0th and now the first order peak. Therefore $m=l/N$ and the next mimimum after the 1st order peak is at\n",
    "\n",
    "$$\n",
    "\\sin(\\theta_1)=\\frac{l+1}{N}\\frac{\\lambda_1}{d}\n",
    "$$\n",
    "\n",
    "This angle has to correspond to the position of the main peak of the first order diffraction of the wavelength $\\lambda_2$, so \n",
    "\n",
    "$$\n",
    "\\sin(\\theta_1)=m\\frac{\\lambda_2}{d}\n",
    "$$\n",
    "\n",
    "Combining both equations for the two wavelength yields\n",
    "\n",
    "$$\n",
    "\\left (m+\\frac{1}{N} \\right )\\frac{\\lambda_1}{d}=m\\frac{\\lambda_2}{d}\n",
    "$$\n",
    "\n",
    "and after some rearrangements (and setting \\lambda_1=\\lambda)\n",
    "\n",
    "$$\n",
    "R=\\frac{\\lambda}{\\Delta \\lambda}=mN\n",
    "$$\n",
    "\n",
    "This is the resolving power $R$ of a grating. The ability to resolve two wavelength therefore increases with the diffraction order $m$ and the number of slits used for the diffraction. Yet, the intensity of higher diffraction orders rapidly decreases due to the grating envelope. Therefore, the main parameter to change is the number of illuminted slits."
   ]
  },
  {
   "cell_type": "markdown",
   "metadata": {},
   "source": [
    "Our finding is illustrated in the Figure above. Where we achieve a resolution of about 5 nm, when using $N=100$ slits at a distance of $d=4$ µm."
   ]
  },
  {
   "cell_type": "markdown",
   "metadata": {},
   "source": [
    "<figure>\n",
    "      <img src=\"img/red_light_grating.png\"width=\"45%\"> <img src=\"img/white_light_grating.png\"width=\"45%\"> \n",
    "  <figcaption>**Fig.:** Diffraction pattern observed for a grating in the lecture with red light (left) and white light (right).\n",
    "  </figcaption>\n",
    "</figure>"
   ]
  }
 ],
 "metadata": {
  "kernelspec": {
   "display_name": "Python 3 (ipykernel)",
   "language": "python",
   "name": "python3"
  },
  "language_info": {
   "codemirror_mode": {
    "name": "ipython",
    "version": 3
   },
   "file_extension": ".py",
   "mimetype": "text/x-python",
   "name": "python",
   "nbconvert_exporter": "python",
   "pygments_lexer": "ipython3",
   "version": "3.8.12"
  },
  "toc-autonumbering": false,
  "toc-showmarkdowntxt": false,
  "toc-showtags": false,
  "widgets": {
   "application/vnd.jupyter.widget-state+json": {
    "state": {},
    "version_major": 2,
    "version_minor": 0
   }
  }
 },
 "nbformat": 4,
 "nbformat_minor": 4
}
