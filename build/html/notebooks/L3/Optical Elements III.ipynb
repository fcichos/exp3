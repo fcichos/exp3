{
 "cells": [
  {
   "cell_type": "markdown",
   "metadata": {},
   "source": [
    "## Optical Elements Part III"
   ]
  },
  {
   "cell_type": "code",
   "execution_count": 5,
   "metadata": {},
   "outputs": [],
   "source": [
    "## just for plotting later\n",
    "\n",
    "import pandas as pd\n",
    "import numpy as np\n",
    "import matplotlib.pyplot as plt\n",
    "from spectrumRGB import wavelength_to_rgb\n",
    "%matplotlib inline\n",
    "%config InlineBackend.figure_format = 'retina' \n",
    "\n",
    "plt.rcParams.update({'font.size': 12,\n",
    "                     'axes.titlesize': 18,\n",
    "                     'axes.labelsize': 16,\n",
    "                     'axes.labelpad': 14,\n",
    "                     'lines.linewidth': 1,\n",
    "                     'lines.markersize': 10,\n",
    "                     'xtick.labelsize' : 16,\n",
    "                     'ytick.labelsize' : 16,\n",
    "                     'xtick.top' : True,\n",
    "                     'xtick.direction' : 'in',\n",
    "                     'ytick.right' : True,\n",
    "                     'ytick.direction' : 'in',}) "
   ]
  },
  {
   "cell_type": "markdown",
   "metadata": {},
   "source": [
    "### Lenses"
   ]
  },
  {
   "cell_type": "markdown",
   "metadata": {},
   "source": [
    "The most important optical elements are lenses, which come in many different flavors. They consist of curved surfaces, which most commonly have the shape of a part of a spherical cap. It is, therefore, useful to have a look at the refraction at spherical surfaces. "
   ]
  },
  {
   "cell_type": "markdown",
   "metadata": {},
   "source": [
    "#### Refraction at spherical surfaces"
   ]
  },
  {
   "cell_type": "markdown",
   "metadata": {},
   "source": [
    "For our calculations of the refraction at spherical surfaces, we consider the sketch below.  "
   ]
  },
  {
   "cell_type": "markdown",
   "metadata": {},
   "source": [
    "|<img src=\"img/curved_surface.png\" width=\"60%\">|\n",
    "|-|\n",
    "|**Fig.:** Refraction at a curved surface.|"
   ]
  },
  {
   "cell_type": "markdown",
   "metadata": {},
   "source": [
    "What we would like to calculate is the distance $b$ and the angle $\\theta_2$ at which a ray crosses the optical axis if it originated at a distance $a$ under an angle $\\theta_1$ on the left side. This will help us to obtain an imaging equation for a lens. For the above geometry we may write down Snell's law as\n",
    "\n",
    "$$n_{1}\\sin(\\alpha+\\theta_1)=n_{2}\\sin(\\alpha-\\theta_2).$$\n",
    "\n",
    "In addition, we may write down a number of definitions for the angular functions, which will turn out to be useful.\n",
    "\n",
    "- $\\sin(\\alpha)=\\frac{y}{R}$\n",
    "- $\\tan(\\theta_1)=\\frac{y}{a}$\n",
    "- $\\tan(\\theta_2)=\\frac{y}{b}$\n",
    "\n",
    "To find now an imaging equation, we do an approximation, which is very common in optics. This is the so called **paraxial** approximation. It assumes that all angles involved in the calculation are small, such that we can resort to the first order approaximation of the angular functions. At the end, this will yield a linearization of these function.\n",
    "For small angles, we obtain\n",
    "\n",
    "- $\\sin(\\theta)\\approx \\theta$\n",
    "- $\\cos(\\theta)\\approx 1$\n",
    "- $\\tan(\\theta)=\\frac{\\sin(\\theta)}{\\cos(\\theta)}\\approx \\theta$"
   ]
  },
  {
   "cell_type": "markdown",
   "metadata": {},
   "source": [
    "With the help of these approximations we can write Snell's law for the curved surface as\n",
    "\n",
    "$$n_1(\\alpha+\\theta_1)=n_2(\\alpha-\\theta_2).$$\n",
    "\n",
    "With some slight transformation which you will find in the video of the online lecture we obtain, therefore,\n",
    "\n",
    "$$\\theta_2=\\frac{n_2-n_1}{n_2 R}y -\\frac{n_1}{n_2}\\theta_1,$$\n",
    "\n",
    "which is a purely linear equation in $y$ and $\\theta_1$."
   ]
  },
  {
   "cell_type": "markdown",
   "metadata": {},
   "source": [
    "Let us now assume light is coming form a point a distance $y$ from the optical axis and there is a ray traveling parallel to the optical axis hitting the spherical surface at $y$, while a second ray is incident for $y=0$."
   ]
  },
  {
   "cell_type": "markdown",
   "metadata": {},
   "source": [
    "|<img src=\"img/image_curved.png\" width=\"60%\">|\n",
    "|-|\n",
    "|**Fig.:** Image formation at a curved surface.|"
   ]
  },
  {
   "cell_type": "markdown",
   "metadata": {},
   "source": [
    "We may apply our obatined formula for the two cases. \n",
    "\n",
    "\n",
    "$\\theta_1=0$:\n",
    "\n",
    "$$\\theta_2=\\frac{n_2-n_1}{n_2}\\frac{y}{R}$$\n",
    "$$\\theta_2=\\frac{y+\\Delta y}{b}$$\n",
    "\n",
    "and thus\n",
    "\n",
    "$$\\frac{y+\\Delta y}{b}=\\frac{n_2-n_1}{n_2}\\frac{y}{R}$$\n",
    "\n",
    "$y=0$:\n",
    "\n",
    "$$n_2\\frac{\\Delta y}{b}=n_1\\frac{y}{a}$$\n"
   ]
  },
  {
   "cell_type": "markdown",
   "metadata": {},
   "source": [
    "Combining both equations yields\n",
    "\n",
    "$$\\frac{n_1}{a}+\\frac{n_2}{b}=\\frac{n_2-n_1}{ R},$$\n",
    "\n",
    "where we define the new quantity **focal length** which only depends on the properties of the curved surface\n",
    "\n",
    "$$f=\\frac{n_2}{n_2-n_1}R.$$"
   ]
  },
  {
   "cell_type": "markdown",
   "metadata": {},
   "source": [
    "<div class=\"alert alert-info\">\n",
    "\n",
    "**Imaging Equation Spherical Refracting Surface**\n",
    "    \n",
    "The sum of the inverse object and image distances equals the inverse focal length of the spherical refracting surface\n",
    "\n",
    "$$\\frac{n_1}{g}+\\frac{n_2}{b}\\approx\\frac{n_2}{f},$$\n",
    "    \n",
    "where the focal length of the refracting surface is given by\n",
    "    \n",
    "$$f=\\frac{n_2}{n_2-n_1}R$$\n",
    "\n",
    "in the paraxial approximation.\n",
    "</div>"
   ]
  },
  {
   "cell_type": "markdown",
   "metadata": {},
   "source": [
    "#### Refraction with two spherical surfaces"
   ]
  },
  {
   "cell_type": "markdown",
   "metadata": {},
   "source": [
    "In our previous calculation we have found a linear relation between the incident angle $\\theta_1$ with the optical axis, the incident height of the ray $y$ and the outgoing angle $\\theta_2$:\n",
    "\n",
    "$$\\theta_2=\\frac{n_2-n_1}{n_2 R_1}y -\\frac{n_1}{n_2}\\theta_1.$$\n",
    "\n",
    "Remember that the refractive index $n_1$ is the one of the medium from where we enter the lens with a refractive index $n_2$. The radius of the first spherical surface is $R_1$. For a lens as displayed below, we have to consider now a second refraction, where we take the outgoing angle of the first refraction as the incident angle and we have to reverse the use of the refractive indices. The radius of the second spherical surface is now $R_2$ and its value will turn out to be negative as the curvature with respect to the optical axis has reversed. \n"
   ]
  },
  {
   "cell_type": "markdown",
   "metadata": {},
   "source": [
    "|<img src=\"img/thin_lens.png\" width=\"40%\">|\n",
    "|-|\n",
    "|**Fig.:** Refraction on two spherical surfaces.|"
   ]
  },
  {
   "cell_type": "markdown",
   "metadata": {},
   "source": [
    "When applying our equation a second time, we also need the second height $y^{\\prime}$ for the calculation. For a **thin lens**, we now have a thickness $d<<R_1, R_2$ much smaller than the radii of the spherical surfaces. From that we may assume that $y\\approx y^{\\prime}$, which means that the displacement in height of paraxial rays inside the lens can be neglected. If this is the case, we may just assume, that all refracting actions happening on a plane in the center of a lens, which is drawn above as the dashed line. This plane is the so-called **principle plane** of the thin lens and all image construction can be reduced to the plane.\n",
    "\n",
    "The result of the above calculation is leading to the imaging equation for the thin lens."
   ]
  },
  {
   "cell_type": "markdown",
   "metadata": {},
   "source": [
    "<div class=\"alert alert-info\">\n",
    "\n",
    "**Imaging Equation Thin Lens**\n",
    "    \n",
    "The sum of the inverse object and image distances equals the inverse focal length of the thin lens\n",
    "\n",
    "$$\\frac{1}{a}+\\frac{1}{b}\\approx\\frac{n_2-n_1}{n_1}\\left (\\frac{1}{R_1}-\\frac{1}{R_2}\\right )=\\frac{1}{f},$$\n",
    "    \n",
    "where the focal length of the thin lens is given by\n",
    "    \n",
    "$$f=\\frac{n_1}{n_2-n_1}\\left ( \\frac{R_1 R_2}{R_2 -R_1}\\right)$$\n",
    "\n",
    "in the paraxial approximation.\n",
    "</div>"
   ]
  },
  {
   "cell_type": "markdown",
   "metadata": {},
   "source": [
    "The equation for the focal length has some important consequence. It says that if the difference of the refractive indices inside ($n_2$) and outside $n_1$ get smaller, the focal length becomes larger and finally infinity. This can be nicely observed by placing a lens outside and inside a water filled basin as shown below."
   ]
  },
  {
   "cell_type": "markdown",
   "metadata": {},
   "source": [
    "|<img src=\"expimg/lens_contrast_out.png\" width=\"40%\"> <img src=\"expimg/lens_contrast_in.png\" width=\"40%\">|\n",
    "|-|\n",
    "|**Fig.:** Focusing of parallel rays by a lens in air ($n_1=1$, left) and in water ($n_1=1.36$, right). The images clearly show the change in focal length between the two situations.|"
   ]
  },
  {
   "cell_type": "markdown",
   "metadata": {},
   "source": [
    "#### Image Construction"
   ]
  },
  {
   "cell_type": "markdown",
   "metadata": {},
   "source": [
    "Images of objects can be now constructed if we refer to rays which do not emerge from a position on the optical axis only. In this case, we consider three different rays (two are actually enough). If we use as in the case of a concave mirror a central and a parallel ray, we will find a position where all rays cross on the other side. The conversion of the rays is exactly the same as in the case of a spherical mirror. The relation between the position of the object and the image along the optical axis is described by the imaging equation."
   ]
  },
  {
   "cell_type": "markdown",
   "metadata": {},
   "source": [
    "|<img src=\"img/thin_lens_imaging.png\" width=\"40%\">|\n",
    "|-|\n",
    "|**Fig.:** Image construction on a thin lens.|"
   ]
  },
  {
   "cell_type": "markdown",
   "metadata": {},
   "source": [
    "Similar to the concave mirror, we may now also find out the image size or the magnification of the lens.\n"
   ]
  },
  {
   "cell_type": "markdown",
   "metadata": {},
   "source": [
    "<div class=\"alert alert-info\">\n",
    "\n",
    "**Magnification of a Lens**\n",
    "    \n",
    "The magnification is given by \n",
    "\n",
    "$$M=\\frac{h_{\\rm image}}{h_{\\rm object}}=-\\frac{b}{a}=\\frac{f}{f-a}$$\n",
    "\n",
    "where the negative sign is the result of the reverse orientation of the real images created by a lens.    \n",
    "</div>"
   ]
  },
  {
   "cell_type": "markdown",
   "metadata": {},
   "source": [
    "According to our previous consideration $M<0$ corresponds to a reversed image, while it is upright as the object for $M>0$. We, therefore, easily see the following:\n",
    "\n",
    "- for $a<f$ the image is upright and magnified (image is virtual however)\n",
    "- for $a>f$ the image is always reversed (image is real)\n",
    "- for $2f>a>f$ the image is magnified \n",
    "- for $a>2f$ the image is shrinked\n",
    "- for $a=f$ the image appears at infinity with $M=\\infty$\n"
   ]
  },
  {
   "cell_type": "markdown",
   "metadata": {},
   "source": [
    "The image below shows the construction of images in 4 of the above cases for a bi-convex lens including the gerenation of a virtual image."
   ]
  },
  {
   "cell_type": "markdown",
   "metadata": {},
   "source": [
    "|<img src=\"img/image_construction.png\" width=\"80%\">|\n",
    "|-|\n",
    "|**Fig.:** Image construction on a biconvex lens with a parallel and a central ray for different object distances.|"
   ]
  },
  {
   "cell_type": "markdown",
   "metadata": {
    "tags": []
   },
   "source": [
    "### Thick lens"
   ]
  },
  {
   "cell_type": "markdown",
   "metadata": {},
   "source": [
    "For a thin lens, the displacement of the beam in height ($y,y^{\\prime}$) due to the thickness has been neglected. That means that we can reduce all refracting action of the lens to a single plane, which we call a principle plane. This approximation is (independent of the paraxial approximation) not anymore true for lenses if the displacement $\\Delta$ of the ray as in the image below cannot be neglected. Such lenses are called **thick lenses** and they do not have a single principle plane anymore. In fact, the principle plane splits up into two principle planes at a distance $h$."
   ]
  },
  {
   "cell_type": "markdown",
   "metadata": {},
   "source": [
    "|<img src=\"img/thick_lens.png\" width=\"40%\">|\n",
    "|-|\n",
    "| **Fig.:** Thick lens principle planes.|"
   ]
  },
  {
   "cell_type": "markdown",
   "metadata": {},
   "source": [
    "As indicated in the sketch above, an incident ray which is not deflected can be extended to its intersection with the optical axis at a point, which is a distance $h_1$ behind the lens surface. This is the location for the first principle plane. The position of the second principle plane at a distance $h_2$ before the back surface is found for by reversing the ray path. According to that, both principle planes have a distance $h=d-h_1+h_2$ (mind the sign of the $h$). Using some mathematical effort, one can show that the same imaging equation as for a thins lens can be used with a new definition of the focal length and taking into account that object and image distances refer to their principle planes. "
   ]
  },
  {
   "cell_type": "markdown",
   "metadata": {},
   "source": [
    "<div class=\"alert alert-info\">\n",
    "\n",
    "**Imaging Equation Thick Lens**\n",
    "    \n",
    "The sum of the inverse object and image distances to the principle planes ($H_1,H_2$) equals the inverse focal length of the thin lens\n",
    "\n",
    "$$\\frac{1}{a}+\\frac{1}{b}\\approx\\frac{1}{f},$$\n",
    "    \n",
    "where the inverse focal length of the thick lens is given by\n",
    "    \n",
    "$$\\frac{1}{f}=n-1\\left (\\frac{1}{R_1}-\\frac{1}{R_2}+\\frac{(n-1)d}{n R_1 R_2}\\right )$$\n",
    "\n",
    "in the paraxial approximation.\n",
    "</div>"
   ]
  },
  {
   "cell_type": "markdown",
   "metadata": {},
   "source": [
    "The location of the two principle planes are found to be\n",
    "\n",
    "$$h_{1}=-\\frac{(n-1)f d}{n R_2}$$\n",
    "$$h_{2}=-\\frac{(n-1)f d}{n R_1}$$\n",
    "\n"
   ]
  },
  {
   "cell_type": "markdown",
   "metadata": {},
   "source": [
    "As compared to the construction of an image on a thin lens, we now have to consider some pecularities for the thick lens. An incident parallel ray, which turns into a focal ray is now refracted at the second principle plane. The reverse must, therefore, be true for an incident focal ray. This ray is refracted on the first principle plane. The central ray is deflected on both principle planes. It is incident under a certain angle at the first principle plane and outgoing with the same principle angle to the second principle plane. The sketch below summarizes these issues for a thick lens."
   ]
  },
  {
   "cell_type": "markdown",
   "metadata": {},
   "source": [
    "|<img src=\"img/thick_lens_construction.png\" width=\"50%\">|\n",
    "|-|\n",
    "| **Fig.:** Thick lens image construction. |\n",
    "\n"
   ]
  },
  {
   "cell_type": "markdown",
   "metadata": {},
   "source": [
    "### Lens types"
   ]
  },
  {
   "cell_type": "markdown",
   "metadata": {},
   "source": [
    "Depending on the radii of curvature and their sign, one can now construct different types of lenses, that are used in many applications. Modern microscopy lenses, for example, contain sometimes up to 20 different lenses with "
   ]
  },
  {
   "cell_type": "markdown",
   "metadata": {},
   "source": [
    "|<img src=\"img/lens_types.png\" width=\"40%\">|\n",
    "|-|\n",
    "|**Fig.:** Different lens types.|"
   ]
  },
  {
   "cell_type": "markdown",
   "metadata": {},
   "source": [
    "|<img src=\"expimg/convex_plane_thick.png\" width=\"32%\"> <img src=\"expimg/convex_plane_thin.png\" width=\"32%\"> <img src=\"expimg/bi-concave_lens.png\" width=\"32%\">|\n",
    "|-|\n",
    "|**Fig.:** Focusing behavior of a few different lens types.|"
   ]
  }
 ],
 "metadata": {
  "kernelspec": {
   "display_name": "Python 3 (ipykernel)",
   "language": "python",
   "name": "python3"
  },
  "language_info": {
   "codemirror_mode": {
    "name": "ipython",
    "version": 3
   },
   "file_extension": ".py",
   "mimetype": "text/x-python",
   "name": "python",
   "nbconvert_exporter": "python",
   "pygments_lexer": "ipython3",
   "version": "3.8.12"
  },
  "toc-autonumbering": false,
  "toc-showmarkdowntxt": false,
  "widgets": {
   "application/vnd.jupyter.widget-state+json": {
    "state": {},
    "version_major": 2,
    "version_minor": 0
   }
  }
 },
 "nbformat": 4,
 "nbformat_minor": 4
}
