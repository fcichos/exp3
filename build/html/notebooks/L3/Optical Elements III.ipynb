{
 "cells": [
  {
   "cell_type": "markdown",
   "metadata": {},
   "source": [
    "## Optical Elements Part III"
   ]
  },
  {
   "cell_type": "markdown",
   "metadata": {},
   "source": [
    "### Thick lens"
   ]
  },
  {
   "cell_type": "markdown",
   "metadata": {},
   "source": [
    "For a thin lens, the displacement of the beam in height ($y,y^{\\prime}$) due to the thickness has been neglected. That means that we can reduce all refracting action of the lens to a single plane, which we call a principle plane. This approximation is (independent of the paraxial approximation) not anymore true for lenses if the displacement $\\Delta$ of the ray as in the image below cannot be neglected. Such lenses are called **thick lenses** and they do not have a single principle plane anymore. In fact, the principle plane splits up into two principle planes at a distance $h$."
   ]
  },
  {
   "cell_type": "markdown",
   "metadata": {},
   "source": [
    "|<img src=\"img/thick_lens.png\" width=\"40%\">|\n",
    "|-|\n",
    "| **Fig.:** Thick lens principle planes.|"
   ]
  },
  {
   "cell_type": "markdown",
   "metadata": {},
   "source": [
    "As indicated in the sketch above, an incident ray which is not deflected can be extended to its intersection with the optical axis at a point, which is a distance $h_1$ behind the lens surface. This is the location for the first principle plane. The position of the second principle plane at a distance $h_2$ before the back surface is found for by reversing the ray path. According to that, both principle planes have a distance $h=d-h_1+h_2$ (mind the sign of the $h$). Using some mathematical effort, one can show that the same imaging equation as for a thins lens can be used with a new definition of the focal length and taking into account that object and image distances refer to their principle planes. "
   ]
  },
  {
   "cell_type": "markdown",
   "metadata": {},
   "source": [
    "<div class=\"alert alert-info\">\n",
    "\n",
    "**Imaging Equation Thick Lens**\n",
    "    \n",
    "The sum of the inverse object and image distances to the principle planes ($H_1,H_2$) equals the inverse focal length of the thin lens\n",
    "\n",
    "$$\\frac{1}{a}+\\frac{1}{b}\\approx\\frac{1}{f},$$\n",
    "    \n",
    "where the inverse focal length of the thick lens is given by\n",
    "    \n",
    "$$\\frac{1}{f}=n-1\\left (\\frac{1}{R_1}-\\frac{1}{R_2}+\\frac{(n-1)d}{n R_1 R_2}\\right )$$\n",
    "\n",
    "in the paraxial approximation.\n",
    "</div>"
   ]
  },
  {
   "cell_type": "markdown",
   "metadata": {},
   "source": [
    "The location of the two principle planes are found to be\n",
    "\n",
    "$$h_{1}=-\\frac{(n-1)f d}{n R_2}$$\n",
    "$$h_{2}=-\\frac{(n-1)f d}{n R_1}$$\n",
    "\n"
   ]
  },
  {
   "cell_type": "markdown",
   "metadata": {},
   "source": [
    "As compared to the construction of an image on a thin lens, we now have to consider some pecularities for the thick lens. An incident parallel ray, which turns into a focal ray is now refracted at the second principle plane. The reverse must, therefore, be true for an incident focal ray. This ray is refracted on the first principle plane. The central ray is deflected on both principle planes. It is incident under a certain angle at the first principle plane and outgoing with the same principle angle to the second principle plane. The sketch below summarizes these issues for a thick lens."
   ]
  },
  {
   "cell_type": "markdown",
   "metadata": {},
   "source": [
    "|<img src=\"img/thick_lens_construction.png\" width=\"50%\">|\n",
    "|-|\n",
    "| **Fig.:** Thick lens image construction. |\n",
    "\n"
   ]
  }
 ],
 "metadata": {
  "kernelspec": {
   "display_name": "Python 3 (ipykernel)",
   "language": "python",
   "name": "python3"
  },
  "language_info": {
   "codemirror_mode": {
    "name": "ipython",
    "version": 3
   },
   "file_extension": ".py",
   "mimetype": "text/x-python",
   "name": "python",
   "nbconvert_exporter": "python",
   "pygments_lexer": "ipython3",
   "version": "3.8.12"
  },
  "widgets": {
   "application/vnd.jupyter.widget-state+json": {
    "state": {},
    "version_major": 2,
    "version_minor": 0
   }
  }
 },
 "nbformat": 4,
 "nbformat_minor": 4
}
