{
 "cells": [
  {
   "cell_type": "markdown",
   "id": "c65c8195-43a3-4294-b124-df226219fe2d",
   "metadata": {},
   "source": [
    "# Waves of Matter and their Wave Functions"
   ]
  },
  {
   "cell_type": "markdown",
   "id": "7a6f5905-e056-4100-bfe4-595dcb8f5c7a",
   "metadata": {},
   "source": [
    "In order to properly descripe the wave character of a particle with mass $m$ that is porpagating along teh $z$ direction we chose a similar ansatz as for elkectromagnetic light, \n",
    "\n",
    "$$\n",
    "\\Psi \\left( z,t \\right) = C \\cdot \\mathrm{e}^{i\\left(\\omega t - k z  \\right)} \\mathrm{.}\n",
    "$$\n",
    "\n",
    "Even though we are stil discussing properties of matter, the above equation has the shape of a wave function. Thus, one ofter referes to **matter waves**. In accord to the de Broglie wavelength and the analogue description of atomistic particles as waves, we can derive the kinetic energy as \n",
    "\n",
    "$$\n",
    "E_{\\mathrm{kin}} = \\hbar \\cdot \\omega\n",
    "$$\n",
    "\n",
    "and the moentum as\n",
    "\n",
    "$$\n",
    "p = \\hbar k \\mathrm{,}\n",
    "$$\n",
    "\n",
    "which allows us to reformulate the wave equation as\n",
    "\n",
    "$$\n",
    "\\Psi \\left( z,t \\right) = C \\cdot \\mathrm{e}^{\\frac{i}{\\hbar} \\left(E t - p z  \\right)} \\mathrm{.}\n",
    "$$\n",
    "Thi This "
   ]
  },
  {
   "cell_type": "code",
   "execution_count": null,
   "id": "f40ddf74-c3bb-45a9-bee3-710661164e13",
   "metadata": {},
   "outputs": [],
   "source": []
  }
 ],
 "metadata": {
  "kernelspec": {
   "display_name": "Python 3 (ipykernel)",
   "language": "python",
   "name": "python3"
  },
  "language_info": {
   "codemirror_mode": {
    "name": "ipython",
    "version": 3
   },
   "file_extension": ".py",
   "mimetype": "text/x-python",
   "name": "python",
   "nbconvert_exporter": "python",
   "pygments_lexer": "ipython3",
   "version": "3.8.12"
  },
  "widgets": {
   "application/vnd.jupyter.widget-state+json": {
    "state": {},
    "version_major": 2,
    "version_minor": 0
   }
  }
 },
 "nbformat": 4,
 "nbformat_minor": 5
}
