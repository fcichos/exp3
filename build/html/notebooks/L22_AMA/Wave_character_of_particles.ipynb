{
 "cells": [
  {
   "cell_type": "markdown",
   "id": "4049d202-4752-410f-b0e6-69c1776ad8c6",
   "metadata": {},
   "source": [
    "# The Wave Character of Particles"
   ]
  },
  {
   "cell_type": "markdown",
   "id": "c0fe8a62-8a4a-4497-8760-98e0efc6fb3f",
   "metadata": {},
   "source": [
    "## Electron diffraction and de Broglie wavelength"
   ]
  },
  {
   "cell_type": "markdown",
   "id": "55b0e722-9db7-4a64-a0a6-f7ba3ef86ad6",
   "metadata": {},
   "source": [
    "On the basis of the particle-like character of electromagnatic wave de Broglie wondered about a wave-like character of corpuscle. In order to discuss this issue and derive an expression for the wavelength of a particle de Broglie combined classical mechanic and the new quantum model of light. Let's take a particle of mass $m$ travelling with a speed of $v$ the momentum $p$ of thus particle is given through\n",
    "\n",
    "$$\n",
    "p = m \\cdot v \\mathrm{.}\n",
    "\n",
    "$$\n",
    "\n",
    "From the quantum model of light we know that the momentum of a photon can be expressed as\n",
    "\n",
    "$$\n",
    "p = \\hbar \\cdot k = \\frac{h}{\\lambda}\n",
    "$$\n",
    "\n",
    "If we now combine both equations assuming both descriptions of the momentum coincide, we are able to propose the wavelength for a corpuscle, namely\n",
    "\n",
    "$$\n",
    "\\lambda = \\frac{h}{p} = \\frac{h}{\\sqrt{2 m E_{\\mathrm{kin}}}} \\mathrm{.}\n",
    "$$\n",
    "\n",
    "This very same proposal was first published by de Brogly and the wavelength of a particle calculated in accord to this equation is named **de Broglie wavelength**.\n",
    "\n",
    "Indeed, in 1926 Davission and Germer recorded diffraction rings of electrons which were deflected during passing through a thin foil of crystalline material. Furthermore, the diameter of the rings was decreasing for increasing accerlating voltage of teh electrons.\n",
    "We can explain the results of Davisson and Germer as follows. If we accelerate electrons by means of a voltage $U$ to a speed $v$ ($v \\ll c$), the kinetic energy of the electrons is given through\n",
    "\n",
    "$$\n",
    "E_{\\mathrm{kin}} = e \\cdot U\n",
    "$$\n",
    "\n",
    "and their wavelength is given through \n",
    "\n",
    "$$\n",
    "\\lambda = \\frac{h}{\\sqrt{2 m e U}} \\mathrm{.}\n",
    "$$\n",
    "\n",
    "Thus, the wavelength of the electrons depends inversely on the sqare root of the accerlating voltage. If we now remember for the lecture about diffraction grating, the width of the $0$-th order maximum does depend inversly on the wavelength. In summary, the decrease of the diffraction ring for increasing accelerating voltage can be fully explained with the aid of an increased de Broglie wavelength. As a consequence, electrons so far considered as particles clearly exhibited wave-like properties in accord to de Broglie's hypothetis.\n",
    "\n",
    "In addition, de Broglie's consideration of small particles behaving like waves is not limitted to electrons only. If we direct a beam of neutral He atoms onto a single slit of width $12 \\;\\mu\\mathrm{m}$ being $64 \\;\\mathrm{cm}$ apart from a double slit ($1 \\;\\mu\\mathrm{m}$ each, $8 \\;\\mu\\mathrm{m}$ seperated), then the diffracted *wave of He atoms* gives rise to a diffraction pattern identical to diffraction patterns from Young's double-slit experiment with the according wavelength. Furthermore, it has been demonstrated that *waves of neutral atoms* can be diffracted on standing waves of light. This underpins the **equivalence of describing atomistics particles by means of the de Broglie wavelength or electromagnetic waves by means of the quantum model**."
   ]
  }
 ],
 "metadata": {
  "kernelspec": {
   "display_name": "Python 3 (ipykernel)",
   "language": "python",
   "name": "python3"
  },
  "language_info": {
   "codemirror_mode": {
    "name": "ipython",
    "version": 3
   },
   "file_extension": ".py",
   "mimetype": "text/x-python",
   "name": "python",
   "nbconvert_exporter": "python",
   "pygments_lexer": "ipython3",
   "version": "3.8.12"
  },
  "widgets": {
   "application/vnd.jupyter.widget-state+json": {
    "state": {},
    "version_major": 2,
    "version_minor": 0
   }
  }
 },
 "nbformat": 4,
 "nbformat_minor": 5
}
