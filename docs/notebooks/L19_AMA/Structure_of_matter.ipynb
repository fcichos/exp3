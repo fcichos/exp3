{
 "cells": [
  {
   "cell_type": "markdown",
   "id": "cb0f3815-f182-4728-9ae4-7098c17d0042",
   "metadata": {},
   "source": [
    "# The Structure of Matter - a Historical Approach"
   ]
  },
  {
   "cell_type": "markdown",
   "id": "2cb1c4f8-20d8-4313-a14e-ff72c95dd9e5",
   "metadata": {},
   "source": [
    "## Do atoms exist?"
   ]
  },
  {
   "cell_type": "markdown",
   "id": "4a7c3729-30c7-4cb4-9a0a-8189aebf6077",
   "metadata": {},
   "source": [
    "We would like to briefly introduce historic experiments facing the question, whether atoms really exists. Therefore, we will discuss Dolaton's law and the law of Gay-Lussac before we resolve the structure of atoms an the basis of Thomson's and Rutherford's experiments.\n",
    "\n",
    "The oldest documents about the structure of matter being composed of infinite small, but space-filling particles originate from the Greek philosophers *Leukip* and *Demokrit*. Those particles differ in size and shape, and properties of objects on the macroscopic scale arise from the arrangement of these particles. Since they assumed these particles are indivisible, they named them \"*$\\alpha \\tau o \\mu o \\zeta$\" (atoms). One century later, *Epikur* refined the picture of atoms through ascribing the characteristic of mass to these particles, in addition to space demand."
   ]
  },
  {
   "cell_type": "markdown",
   "id": "9c0e64c5-7215-46ad-8046-35a7f3958351",
   "metadata": {},
   "source": [
    "## Atoms and molecules"
   ]
  },
  {
   "cell_type": "markdown",
   "id": "ca8a0b34-1a0c-40a3-bd95-0184c9469a3a",
   "metadata": {},
   "source": [
    "### Dalton's law"
   ]
  },
  {
   "cell_type": "markdown",
   "id": "7b474aa4-6da8-40a0-8a4f-41880c2b5454",
   "metadata": {},
   "source": [
    "On the basis of precise quantitative analyses of chemical reaction and the ratios of educts and products, John Dalton developed the idea that every chemical compound is composed of substances, whereas the ratio of these substance is constant for a particular compound and the ratio unambiguously identifies a compound. In 1803 Dalton developed his idea of a chemical reaction being the separation and association of atoms, and published this idea in 1808 \"*A New System of Chemical Philosophy*\". This publication stated three postulates:\n",
    "- All chemical elements are composed of small particles which cannot be dismantled any further.\n",
    "- All atoms of the same chemical element are identical in quality, size, and mass. However, these properties differ from the according properties of other elements. Consequently, the characteristics of an element are governed through the properties of its atoms.\n",
    "- If chemical elements form a chemical compounds, their atoms associate in a ratio of integers."
   ]
  },
  {
   "cell_type": "markdown",
   "id": "9634bc01-eb4b-49e6-86c3-e976158e92c5",
   "metadata": {},
   "source": [
    "### The law of Gay-Lussac"
   ]
  },
  {
   "cell_type": "markdown",
   "id": "71e2ed40-3319-4446-bcdb-83ec4e038072",
   "metadata": {},
   "source": [
    "In 1805 Joseph Louis Gay-Lussac and Alexander von Humboldt discovered that hydrogen and oxygen at the same (partial-) pressure associate to water if they use volume ratios of 2:1, respectively. Later Gay-Lussac published: \"If two or more gaseous substances associate at equal pressure and equal temperature, their volumes have an integer ratio\"."
   ]
  },
  {
   "cell_type": "markdown",
   "id": "007e1b4e-6508-4531-91b8-d0d202956d0d",
   "metadata": {},
   "source": [
    "### The Avogadro number"
   ]
  },
  {
   "cell_type": "markdown",
   "id": "886b167e-2de4-407e-a71c-9abd33e2bd7e",
   "metadata": {},
   "source": [
    "In 1811 Amadeo Avogadro introduced the term \"molecule\" as smallest particle of a gas which has the same characteristics as the gas itself. As a consequence Avogadro stated that at identical pressure and temperature equally big volumes of different gasses contain the same number of molecules. On the basis of his experimental findings, the term \"molar volume\" was introduced. The first definition was molar volume is the volume of 1 mol of a gas at standard conditions ($p = 1013\\mbox{ hPa}, T = 0 \\mbox{ C}^{\\circ}$), whereas the weight of the gas in gramm corresponds to the molecular weight of the gas molecules. The modern, general definition of 1 mol is the number of particles which corresponds to 12 g of carbon ${}^{12}\\mbox{C}$ and is valid for non-gaseous substances as well. The molar volume is $V_{\\mathrm{M}} = 22.414\\mbox{ l}$ and the Avogadro number $N_{\\mbox{A}} = 6.022 \\cdot 10^{23} \\mbox{ mol}^{-1}$.\n",
    "\n",
    "These experimental findings and concepts pathed the way for the modern understanding that mater is generally composed of atoms."
   ]
  },
  {
   "cell_type": "markdown",
   "id": "5e41388f-ad95-47b4-bc43-3ba6b83f1d18",
   "metadata": {},
   "source": [
    "## The Structure of atoms"
   ]
  },
  {
   "cell_type": "markdown",
   "id": "9fa85ded-986b-4500-ac0c-7e23ecc764f4",
   "metadata": {},
   "source": [
    "### Indication of charged particles within atoms"
   ]
  },
  {
   "cell_type": "markdown",
   "id": "85746aa5-9336-44af-90c1-b0ce98ce5809",
   "metadata": {},
   "source": [
    "At the end of the 19th century experimental findings accumulated indicating matter bears charged particles. The main results were:\n",
    "- Experiments on electrolytic current demonstrated that molecules can dissociate, whereas the resulting ions migrate in opposite directions and transport charges and mass.\n",
    "- Gas dicharging phenomena are influenced through electric and magnetic fields. Thus, discharging is correlated to motion of charged particles.\n",
    "- Magnetic phenomena arise from electric conduction in metals and semiconductors.\n",
    "- $\\alpha$ and $\\beta$ radiation are deflected through magnetic fields; $\\alpha$ and $\\beta$ particles are positively charged, heavy particles and negatively charged, light particles, respectively.\n",
    "Consequently the concept of matter being composed of atoms was extended. Atoms in turn consist of positively and negatively charged particles which bear mass and charge.\n",
    "\n",
    "Johann Wilhelm Hittorf observed in a gas discharge tubes that particles emitted from a cathode propagate at straight lines. Moreover, these particles can be deflected with the aid of a magnet. As a consequence of the emission from the cathode and the direction of the magnetic poles, these particles had to be negatively charged. Later in 1897, Joseph John Thomson determined the charge-to-mass ratio $e/m$ and demonstrated that this ratio is independent of the cathode material. In constrast to charged particles emitted from the cathode, Eugen Goldstein observed in 1886 a ray emitted from the anode which is propagating in the opposite direction than the cathode ray. In 1887 Wilhelm Wien reported from a $10^{-4}$ reduced charge-to-mass ratio of this anode ray and concluded that these particles are charged gas ions.\n",
    "\n",
    "In 1899 Thomson and Charles Wilson studied sinking droplets of condensed water vapor. The speed of falling was depending on the size of the droplets and the viscosity of the retarding gas. While measuring the amount of water and charges Thomson and Wilson were able to estimate the elementary charge of about $10^{-19} \\mbox{ C}$. In 1910 Robert Andrews Millikan studied oil droplets rising and falling in a capacitor. On the basis of this method, the elementary charge is determined as $e = 1.602\\cdot 10^{-19} \\mbox{ C}$. \n",
    "\n",
    "Concerning the mass of an electron, its value is still only accessible via the charge-to-mass ratio. A precise measurement of the $e/m$ ratio is possible with a Wien filter. To do so, an electron is accelerated by means of a voltage, whereas perpendicular to the propagation direction an electric filed deflects the electron beam. In addition a magnetic field is used to compensate the deflection. Thus, the $e/m$ ratio depends only on the applied accelerating voltage and the electric and magnetic fields."
   ]
  },
  {
   "cell_type": "markdown",
   "id": "9fca4731-2293-4d38-b298-ff56dc9f4c82",
   "metadata": {},
   "source": [
    "### The Thomson model"
   ]
  },
  {
   "cell_type": "markdown",
   "id": "3d468183-2a85-4aab-af46-4661323df3f6",
   "metadata": {},
   "source": [
    "At the beginning of the 20th century only negatively charged electrons as cathode rays and positively charged $\\alpha$ particles were available for scattering experiments. However, if $\\alpha$ particles are scattered at atoms, the electrons will have only a minor effect. The scattering depends for the most part on the spatial arrangement of positive charges within the atoms.\n",
    "\n",
    "As a first attempt, in 1904 Thompson proposed the **\"Plump Pudding Model\"**. According to this model every atom consists of a number of $Z$ electrons with a cumulative charge of $-Z\\cdot e$ and a number of $Z$ positive charges. Thus, the atoms appear neutral on teh macroscopic scale. \n",
    "\n",
    "<figure>\n",
    "      <img src=\"img/Lecture19_thomson.png\" width=\"50%\">\n",
    "  <figcaption>**Fig.: Model of an atom as proposed by Tomson. The equal amount of positive and negative charges are distributed across the atom volume.** \n",
    "  </figcaption>\n",
    "</figure>\n",
    "\n",
    "Indication of a not-sufficient description is provided on the basis of simple calculations. If the $Z$ electrons are equally distributed within a sphere with the radius $R$ the electron density would measure\n",
    "$$\n",
    "n_e = \\frac{Z}{\\frac{4}{3}\\pi R^3} \\mathrm{.}\n",
    "$$ \n",
    "Then, the plasma frequency would result in \n",
    "$$\n",
    "\\omega_p = \\sqrt{\\frac{n_e \\cdot e^2}{\\epsilon_0 \\cdot m_e}} = \\sqrt{\\frac{3 Z e^2}{4 \\pi \\epsilon_0 R^3 m_e}} \\mathrm{.}\n",
    "$$\n",
    "However, the estimated absorption and emission frequencies did not coincide with experimental results."
   ]
  },
  {
   "cell_type": "markdown",
   "id": "35a16320-c7fe-4bbb-8fcd-c83dc5ffd3ba",
   "metadata": {},
   "source": [
    "### The Rutherford model"
   ]
  },
  {
   "cell_type": "markdown",
   "id": "1bc2c366-d652-4cb3-a07d-05c1c9579411",
   "metadata": {},
   "source": [
    "In 1909 Rutherford, Geiger and Marsden conducted scattering experiments of $\\alpha$ particles on gold foil. By means of a new, turnable apparatus they were able to detect angles of scattering up to $180^{\\circ}$. They recorded scattering signals at such angles which clearly contradicted the plump pudding model. In 1911 Rutherford proposed a model that explains the scattering signal. As a consequence all positive charges have to be compacted in a small volume at the center of an atom, and so most of the mass.\n",
    "\n",
    "In order to calculate how the $\\alpha$ particles are scattered we define the number of particles per unit time impinging on an area $A$ of the scattering volume $V$ being $\\dot{N} \\cdot A$ and the number of particles per unit time being scattered into the solid angle $\\Delta \\Omega$ around $\\vartheta$ being $\\Delta \\dot{N} \\left( \\vartheta, \\Omega \\right)$. The fraction of impinging particles being scattered into the solid angle $\\Delta \\Omega$ then results in\n",
    "\n",
    "$$\n",
    "\\frac{\\Delta \\dot{N}}{\\dot{N} \\cdot A} = n_B \\; \\frac{V}{A} \\; \\frac{\\mathrm{d} \\sigma}{\\mathrm{d} \\Omega} \\Delta \\Omega = n_B \\; \\Delta x \\; \\frac{\\mathrm{d} \\sigma}{\\mathrm{d} \\Omega} \\; \\Delta \\Omega \\mathrm{,}\n",
    "$$\n",
    "\n",
    "which is determined through the density of scattering centers $n_B$, the length of the scattering path $\\Delta x$, and the scattering cross section $\\frac{\\mathrm{d} \\sigma}{\\mathrm{d} \\Omega}$.\n",
    "\n",
    "Concerning scattering on a Coulomb potential with the point-like charge $Z\\cdot e$ we make use of the relation between the scattering angle $\\vartheta$ and impact parameter $b$\n",
    "\n",
    "$$\n",
    "\\cot \\left( \\frac{\\vartheta}{2} \\right) = \\frac{4 \\pi \\epsilon_0}{q Q} \\mu v_0^2 b\n",
    "$$\n",
    "\n",
    "with $q=2e$, $Q=Ze$, and $\\mu = \\mu_{\\alpha} \\mu_{C}/(\\mu_{\\alpha}+\\mu_{C})$. The latter denote the reduced mass of an $\\alpha$ particle and the atomic core. In order to calculate the fraction of particles being scattered at an angle $\\vartheta \\pm \\frac{1}{2} \\Delta \\vartheta$ and reaching the detector with an area of \n",
    "\n",
    "$$\n",
    "\\Delta A_D = R \\sin \\left( \\vartheta \\right) \\cdot R \\Delta \\vartheta \\Delta \\phi = R^2 \\sin \\left( \\vartheta \\right) \\; \\Delta \\Omega\n",
    "$$\n",
    "\n",
    "we make use of the definition of the differential scattering cross section \n",
    "\n",
    "$$\n",
    "\\frac{\\mathrm{d}\\sigma}{\\mathrm{d}\\Omega} = b \\cdot \\frac{\\mathrm{d}b}{\\mathrm{d}\\vartheta}  \\frac{1}{\\sin \\left( \\vartheta \\right)} \n",
    "$$\n",
    "\n",
    "and calculate the derivative of $b$ with respect to $\\vartheta$\n",
    "\n",
    "$$\n",
    "\\frac{\\mathrm{d}b}{\\mathrm{d}\\vartheta} = \\frac{qQ}{8 \\pi \\epsilon_0 \\mu v_0^2}  \\frac{1}{\\sin^2 \\left( \\frac{\\vartheta}{2} \\right)} \\mathrm{.}\n",
    "$$\n",
    "\n",
    "When making again use of the relation between the scattering angle $\\vartheta$ and impact parameter $b$ and the relation $\\sin \\left( \\vartheta \\right) = 2 \\sin \\left( \\frac{\\vartheta}{2} \\right)\\cos \\left( \\frac{\\vartheta}{2} \\right)$, we can calculate the differential scattering cross section of a particle with charge $q$ and reduced mass $\\mu$ in the Coulomb field of the charge $Q$ \n",
    "\n",
    "$$\n",
    "\\frac{\\mathrm{d} \\sigma}{\\mathrm{d}\\Omega} = \\frac{1}{4} \\left( \\frac{qQ}{4 \\pi \\epsilon_0 \\mu v_0^2} \\right)^2 \\; \\frac{1}{\\sin^4 \\left( \\frac{\\vartheta}{2} \\right)}\n",
    "$$\n",
    "\n",
    "If we use $E_{\\mathrm{kin}} = \\mu \\cdot v_0^2$ and $\\mu \\approx m_{\\alpha}$, we obtain\n",
    "\n",
    "$$\n",
    "\\frac{\\Delta \\dot{N}}{\\dot{N} \\cdot A} = n_{\\mathrm{Gold}} \\; \\Delta x \\; \\frac{1}{4 R^2} \\; \\left( \\frac{qQ}{8 \\pi \\epsilon_0 E_{\\mathrm{kin}}} \\right)^2 \\; \\frac{\\Delta A_{\\mathrm{d}}}{\\sin^4 \\left( \\frac{\\vartheta}{2} \\right)} \\mathrm{,}\n",
    "$$\n",
    "\n",
    "which is the Rutherford formula. This formula reproduced the measured data except for big angles, and thus small impact parameters. Rutherford concluded that deviations at big angles arise from the nuclei which are in fact small compared to an atom but not point-like."
   ]
  }
 ],
 "metadata": {
  "kernelspec": {
   "display_name": "Python 3 (ipykernel)",
   "language": "python",
   "name": "python3"
  },
  "language_info": {
   "codemirror_mode": {
    "name": "ipython",
    "version": 3
   },
   "file_extension": ".py",
   "mimetype": "text/x-python",
   "name": "python",
   "nbconvert_exporter": "python",
   "pygments_lexer": "ipython3",
   "version": "3.8.12"
  },
  "widgets": {
   "application/vnd.jupyter.widget-state+json": {
    "state": {},
    "version_major": 2,
    "version_minor": 0
   }
  }
 },
 "nbformat": 4,
 "nbformat_minor": 5
}
