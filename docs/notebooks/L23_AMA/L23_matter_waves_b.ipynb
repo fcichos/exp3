{
 "cells": [
  {
   "cell_type": "markdown",
   "id": "c65c8195-43a3-4294-b124-df226219fe2d",
   "metadata": {},
   "source": [
    "# Waves of Matter and their Wave Functions"
   ]
  },
  {
   "cell_type": "markdown",
   "id": "7a6f5905-e056-4100-bfe4-595dcb8f5c7a",
   "metadata": {},
   "source": [
    "In order to properly descripe the wave character of a particle with mass $m$ that is porpagating along teh $z$ direction we chose a similar ansatz as for elkectromagnetic light, \n",
    "\n",
    "$$\n",
    "\\Psi \\left( z,t \\right) = C \\cdot \\mathrm{e}^{i\\left(\\omega t - k z  \\right)} \\mathrm{.}\n",
    "$$\n",
    "\n",
    "Even though we are stil discussing properties of matter, the above equation has the shape of a wave function. Thus, one ofter referes to **matter waves**. In accord to the de Broglie wavelength and the analogue description of atomistic particles as waves, we can derive the kinetic energy as \n",
    "\n",
    "$$\n",
    "E_{\\mathrm{kin}} = \\hbar \\cdot \\omega\n",
    "$$\n",
    "\n",
    "and the moentum as\n",
    "\n",
    "$$\n",
    "p = \\hbar k \\mathrm{,}\n",
    "$$\n",
    "\n",
    "which allows us to reformulate the wave equation as\n",
    "\n",
    "$$\n",
    "\\Psi \\left( z,t \\right) = C \\cdot \\mathrm{e}^{\\frac{i}{\\hbar} \\left(E t - p z  \\right)} \\mathrm{.}\n",
    "$$\n",
    "Thi This "
   ]
  },
  {
   "cell_type": "markdown",
   "id": "4e6dea02-6281-43df-8750-1762b6c7ce8d",
   "metadata": {},
   "source": [
    "Text"
   ]
  },
  {
   "cell_type": "markdown",
   "id": "55c738cd-41a2-4f29-88f7-974370894f48",
   "metadata": {},
   "source": [
    "Concerning the side lobes we can improfe the description of particles through wave packets, if we use a Gaussian distribution for teh amplitude instead of a constant value, \n",
    "\n",
    "$$\n",
    "C \\left( k_0 \\right) \\longrightarrow C \\left( k_0 \\right) \\, \\mathrm{e}^{- \\frac{\\left( k-k_0\\right)^2}{2 \\Delta k^2}} \\mathrm{.}\n",
    "$$\n",
    "\n",
    "Despite the correspondences we have figured out so far, a wave packet is not directly the wave equivalent model of a particle. Reasons are,\n",
    "\n",
    "- The wave function $\\psi \\left( z, t \\right) might adopt a negative or complex value. Those values cannot be directly correlated with real measurands.\n",
    "\n",
    "- Due to the dispersion of matter waves, teh width of the wave packet will increase with time. Thus, the wave packet alters, whereas teh shape of a classical particle remains constant.\n",
    "\n",
    "- An elementary particle like an electron is supposed to be indivisible. A wave, however, might be slit into two or more partial wave that propagate indepedently.\n",
    "\n",
    "Those arguments then motovated Max Born to propose a statistical interpretation of matter waves."
   ]
  },
  {
   "cell_type": "markdown",
   "id": "f6b89064-b8cd-4de0-b165-d8173d97ff9b",
   "metadata": {},
   "source": [
    "## The statistical interpretation of matter waves"
   ]
  },
  {
   "cell_type": "markdown",
   "id": "3f88bd2a-d924-4758-abfc-71af1af1c155",
   "metadata": {},
   "source": [
    "When a particle arrive at an interface, it will be either reflected of transmitted. Therefore, it appears reasonable to correlate  the reflected and transmitted parts of a matter wave with the according likelihoods of a particle beeing reflected or transmitted, respectively. Because likelihood itself is a real number which adopts values between $0$ and $1$, the amplitude of a matter wave is not suited for this purpose. Instead, one introduced the square of the complex wave function $\\left| \\psi \\left( z, t \\right) \\right|^2$ as **propability density**. The propability  that the particle is located within the interval $\\left[z, z+\\mathrm{d}z \\right]$ at time $t$ is proportional to the square of the wave function $\\psi \\left( z, t \\right)$ representing this particle,\n",
    "\n",
    "$$\n",
    "P\\left( z, t \\right) \\mathrm{d}z \\propto \\left| \\psi \\left( z, t \\right) \\right|^2 \\mathrm{d}z\n",
    "$$\n",
    "\n",
    "\n",
    "A particle which propagates along $z$ direction is supposed to be located between $z = -\\infty$ and $z=+\\infty$, hence the propability to find our particle inbetween $-\\infty$ and $+\\infty$ is $P = 1$. That is why the normalization condition reads as\n",
    "\n",
    "$$\n",
    "\\int_{z = -\\infty}^{+\\infty} \\left| \\psi \\left( z, t \\right) \\right|^2 \\, \\mathrm{d}z = 1\n",
    "$$\n",
    "\n",
    "thus, the factor of proportionality is $1$ and we are allowed to state\n",
    "\n",
    "$$\n",
    "P\\left( z, t \\right) \\mathrm{d}z = \\left| \\psi \\left( z, t \\right) \\right|^2 \\mathrm{d}z \\mathrm{.}\n",
    "$$\n",
    "\n",
    "In the case the particle propagetes within a three-dimensional space, we can assign a three-dimensional wave packet $\\psi \\left( x,y,z, t \\right)$ to this particle. As discussed above, the particle has to be located somewhere in space and as a consequence the propability to find it within the whole space is $1$ and we can state the nomalization condition \n",
    "\n",
    "$$\n",
    "\\int\\int\\int \\left| \\psi \\left( x,y,z, t \\right) \\right|^2 \\, \\mathrm{d}x \\, \\mathrm{d}y \\, \\mathrm{d}z = 1 |mathrm{.}\n",
    "$$\n",
    "\n",
    "Thus, we can conclude,\n",
    "\n",
    "- Every partice can be represent through a matter wave $\\psi \\left( x,y,z, t \\right)$ being determined through the wave function $\\psi \\left( x,y,z, t \\right)$.\n",
    "\n",
    "- The quantity $P \\left( x,y,z, t \\right) \\, \\mathrm{d}x \\, \\mathrm{d}y \\, \\mathrm{d}z = \\left| \\psi \\left( x,y,z, t \\right) \\right|^2 \\, \\mathrm{d}x \\, \\mathrm{d}y \\, \\mathrm{d}z$  with its normalization $\\int\\int\\int \\left| \\psi \\left( x,y,z, t \\right) \\right|^2 \\, \\mathrm{d}x \\, \\mathrm{d}y \\, \\mathrm{d}z = 1$ represents the propability to to find the particle within the volume element $\\mathrm{d} V = \\mathrm{d}x \\, \\mathrm{d}y \\, \\mathrm{d}z$ at the particular time $t$.\n",
    "\n",
    "- The propability to find the particle is biggest at the center of the wave packet.\n",
    "\n",
    "- the center of the wave packet propagates with the group velocity $v_{\\mathrm{g}}$ which is identical to the classical particle velocity $v_{\\mathrm{p}}$.\n",
    "\n",
    "- The propability to find the particle within an infinite volume **is not $0$**. This means one cannot locate the particle in a single spot $\\left( x,y,z \\right)$. The particle's location is smeared which corresponds to the distribution of the wave packet and obey an uncertanty. "
   ]
  },
  {
   "cell_type": "markdown",
   "id": "1319c0fe-ea99-4a1d-843a-8958271238b8",
   "metadata": {},
   "source": [
    "## heisenbergs uncertanty principle"
   ]
  },
  {
   "cell_type": "markdown",
   "id": "a2a52674-794e-4b3e-93d8-125bcbeb2e8b",
   "metadata": {},
   "source": [
    "text"
   ]
  },
  {
   "cell_type": "code",
   "execution_count": null,
   "id": "3d3aa3dc-afe2-45be-bda0-d0450f09537c",
   "metadata": {},
   "outputs": [],
   "source": []
  }
 ],
 "metadata": {
  "kernelspec": {
   "display_name": "Python 3 (ipykernel)",
   "language": "python",
   "name": "python3"
  },
  "language_info": {
   "codemirror_mode": {
    "name": "ipython",
    "version": 3
   },
   "file_extension": ".py",
   "mimetype": "text/x-python",
   "name": "python",
   "nbconvert_exporter": "python",
   "pygments_lexer": "ipython3",
   "version": "3.8.12"
  },
  "widgets": {
   "application/vnd.jupyter.widget-state+json": {
    "state": {},
    "version_major": 2,
    "version_minor": 0
   }
  }
 },
 "nbformat": 4,
 "nbformat_minor": 5
}
