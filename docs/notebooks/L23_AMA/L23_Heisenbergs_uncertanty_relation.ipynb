{
 "cells": [
  {
   "cell_type": "markdown",
   "id": "bc0d5ed6-ab9c-4633-8f4b-65d85fc77c68",
   "metadata": {},
   "source": [
    "# Heisenbergs Uncertanty Relation"
   ]
  },
  {
   "cell_type": "markdown",
   "id": "2d0c1fb2-e57c-4aef-8127-1365b74c99e0",
   "metadata": {},
   "source": [
    "## Position-momentum uncertanty"
   ]
  },
  {
   "cell_type": "markdown",
   "id": "9666c8de-19d1-4b60-91aa-311b31513351",
   "metadata": {},
   "source": [
    "As an example for a wave packet we chose plane waves whose amplituds obey a Gaussian distribution centered at $k_0$,\n",
    "\n",
    "$$\n",
    "C \\left( K \\right) = C_0 \\, \\mathrm{e}^{- \\left( \\frac{a}{2}\\right)^2 \\left( k - k_0\\right)^2 } \\mathrm{.}\n",
    "$$\n",
    "\n",
    "Then the one-dimensional wave packet results in \n",
    "\n",
    "$$\n",
    "\\psi \\left( z,t \\right) = C_0 \\int_{-\\infty}^{+\\infty} \\mathrm{e}^{- \\left( \\frac{a}{2}\\right)^2 \\left( k - k_0\\right)^2 } \\, \\mathrm{e}^{i\\left(k z - \\omega t\\right)^2 } \\, \\mathrm{d}k \\mathrm{.}\n",
    "$$\n",
    "\n",
    "We examine the integration and determine for the case of $t=0$ the normalization constant $C_0 = \\sqrt{a} \\, \\left( \\pi \\right)^{3/4}$. The wave packet and propability denisty then read as \n",
    "\n",
    "$$\n",
    "\\psi \\left( z,0 \\right) = \\left(\\frac{2}{\\pi a^2} \\right)^{\\frac{1}{4}} \\cdot \\mathrm{e}^{- \\left( \\frac{z}{a} \\right)^2} \\, \\mathrm{e}^{i k_0 z}\n",
    "$$\n",
    "\n",
    "and\n",
    "\n",
    "$$\n",
    "\\left| \\psi \\left( z,0 \\right) \\right|^2 = \\sqrt{\\frac{2}{\\pi a^2} } \\cdot \\mathrm{e}^{- 2 \\left( \\frac{z}{a} \\right)^2} \\mathrm{,}\n",
    "$$\n",
    "\n",
    "respectively. The latter obye the normalization condition.\n",
    "\n",
    "Our wave packet exhibits a maximum at $z=0$. At $z_{1,2} = \\pm a/2$ the propability density drops to $\\left| \\psi \\left( z,0 \\right) \\right|^2 = 1/\\sqrt{\\mathrm{e}}$ of teh maximum. Commonly, the width $z_1 - z_2 = \\Delta z = a$ is defined as **full width of the wave packet**.\n",
    "\n",
    "Concerning the wave number, the wave packet is comprised of plane waves which obey the amplitude distribution $C\\left( k \\right)$. If we know wonder for the width $\\Delta k = k_1 - k_0$ fulfilling the condition $\\left| C \\left( k \\right) \\right|^2 = C_0^2/\\sqrt{\\mathrm{e}}$, it deriectly follows $\\Delta k = 1/a$.\n",
    "\n",
    "Now we can conclude, the product of the spatial width of the wave packet $\\Delta z$ and the width of the wavenumber interval $\\Delta k$ equals $1$,\n",
    "\n",
    "$$\n",
    "\\Delta z \\cdot \\Delta k = 1 \\mathrm{.}\n",
    "$$\n",
    "\n",
    "A first indication of this fact you got already when introducing wave packets. As depicted, the broader the wavenumber intervall, the narrower the width in z. The meaning of the condition between $\\Delta z$ and $\\Delta k$ becomes clear, if we use the momentum on tehbasis of the *de Broglie wavelength* $p_z = \\hbar k$. Then, the product reads as $\\Delta z \\cdot \\Delta p_z = \\hbar$. In the case of a Gaussian distribution, the product $\\Delta z \\cdot \\Delta p_z = \\hbar$ is the smallest. In the case of any other distribution function, the product is larger $\\Delta z \\cdot \\Delta p_z > \\hbar$. On teh basis of these consideration, we can formulate **Heisenberg's uncertanty relation**,\n",
    "\n",
    "$$\n",
    "\\Delta z \\cdot \\Delta p_z \\ge \\hbar \\mathrm{.}\n",
    "$$\n",
    "\n",
    "For the other two directions of the three-dimentional space one obtains analogously \n",
    "\n",
    "$$\n",
    "\\begin{eqnarray}\n",
    "\\Delta x \\cdot \\Delta p_x  & \\ge & \\hbar\\\\\n",
    "\\Delta y \\cdot \\Delta p_y  & \\ge & \\hbar\n",
    "\\end{eqnarray}\n",
    "$$\n",
    "\n",
    "Often the spatial width $\\Delta z$ is defined as the width where the wave packet drops to $1/\\mathrm{e}$ of teh maximum amplitude. Then it follows for the spatial width $\\Delta z = \\sqrt{2} \\, a$ and for the wavenumber interval $\\Delta k = 4/a$. As a consequence the product $\\Delta z \\cdot p_z = 2^{5/2} \\hbar$. Thus, the exact value of the limit of $\\Delta z \\cdot \\Delta p_z$ does depent on the definition of the spatial uncertanty $\\Delta z$ and in accord $\\Delta p_z$.\n",
    "\n",
    "One illustrative example is provided on the basis on electron diffraction at a single slit. Let us assume a single slit parallel to the $x$ axis with a width of $\\Delta x = b$ and an electron beam with the momentum $\\vec{p} = \\left( 0,p_y,0 \\right)^{\\mathrm{T}}$. Before the electrons pass the slit their momentum along $x$ is $p_x = 0$, while we cannot provide any details about their $x$ coordinate. At the slit only those electrons can pass whose $x$ coordinate is in the interval between $x = 0 - b/2$ and $x = 0 + b/2$. Thus, for the transmitted electron we can constrain the space of possible $x$ values down to $\\Delta x = b$ and in accord to the uncertanty relation the momentum along the $x$ direction becomes $p_x \\ge \\hbar / b$. As a consequence, after passing the slit the electrons are distributed about an angle $-\\theta \\le \\varphi \\le + \\theta$ with the condition \n",
    "\n",
    "$$\n",
    "\\sin \\left( \\theta \\right)= \\frac{\\Delta p_x}{p} = \\frac{h}{bp} \\mathrm{.}\n",
    "$$\n",
    "\n",
    "If we describe the electrons by means of the de Broglie wavelength $\\lambda = p/h$, then the wave is diffracted at the slit and we get a central maximum of the diffraction pattern with the width $\\Delta \\varphi = 2 \\theta$. Analogously to the diffraction of light we get \n",
    "\n",
    "$$\n",
    "\\sin \\left( \\theta \\right)= \\frac{\\lambda}{b} \\mathrm{.}\n",
    "$$\n",
    "\n",
    "On the basis of this exmaple we see that the uncertanty arise from the description of a particle as wave and the spatial constraints of this wave."
   ]
  },
  {
   "cell_type": "markdown",
   "id": "4ff4fca1-aa78-403b-81b1-efa80fe3e37d",
   "metadata": {},
   "source": [
    "## Energy-time uncertanty"
   ]
  },
  {
   "cell_type": "markdown",
   "id": "e8675928-f327-4e98-b055-42f03b6dc286",
   "metadata": {},
   "source": [
    "As we have ssen, the spatial distribution of the wave packet $\\Delta x$ depends on the wavenumber interval $\\Delta k$, used to construct the wave packet. Now we want to discuss how precise we can measure the energy $\\hbar \\omega_0$ of a wave packet with the central frequency $\\omega_0$ if we measure during a time interval $\\Delta t$.\n",
    "\n",
    "As we did previously, we comprise the wave packet as superpostion of partial waves, but do not integrate over the wavenumber interval $\\Delta k$ but rather over the frequency interval $\\Delta \\omega$,\n",
    "\n",
    "$$\n",
    "\\psi \\left( z,t \\right) = \\int_{-\\infty}^{+\\infty} C \\left( \\omega \\right) \\, \\mathrm{e}^{i\\left(\\omega t - k z \\right)} \\, \\mathrm{d} \\omega \\mathrm{.}\n",
    "$$\n",
    "\n",
    "Completely analogous as in the previous case of matter waves we make us of a Taylor series \n",
    "\n",
    "$$\n",
    "k = k_0 + \\left( \\frac{\\mathrm{d}k}{\\mathrm{d} \\omega} \\right)_{\\omega_0} \\left( \\omega - \\omega_0 \\right) + \\ldots\n",
    "$$\n",
    "\n",
    "and substitute $u = t - \\left( \\mathrm{d}k / \\mathrm{d} \\omega \\right)_{\\omega_0} \\cdot x$, which allows us to calculate \n",
    "\n",
    "$$\n",
    "\\psi \\left( z,t \\right) =2 C \\left( \\omega \\right) \\; \\frac{\\sin \\left( \\Delta \\omega \\cdot u \\right)}{u} \\; \\mathrm{e}^{i\\left(\\omega_0 t - k_0 z \\right)} \\mathrm{.}\n",
    "$$\n",
    "\n",
    "At the fixed position $x_0$ the maximum appears at $t_0 = \\left( \\mathrm{d}k / \\mathrm{d} \\omega \\right)_{\\omega_0} \\cdot x_0$ and the two roots left and right of the central maximum are at poistion $x_0$ at times\n",
    "\n",
    "$$\n",
    "t_{1,2} = \\left( \\frac{\\mathrm{d}k}{\\mathrm{d} \\omega} \\right)_{\\omega_0} \\cdot x_0 \\pm \\frac{\\pi}{\\Delta \\omega} \\mathrm{,}\n",
    "$$\n",
    "\n",
    "respectively. Thus, the central maximum needs the time $\\Delta t = 2 \\pi / \\Delta \\omega$ to comletely pass the position $x_0$. Conversely, if we record a wave packet onlöy within the time interval $\\Delta t$, then we can estimate its central frequency only with an uncertanty $\\Delta \\omega$.\n",
    "\n",
    "For example we measure a monochromatic wave $C_0 \\cdot \\mathrm{e}^{i\\left(k z -\\omega_0 t \\right)}$ at position $z = 0$ during the interval $\\Delta t$. The Fourier transform of the amplitude distribution of this wave train then reads as\n",
    "\n",
    "$$\n",
    "C \\left( \\omega \\right) = \\int_{t=-\\Delta/2}{+\\Delta/2} C_0 \\mathrm{e}^{i\\left(\\omega - \\omega_0 \\right)t} \\mathrm{d}t = C_0 \\frac{\\sin\\left(\\frac{\\omega - \\omega_0}{2} \\cdot \\Delta t\\right)}{\\frac{\\omega - \\omega_0}{2} \\cdot \\Delta t} |mathrm{.}\n",
    "$$\n",
    "\n",
    "The central maximum has a width of $\\Delta \\omega = 2 \\pi / \\Delta t$. Since the energy is connected with the frquency in accord to $E = \\hbar \\omega$, we finally obtain\n",
    "\n",
    "$$\n",
    "\\Delta E \\cdot \\Delta \\omega \\ge h \\mathrm{.}\n",
    "$$\n",
    "\n",
    "If we use a Gaussin distribution of the amplitude instead of a constant, we will result in $\\Delta E \\cdot \\Delta \\omega \\ge \\hbar$. However, if we obsere a particle only during a limitted time $\\Delta t$, we can estimate its energy only with teh certanty $\\Delta E \\ge h/\\Delta t$."
   ]
  }
 ],
 "metadata": {
  "kernelspec": {
   "display_name": "Python 3 (ipykernel)",
   "language": "python",
   "name": "python3"
  },
  "language_info": {
   "codemirror_mode": {
    "name": "ipython",
    "version": 3
   },
   "file_extension": ".py",
   "mimetype": "text/x-python",
   "name": "python",
   "nbconvert_exporter": "python",
   "pygments_lexer": "ipython3",
   "version": "3.8.12"
  },
  "widgets": {
   "application/vnd.jupyter.widget-state+json": {
    "state": {},
    "version_major": 2,
    "version_minor": 0
   }
  }
 },
 "nbformat": 4,
 "nbformat_minor": 5
}
