{
 "cells": [
  {
   "cell_type": "markdown",
   "metadata": {},
   "source": [
    "# Diffraction Integral"
   ]
  },
  {
   "cell_type": "markdown",
   "metadata": {},
   "source": [
    "<style>\n",
    "figure {\n",
    "  border: 1px #cccccc solid;\n",
    "  padding: 4px; \n",
    "  display: block;\n",
    "  margin-left: auto;\n",
    "  margin-right: auto;\n",
    "}\n",
    "\n",
    "figcaption {\n",
    "  background-color: #eeeeee;\n",
    "  color: black;\n",
    "  padding: 2px;\n",
    "}\n",
    "</style>"
   ]
  },
  {
   "cell_type": "markdown",
   "metadata": {},
   "source": [
    "In the last section about Fresnel zones and the zone plate we have considered how different path contribute to the intensity at a point on the optical axis. We would like to generalize this idea to an integral formulation allowing us to calculate any kind of diffraction pattern."
   ]
  },
  {
   "cell_type": "markdown",
   "metadata": {},
   "source": [
    "<figure>\n",
    "      <img src=\"img/sketch.png\" width=\"80%\">\n",
    "  <figcaption>**Fig.:** Diffraction integral.\n",
    "  </figcaption>\n",
    "</figure>"
   ]
  },
  {
   "cell_type": "markdown",
   "metadata": {},
   "source": [
    "Assume we have a light source $S$ as in the image above, which sends out a spherical wave (does not need to be a spherical wave). The spatial amplitude of this wave at the point $P(x,y)$ at a tiny aperture element $d\\sigma$\n",
    "\n",
    "$$\n",
    "U_s(x,y)=U_0(x,y)e^{i\\phi(x,y)}\n",
    "$$\n",
    "\n",
    "where \n",
    "\n",
    "$$\n",
    "U_0=\\frac{A}{R}=\\frac{A}{\\sqrt{g^2+x^2+y^2}}\n",
    "$$\n",
    "\n",
    "and \n",
    "\n",
    "$$\n",
    "\\phi(x,y)=(-k R)\n",
    "$$\n",
    "  \n",
    "This is  the amplitude of the Huygens wave, which eminates from the point $P(x,y)$ to propagate towards the screen at $P(x^{\\prime},y^{\\prime})$. This Huygens wave contributes a fraction of an amplitude $dU_p$ to the total amplitude in point $P(x^{\\prime},y^{\\prime})$, which is given by\n",
    "\n",
    "$$\n",
    "dU_p=C\\frac{U_s d\\sigma}{r}e^{-ikr}\n",
    "$$\n",
    "\n",
    "with $C=i\\cos(\\theta)/\\lambda$ as found in a more detailed calculation and called the obliquity factor."
   ]
  },
  {
   "cell_type": "markdown",
   "metadata": {},
   "source": [
    "The total amplitude at the point $P(x^{\\prime},y^{\\prime})$ is then given by the integral over all contributions.\n",
    "\n",
    "$$\n",
    "U_p=\\iint C U_s\\frac{e^{-ikr}}{r}dx dy\n",
    "$$\n",
    "\n",
    "with $dxdy=d\\sigma$. The integral runs over all positions in the aperature plane $(x,y)$ where we have an opening. This integral is called the **Fresnel-Kirchhoff** diffraction integral and allows us to calculate complicate scalar diffraction patterns.\n"
   ]
  },
  {
   "cell_type": "markdown",
   "metadata": {},
   "source": [
    "## Fresnel Approximation"
   ]
  },
  {
   "cell_type": "markdown",
   "metadata": {},
   "source": [
    "The diffracion integral does not always need to be calculated in completely, but we may use approxaimations to obtain diffraction patterns in different regimes.\n",
    "The first approximation, we would like to have a short look at is the **Fresnel approximation**, which yields the diffraction pattern in the **near field**."
   ]
  },
  {
   "cell_type": "markdown",
   "metadata": {},
   "source": [
    "The distance $r$ from the point $P(x,y)$ to the point $P(x^{\\prime},y^{\\prime})$ can be written as\n",
    "\n",
    "\\begin{eqnarray}\n",
    "r&=&\\sqrt{z_0^2+(x-x^{\\prime})^2+(y-y^{\\prime})^2}\\\\\n",
    "&\\approx & z_0\\left (1+ \\frac{(x-x^{\\prime})^2}{2z_0^2} + \\frac{(y-y^{\\prime})^2}{2z_0^2}+\\ldots \\right)\n",
    "\\end{eqnarray}\n",
    "\n",
    "\n",
    "\n",
    "The second line assumes that $\\cos(\\theta)=z_0/r\\approx 1$ and $C=i/\\lambda$. We thus consider small diffraction angles. Using this approximation we find for the amplitude of the wave at a point $P(x^{\\prime},y^{\\prime})$ \n",
    "\n",
    "$$\n",
    "U(x^{\\prime},y^{\\prime},z_0)=i\\frac{e^{-ikz_0}}{\\lambda z_0}\\iint U_{s}(x,y)\\exp\\left [ -\\frac{ik}{2z_0}\\left ((x-x^{\\prime})^2+(y-y^{\\prime})^2 \\right )\\right ]dx dy\n",
    "$$\n",
    "\n",
    "As the integration is over $x$ and $y$, we may draw out all screen coordinate elements such that\n",
    "\n",
    "$$\n",
    "U(x^{\\prime},y^{\\prime},z_0)=i\\frac{e^{-ikz_0}}{\\lambda z_0} e^{-\\frac{ik}{2z_0}(x^{\\prime 2}+y^{\\prime 2})}\n",
    "\\iint U_{s}(x,y)e^{ -\\frac{ik}{2z_0}(x^2+y^2)} \n",
    "e^{\\frac{ik}{2z_0}(xx^{\\prime}+yy^{\\prime})} dx dy\n",
    "$$\n",
    "\n",
    "This is the **Fresnel approximation**."
   ]
  },
  {
   "cell_type": "markdown",
   "metadata": {},
   "source": [
    "## Fraunhofer Approximation"
   ]
  },
  {
   "cell_type": "markdown",
   "metadata": {},
   "source": [
    "If we further assume that the aperture is small as compared to the distance at which we observe the diffraction pattern, we can further simplify the Fresnel approximation to yield the Fraunhofer approximation giving the diffraction patter in the far field. The condition is \n",
    "\n",
    "$$\n",
    "z_0\\gg\\frac{1}{\\lambda}(x^2+y^2)\n",
    "$$\n",
    "\n",
    "In this case we can neglect the term\n",
    "\n",
    "$$\n",
    "e^{ -\\frac{ik}{2z_0}(x^2+y^2)} \\approx 1\n",
    "$$\n",
    "\n",
    "which results in \n",
    "\n",
    "$$\n",
    "U(x^{\\prime},y^{\\prime},z_0)=i\\frac{e^{-ikz_0}}{\\lambda z_0} e^{-\\frac{ik}{2z_0}(x^{\\prime 2}+y^{\\prime 2})}\n",
    "\\iint U_{s}(x,y)\n",
    "e^{\\frac{ik}{2z_0}(xx^{\\prime}+yy^{\\prime})} dx dy\n",
    "$$"
   ]
  },
  {
   "cell_type": "markdown",
   "metadata": {},
   "source": [
    "<figure>\n",
    "      <img src=\"img/near_far_field.png\" width=\"90%\">\n",
    "  <figcaption>**Fig.:** Diffraction pattern of a slit in the near field (Fresnel diffraction, left) and the far field (Fraunhofer diffraction, right).\n",
    "  </figcaption>\n",
    "</figure>"
   ]
  },
  {
   "cell_type": "markdown",
   "metadata": {},
   "source": [
    "While these formulas provide the mathematical tools, we may obtain a more intuitive idea about the different approximation in the following way. Consider the image below, where we would like to know about the diffraction intensity of a slit of width $b$ at the optical axis at a distance $D$."
   ]
  },
  {
   "cell_type": "markdown",
   "metadata": {},
   "source": [
    "<figure>\n",
    "      <img src=\"img/diffraction.png\" width=\"55%\">\n",
    "  <figcaption>**Fig.:** Illustration of the importance of additional geometrical path length difference for the discrimination of Fresnel (near-field) and Fraunhofer (far-field) diffraction.\n",
    "  </figcaption>\n",
    "</figure>"
   ]
  },
  {
   "cell_type": "markdown",
   "metadata": {},
   "source": [
    "The waves from the center of the slit and the edge have to travel towards that point a different pathlength, whcih we may calculate to \n",
    "\n",
    "\\begin{eqnarray}\n",
    "\\Delta s &=&  \\sqrt{\\frac{b^2}{4}+D^2}-D\\\\\n",
    "&=& D\\sqrt{\\frac{b^2}{4D^2}+1}-D\n",
    "\\end{eqnarray}\n",
    "\n",
    "We may develop the square root into a Taylor series and obtain\n",
    "\n",
    "\\begin{eqnarray}\n",
    "\\Delta s &=& \\frac{b^2}{8D}-\\frac{b^4}{128 D^3}+O(4)\\\\\n",
    "&\\approx & \\frac{b^2}{8D}\n",
    "\\end{eqnarray}\n",
    "\n",
    "The second order correction term $\\frac{b^2}{8D}$ decreases quadratic with the distance $D$ of the point, which means that at large distances, we can safely assume $\\Delta s=0$ on the axis, i.e. all waves arriving at that point have to travel the same distance. This corresponds to the far-field approximation. To be more specific we require\n",
    "\n",
    "$$\n",
    "\\frac{b^2}{8D^2}<\\frac{\\lambda}{8}\n",
    "$$\n",
    "\n",
    "or \n",
    "\n",
    "$$\n",
    "\\frac{b^2}{\\lambda D}<1\n",
    "$$\n",
    "\n",
    "to be fullfilled to be in the far field. \n",
    "\n",
    "\n",
    "$$\n",
    "F=\\frac{b^2}{\\lambda D} \n",
    "\\begin{cases}\n",
    "\\ll 1 ,&\\textrm{Fraunhofer}\\\\\n",
    "\\approx 1,& \\textrm{Fresnel}\\\\\n",
    "\\gg 1, & \\textrm{Full vector}\n",
    "\\end{cases}\n",
    "$$"
   ]
  },
  {
   "cell_type": "markdown",
   "metadata": {},
   "source": [
    "This number $F$ is called the Frensel number and gives us an idea by how far the dimensions of the opening contribute to the diffraction pattern rather than the direction of the wave propagation only.\n"
   ]
  },
  {
   "cell_type": "markdown",
   "metadata": {},
   "source": [
    "## Babinet's Principle"
   ]
  },
  {
   "cell_type": "markdown",
   "metadata": {},
   "source": [
    "The above considerations of diffraction have some intruiging consequence. Consider the two apertures in the image below."
   ]
  },
  {
   "cell_type": "markdown",
   "metadata": {},
   "source": [
    "<figure>\n",
    "      <img src=\"img/babinet.png\" width=\"60%\">\n",
    "  <figcaption>**Fig.:** Two complementary apertures, which have the same diffraction pattern in the far field.\n",
    "  </figcaption>\n",
    "</figure>"
   ]
  },
  {
   "cell_type": "markdown",
   "metadata": {},
   "source": [
    "The left aperture will create in the far field an amplitude distribution $U_h$, while the inverse aperture on the right will cause an amplitude $U_d$. If we combine both amplitudes in the far field, we obtain a total amplitude distribution \n",
    "\n",
    "$$\n",
    "U=U_h+U_d\n",
    "$$\n",
    "\n",
    "In the case when we have two complementary apertures, that total amplitude has to be zeor, when hole and dot are placed at the same position. We therefore obtain \n",
    "\n",
    "$$\n",
    "U_h=-U_d\n",
    "$$\n",
    "\n",
    "and therefore\n",
    "\n",
    "$$\n",
    "I_h=I_d\n",
    "$$\n",
    "\n",
    "This is the Principle of Babinet which states:\n",
    "\n",
    "<div class=\"alert alert-info\">\n",
    "**Babinet's Principle**\n",
    "\n",
    "The far field diffraction intensity distribution of complementary apertures is the same.     \n",
    "</div>"
   ]
  },
  {
   "cell_type": "markdown",
   "metadata": {},
   "source": [
    "The images below show an experimental demonstration of Babinet's principle on a slit and a wire."
   ]
  },
  {
   "cell_type": "markdown",
   "metadata": {},
   "source": [
    "<figure>\n",
    "      <img src=\"img/babinet_exp.png\" width=\"90%\">\n",
    "  <figcaption>**Fig.:** Babinet's principle demonstrated experimentally on a slit (left) and a wire (right).\n",
    "  </figcaption>\n",
    "</figure>"
   ]
  }
 ],
 "metadata": {
  "kernelspec": {
   "display_name": "Python 3",
   "language": "python",
   "name": "python3"
  },
  "language_info": {
   "codemirror_mode": {
    "name": "ipython",
    "version": 3
   },
   "file_extension": ".py",
   "mimetype": "text/x-python",
   "name": "python",
   "nbconvert_exporter": "python",
   "pygments_lexer": "ipython3",
   "version": "3.8.5"
  },
  "toc-autonumbering": false,
  "toc-showmarkdowntxt": false,
  "toc-showtags": false
 },
 "nbformat": 4,
 "nbformat_minor": 4
}
