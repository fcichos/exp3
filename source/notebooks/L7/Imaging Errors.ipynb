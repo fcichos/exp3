{
 "cells": [
  {
   "cell_type": "markdown",
   "metadata": {},
   "source": [
    "## Imaging Errors"
   ]
  },
  {
   "cell_type": "markdown",
   "metadata": {},
   "source": [
    "During our derivation of the imaging equation for lenses and the lensmaker equation we have been working under the paraxial approximation. This approximation stated that all rays are close to the optical axis and, therefore, make only small angles with the surface normals of the curved surfaces of lenses (but also mirrors). If we violate this approximation, i.e., if we use rays which are incident from the optical axis or strongly inclined, then we end up with reflections and refraction which do not obey the imaging equation. In addition we have seen that light propagation for different colors is subject to different refractive indices (remember the prism). Thus, we will induce aberrations, related to color."
   ]
  },
  {
   "cell_type": "markdown",
   "metadata": {},
   "source": [
    "According to Seidel, aberrations are classified the following way"
   ]
  },
  {
   "cell_type": "markdown",
   "metadata": {},
   "source": [
    "- chromatic aberration\n",
    "- spherical aberration\n",
    "- coma\n",
    "- astigmatism \n",
    "- field curvature\n",
    "- field distortion"
   ]
  },
  {
   "cell_type": "markdown",
   "metadata": {},
   "source": [
    "### Chromatic Aberrations"
   ]
  },
  {
   "cell_type": "markdown",
   "metadata": {},
   "source": [
    "Chromatic aberrations are based on the fact that light of different color has a different speed of propgation and, thus, also a different refractive index. We experienced that also for the prism, where it was useful to create a spectrograph. Here it is causing colored edges in your image, which you do not want.\n"
   ]
  },
  {
   "cell_type": "markdown",
   "metadata": {},
   "source": [
    "As the refractive index for shorter wavelength is typically higher, we expect that the blue color has a shorter focal distance than the red color.\n",
    "\n",
    "\n",
    "\n",
    "|<img src=\"img/chromatic.png\" width=\"30%\"> <img src=\"img/chromatic_exp.png\" width=\"30%\"><img src=\"img/chromatic_rend.jpeg\" width=\"30%\">|\n",
    "|-|\n",
    "| **Fig.:** Chromatic aberration. Left: Sketch of the chromatic aberration, focusing red light less strong than blue. Middle: Image from the lecture. Right: Rendered image using the refractive index for BK7 glass.|\n"
   ]
  },
  {
   "cell_type": "markdown",
   "metadata": {},
   "source": [
    "Such a chromatic aberration may be corrected by using a system of two lenses as shown below."
   ]
  },
  {
   "cell_type": "markdown",
   "metadata": {},
   "source": [
    "|<img src=\"img/achromat.png\" width=\"30%\"> |\n",
    "|-|\n",
    "| **Fig.:** Correction of chromatic aberration.|"
   ]
  },
  {
   "cell_type": "markdown",
   "metadata": {},
   "source": [
    "Such so-called achromatic lenses are typically consisting of a bixconvex lens that is glued to a bi-concave lens. Both lenses are often made of different materials.\n",
    "Each of the lenses $i$ has a focal length according to the lensmaker equation\n",
    "\n",
    "$$\n",
    "\\frac{1}{f_i}=(n_i-1)\\rho_i,\n",
    "$$\n",
    "\n",
    "where the $\\rho$ is given by\n",
    "\n",
    "$$\n",
    "\\rho_i=\\frac{(R_{i2}-R_{i1})}{R_{i1}R_{i2}}.\n",
    "$$\n",
    "\n",
    "Here the $R_{i1},R_{i2}$ denote the different surfaces of the lens from left to right. \n"
   ]
  },
  {
   "cell_type": "markdown",
   "metadata": {},
   "source": [
    "As we have treated lens systems already, we may refer to the calculation for short distances of the lenses and write down the refractive power of the lens system as\n",
    "\n",
    "$$\n",
    "\\frac{1}{f}=(n_1-1)\\rho_1+(n_2-1)\\rho_2.\n",
    "$$\n",
    "\n",
    "If now the refractive index at two different wavelengths is given, i.e., $n_{1r},n_{1b}$ for the first lens and $n_{2r},n_{2b}$ for the second lens, we may formulate our color correction wish as\n",
    "\n",
    "$$\n",
    "(n_{1r}-1)\\rho_1+(n_{2r}-1)\\rho_1=(n_{1b}-1)\\rho_1+(n_{2b}-1)\\rho_1.\n",
    "$$\n",
    "\n",
    "This is just saying that the refractive powers of the lens system for the red and the blue colors should be the same, as then the two colors at least are focused into the same point.\n",
    "After some slight transformation, this gives us\n",
    "\n",
    "$$\n",
    "\\frac{\\rho_1}{\\rho_2}=-\\frac{n_{2b}-n_{2r}}{n_{1b}-n_{1r}}.\n",
    "$$\n",
    "\n",
    "This is a condition for the radii of the two lenses, which can be further teared down if we consider the lens system in the image. There the two inner surfaces of the two lenses have the same radius of curvature, i.e., $R_{12}=R_{21}$ and we also find $R_{11}=R_1=-R_{12}=-R_{21}$ and $R_{22}=R_2$. Using this, we may further simplify the above equation."
   ]
  },
  {
   "cell_type": "markdown",
   "metadata": {},
   "source": [
    "### Spherical Aberration"
   ]
  },
  {
   "cell_type": "markdown",
   "metadata": {},
   "source": [
    "The spherical abberation arises due to the fact that we have always considered a simplification of the angular functions to their first order Taylor series expansion. If the angles of incidence on the spherical surfaces get too large, we cannot do that anymore and need to consider higher order corrections. \n",
    "\n",
    "The result is that parallel rays which are far from the optical axis are not imaged into the same focal point as the paraxial rays, but to points closer to the lens. You might have all seen such an effect also in the case of your empty coffee cup, when the sunlight enters and causes a so-called caustics. This pattern you observe there is also the result of a spherical aberration. The image below shows the spherical aberration of a lens."
   ]
  },
  {
   "cell_type": "markdown",
   "metadata": {},
   "source": [
    "|<img src=\"img/spherical.png\" width=\"30%\"> <img src=\"img/spherical_exp.png\" width=\"30%\">|\n",
    "|-|\n",
    "| **Fig.:** Spherical aberration.|"
   ]
  },
  {
   "cell_type": "markdown",
   "metadata": {},
   "source": [
    "To be a bit more quantitative, we would like to reconsider the refraction at a single spherical surface as depicted in the image below."
   ]
  },
  {
   "cell_type": "markdown",
   "metadata": {},
   "source": [
    "|<img src=\"img/spherical_theo.png\" width=\"30%\"> |\n",
    "|-|\n",
    "| **Fig.:** Spherical aberration.|"
   ]
  },
  {
   "cell_type": "markdown",
   "metadata": {},
   "source": [
    "For this case we may again write down the focal length with a more accurate calculation. We use, therefore, the relations $\\sin(\\beta)=\\sin(\\alpha)/n, \\sin(\\alpha)=h/R, \\alpha=\\beta+\\gamma$. With the help of those we obtain $f=R+b$ and $b=R\\sin(\\beta)/\\sin(\\gamma)$, which we may further convert into\n",
    "\n",
    "$$\n",
    "f=R\\left [ 1+ \\frac{1}{n\\cos(\\beta)-\\cos(\\alpha)}\\right ],\n",
    "$$\n",
    "\n",
    "which we may further transform into\n",
    "\n",
    "$$\n",
    "f=R\\left [ 1+ \\frac{1}{n\\sqrt{1-\\frac{h^2}{n^2 R^2}})-\\sqrt{1-\\frac{h^2}{R^2}}}\\right ]\n",
    "$$\n",
    "\n",
    "with the help of replacing the cosines. Expansion of the square roots will further lead to \n",
    "\n",
    "$$\n",
    "f=R\\left [ \\frac{n}{n-1}- \\frac{h^2}{2n(n-1)R^2} \\right].\n",
    "$$\n",
    "\n",
    "This result is already  enough to understand that the focal length (as in the case of the concave mirror) depends on the height $h$ under which the ray is incident on the spherical surface. The second term in the square brackets represents exactly this term, which is shortening the focal length when $h\\neq 0$. "
   ]
  },
  {
   "cell_type": "markdown",
   "metadata": {},
   "source": [
    "From that one may also obtain an imaging equation for a single spherical surface, which reads as\n",
    "\n",
    "$$\n",
    "\\frac{1}{a}+\\frac{n}{b}=\\frac{n-1}{R}+h^2\\left [ \\frac{1}{2a}\\left ( \\frac{1}{a}+\\frac{1}{R}\\right )^2 +\\frac{n}{2b}\\left ( \\frac{1}{R}-\\frac{1}{b}\\right )^2\\right].\n",
    "$$\n",
    "\n",
    "This looks already for a single surface complicated but demonstrates that the image plane is now not anymore a plane but its location depends on $R$ and $h$. This dependence for a single surface is then also reflected in other image distortions such as the field curvature."
   ]
  },
  {
   "cell_type": "markdown",
   "metadata": {},
   "source": [
    "### Coma"
   ]
  },
  {
   "cell_type": "markdown",
   "metadata": {},
   "source": [
    "While we considered so far always rays parallel to the optical axis at different distance, rays which eminate from points not on the optical axis (also not on the optical axis at infinite distance), yield also aberrations. One of them is the \"coma\".  There rays inclined with the optical axis do not meet in a single off-axis point on the image side. They cause more intense regions with a comet like tail to the outside radial direction."
   ]
  },
  {
   "cell_type": "markdown",
   "metadata": {},
   "source": [
    "|<img src=\"img/coma.png\" width=\"45%\">  <img src=\"img/coma_exp.png\" width=\"35%\"> |\n",
    "|-|\n",
    "| **Fig.:** Coma.|"
   ]
  },
  {
   "cell_type": "markdown",
   "metadata": {},
   "source": [
    "### Astigmatism"
   ]
  },
  {
   "cell_type": "markdown",
   "metadata": {},
   "source": [
    "Also the astigmatism arises when rays from point sources away from the optical axis are imaged by a lens. To understand the effect one may split the rays from such a source into rays which are in the vertical plane (meridional plane) and others which are in a plane perpendicular to it (sagittal plane). Considering those rays one finds that the meridional rays are focused to a point closer to the lens as compared to the sagittal rays, which are focused to a point at farther distance. This causes that the focus of the lens goes from a horziontal elliptical shape into a vertical elliptical shape when moving the screen through the focal region on the image side. "
   ]
  },
  {
   "cell_type": "markdown",
   "metadata": {},
   "source": [
    "For an extended image as shown below, this results in the separate focusing of vertical (left) and horizontal lines (right) in the image. "
   ]
  },
  {
   "cell_type": "markdown",
   "metadata": {},
   "source": [
    "|<img src=\"img/astigmatism.png\" width=\"32.5%\"> <img src=\"img/astigvert_exp.png\" width=\"32.5%\"> <img src=\"img/astighor_exp.png\" width=\"31%\">|\n",
    "|-|\n",
    "| **Fig.:** Astigmatism of a lens showing the focusing of vertical (left) and horizontal (right) lines of an object (letter \"F\") at different focus positions for a lens tilted in the beam path.|"
   ]
  },
  {
   "cell_type": "markdown",
   "metadata": {},
   "source": [
    "This distortion, i.e., the elliptical shape of the focus has been used advantageously in single molecule microscopy to locate their position along the optical axis, which is typically a challenge for optical microscopy. "
   ]
  },
  {
   "cell_type": "markdown",
   "metadata": {},
   "source": [
    "### Field Curvature"
   ]
  },
  {
   "cell_type": "markdown",
   "metadata": {},
   "source": [
    "The field curvature is related to our calculations of the spherical aberation. We have seen there that the focal distance depends on the height $h$ of the rays over the optical axis. This also means that the image plane is actually not anymore a plane but a curved surface as shown below. The rays incident from point $A_0$ and $A_1$ do not meet in the same plane.\n",
    "This plane is even different for meridional and saggital rays. This typically results in the fact that you may have the center of the image in focus, but not the edges or vice versa."
   ]
  },
  {
   "cell_type": "markdown",
   "metadata": {},
   "source": [
    "|<img src=\"img/field_curv.png\" width=\"35%\"> <img src=\"img/fieldcurvature_exp.png\" width=\"35%\"> |\n",
    "|-|\n",
    "| **Fig.:** Field curvature.|"
   ]
  },
  {
   "cell_type": "markdown",
   "metadata": {},
   "source": [
    "### Distortions"
   ]
  },
  {
   "cell_type": "markdown",
   "metadata": {},
   "source": [
    "Barrel or cushion shaped distortions in the image are found when inserting apertures in the optical path. This results in the removal of certain ray paths ending up in field distortions."
   ]
  },
  {
   "cell_type": "markdown",
   "metadata": {},
   "source": [
    "|<img src=\"img/cushion_exp.png\" width=\"45%\"> <img src=\"img/barrel_exp.png\" width=\"45%\">|\n",
    "|-|\n",
    "| **Fig.:** Cushion (left) and barrel (right) type of distortions.|"
   ]
  },
  {
   "cell_type": "markdown",
   "metadata": {},
   "source": [
    "These distortions come from the fact that rays, which now must travel through and aperture are further or closer than their actual images without the aperture. This is best understood from the sketches below. The central ray here indicates the center $M$ of the region into which the point $A_0$ is imaged. If we insert an aperture behind the lens, the central ray will not be able to pass but other rays, which create an area around $M_1$, which is at larger distance than $M$ from the optical axis. Now, the larger the point $A_0$ is from the optical axis, the larger is also the distance of $M_1$ from $M$ and the optical axis. This turns a regular grid like in the experiment above into a cushion shaped object. The situation is reversed in the case when the aperture is inserted in front of the lens as depicted on the right side of the sketch below. There the distortion is barrel shaped as validated by the experiment."
   ]
  },
  {
   "cell_type": "markdown",
   "metadata": {},
   "source": [
    "|<img src=\"img/distortions.png\" width=\"45%\">|\n",
    "|-|\n",
    "| **Fig.:** Cushion (left) and barrel (right) type of distortions.|"
   ]
  }
 ],
 "metadata": {
  "kernelspec": {
   "display_name": "Python 3",
   "language": "python",
   "name": "python3"
  },
  "language_info": {
   "codemirror_mode": {
    "name": "ipython",
    "version": 3
   },
   "file_extension": ".py",
   "mimetype": "text/x-python",
   "name": "python",
   "nbconvert_exporter": "python",
   "pygments_lexer": "ipython3",
   "version": "3.8.5"
  }
 },
 "nbformat": 4,
 "nbformat_minor": 4
}
