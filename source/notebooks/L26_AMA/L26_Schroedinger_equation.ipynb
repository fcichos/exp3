{
 "cells": [
  {
   "cell_type": "markdown",
   "id": "c148d03e-812d-4302-965d-802fbfdf76f9",
   "metadata": {},
   "source": [
    "# The Schrödinger Equation"
   ]
  },
  {
   "cell_type": "markdown",
   "id": "4daf8780-cf3b-4459-ba4c-b46b9a968a52",
   "metadata": {},
   "source": [
    "##  Introducing the equation"
   ]
  },
  {
   "cell_type": "markdown",
   "id": "25ec2ce8-9ff4-44e4-9bed-1a5459d2bf50",
   "metadata": {},
   "source": [
    "First we discuss the simple case of a *free* particle with mass $m$ at uniform motion with velocity $u$ along the $x$ direction. We set the motion at a constant potential ($E_{\\mathrm{pot}} = 0$) and get a matter wave like\n",
    "\n",
    "$$\n",
    "\\psi \\left(x,t\\right) = A \\cdot \\mathrm{e}^{i\\left( k x - \\omega t\\right)} = A \\cdot \\mathrm{e}^{\\frac{i}{\\hbar}\\left(p x - E t\\right)} \\mathrm{,}\n",
    "$$\n",
    "\n",
    "whith $E = E_{\\mathrm{kin}} = \\hbar \\cdot \\omega$ and $p = \\hbar \\cdot k$. Because the formula is analogue with an electromagnetic wave, we use the same formula as for an electromagnetic wave propagating with a phase velocity of $u$ along $x$,\n",
    "\n",
    "$$\n",
    "\\frac{\\partial^2 \\psi}{\\partial x^2} - \\frac{1}{u^2} \\frac{\\partial^2 \\psi}{\\partial t^2} = 0 \\mathrm{.}\n",
    "$$\n",
    "\n",
    "In order to describe stationary quantum states, namly the momentum $p$ and enegery $E$ do not depent on time, we are seeking for a stationary solution of the above equation. Since they are indepent of time, we can write the genernal solution for the wave equation $\\psi \\left(x,t\\right)$ as a product of a *position-dependent* factor  $\\mathrm{e}^{+ikx}$ and a *time-dependent* phase $\\mathrm{e}^{-i \\omega t}$, such like\n",
    "\n",
    "$$\n",
    "\\begin{eqnarray}\n",
    "\\psi \\left(x,t\\right) & = & A \\cdot \\mathrm{e}^{i k x} \\cdot \\mathrm{e}^{-i \\omega t}\\\\\n",
    "{} & = & \\psi \\left(x\\right) \\cdot \\mathrm{e}^{-i \\omega t}\\mathrm{.}\n",
    "\\end{eqnarray}\n",
    "$$\n",
    "\n",
    "If we now use this ansatz in the wave equation, we obtain for the derivative in space\n",
    "\n",
    "$$\n",
    "\\frac{\\partial^2 \\psi}{\\partial x^2} = -k^2 \\psi = - \\frac{p^2}{\\hbar^2} \\psi = - \\frac{2 m}{\\hbar^2} E_{\\mathrm{kin}} \\psi \\mathrm{.}\n",
    "$$\n",
    "\n",
    "In the general case our particle might move within a force field. If it is a conservative field, we can assign a potential energy $E_{\\mathrm{pot}}$ to every point in space keeping the total energy constant $E = E_{\\mathrm{kin}} + E_{\\mathrm{pot}}$. Then, we directly obtain the *one-dimension stationary Schrödinger equation*\n",
    "\n",
    "$$\n",
    "- \\frac{\\hbar^2}{2 m} \\, \\frac{\\partial^2 \\psi}{\\partial x^2} + E_{\\mathrm{pot}} \\psi = E \\psi\n",
    "$$\n",
    "\n",
    "In the case of a three-dimensional motion of our particle we can analogously use the three-dimensional wave equation,\n",
    "\n",
    "$$\n",
    "\\Delta \\psi- \\frac{1}{u^2} \\frac{\\partial^2 \\psi}{\\partial t^2} = 0 \\mathrm{,}\n",
    "$$\n",
    "\n",
    "and an ansatz in three dimensions,\n",
    "\n",
    "$$\n",
    "\\psi \\left(x,y,z,t\\right) = \\psi \\left(x,y,z\\right) \\cdot \\mathrm{e}^{-i \\omega t} \\mathrm{,}\n",
    "$$\n",
    "\n",
    "in order to obtain the *three-dimensional stationary Schrödinger equation*\n",
    "\n",
    "$$\n",
    "- \\frac{\\hbar^2}{2 m} \\, \\Delta \\psi + E_{\\mathrm{pot}} \\psi = E \\psi \\mathrm{.}\n",
    "$$\n",
    "\n",
    "If we, in addition, calculate the first order derivative of our matter wave with respect to time, we obtain (for $E_{\\mathrm{pot}} = 0$)\n",
    "\n",
    "$$\n",
    "\\frac{\\partial \\psi}{\\partial t} = - \\frac{i}{\\hbar} E_{\\mathrm{kin}} \\, \\psi \\mathrm{.}\n",
    "$$\n",
    "\n",
    "In  the case of a free particle, the condition $E_{\\mathrm{pot}} = 0$ implies $E_{\\mathrm{kin}} = \\; \\mathrm{const.}$ and we can combine the derivative in space and in time in order to derive this *three-dimensionsial time-dependent equation*\n",
    "\n",
    "$$\n",
    "- \\frac{\\hbar^2}{2 m} \\, \\Delta \\psi = i \\hbar \\frac{\\partial \\psi}{\\partial t} \\mathrm{.}\n",
    "$$\n",
    "\n",
    "Please note, in the case of **non-stationary** problems, namely where $E = E \\left( t \\right)$ and $p = p \\left( t \\right)$, the simple derivative $\\partial^2 \\psi / \\partial t^2 = - \\omega^2 \\psi$ **does not hold true** anymore and more time-dependent parameters have to be considered. However, Schrödinger proposed for a *time-dependent* potential energy $E_{\\mathrm{pot}} = E_{\\mathrm{pot}} \\left(r, t \\right)$ the equation\n",
    "\n",
    "$$\n",
    "- \\frac{\\hbar^2}{2 m} \\, \\Delta \\psi\\left(r, t \\right) + E_{\\mathrm{pot}} \\left(r, t \\right) \\psi\\left(r, t \\right) = i \\hbar \\frac{\\partial}{\\partial t} \\psi\\left(r, t \\right) \\mathrm{,}\n",
    "$$\n",
    "\n",
    "which was confirmed by numerous experiments. For stationary problems, one can again separate the wave function into a position- and a time-dependent factor and get the stationary Schrödinger equation as stated above."
   ]
  }
 ],
 "metadata": {
  "kernelspec": {
   "display_name": "Python 3 (ipykernel)",
   "language": "python",
   "name": "python3"
  },
  "language_info": {
   "codemirror_mode": {
    "name": "ipython",
    "version": 3
   },
   "file_extension": ".py",
   "mimetype": "text/x-python",
   "name": "python",
   "nbconvert_exporter": "python",
   "pygments_lexer": "ipython3",
   "version": "3.8.12"
  },
  "widgets": {
   "application/vnd.jupyter.widget-state+json": {
    "state": {},
    "version_major": 2,
    "version_minor": 0
   }
  }
 },
 "nbformat": 4,
 "nbformat_minor": 5
}
