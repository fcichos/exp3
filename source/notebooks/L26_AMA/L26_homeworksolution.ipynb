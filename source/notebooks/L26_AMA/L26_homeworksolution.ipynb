{
 "cells": [
  {
   "cell_type": "markdown",
   "id": "70669809-57e5-4c60-9f2e-a50e60a004b6",
   "metadata": {},
   "source": [
    "### The case $E_0 < 0 < E$"
   ]
  },
  {
   "cell_type": "markdown",
   "id": "dd011369-5d9b-484f-a472-76e2deac01e1",
   "metadata": {},
   "source": [
    "In this case the potential barrier is negative ($E_0 < 0$). In the framework of classical mechanics, every particle is allowed to enter region 2 ($x>0$) and to propagate there with an increased velocity due to their increased kinetic energy ($E_{\\mathrm{kin}} = E - E_0$). This situation is analoque to the transition of a light wave from a medium with a higher index of refraction into a medium with a lower index.\n",
    "\n",
    "<figure>\n",
    "      <img src=\"img/L25_potential_barrier_3.png\" width=\"75%\">\n",
    "  <figcaption>**Fig.: A wave with a kinetic energy of $E_{\\mathrm{kin}}$ approaches a potential step with $E_0 < 0$.** \n",
    "  </figcaption>\n",
    "</figure>\n",
    "\n",
    "The quantum mechanical discussion of this special case is part of the exercise and supposed to be submitted at January 26, 2023 before teh lectuire starts. The details will be discussed in the seminar and posted here afterward."
   ]
  },
  {
   "cell_type": "markdown",
   "id": "c11fe941-387d-415e-9df0-6379d8894ef8",
   "metadata": {},
   "source": [
    "### Solution"
   ]
  },
  {
   "cell_type": "markdown",
   "id": "66c19a90-0d5e-42ed-909e-65594cee3937",
   "metadata": {},
   "source": [
    "As in the cases above we split the our space $-\\infty < x < +\\infty$ into two regions, namely region 1 with $x < 0$ and region 2 with $x \\ge 0$. Furthermore, we can allready state the general solutions for the position-dependent amplitude $\\psi \\left( x \\right) in both regions, namely \n",
    "\n",
    "$$\n",
    "\\begin{eqnarray}\n",
    "\\psi_1 \\left( x \\right) = A \\cdot \\mathrm{e}^{+i k x} + B \\cdot \\mathrm{e}^{-i k x}\\\\\n",
    "\\psi_2 \\left( x \\right) = C \\cdot \\mathrm{e}^{-i \\kappa x} + D \\cdot \\mathrm{e}^{+i \\kappa x} \\mathrm{,}\n",
    "\\end{eqnarray}\n",
    "$$\n",
    "\n",
    "where \n",
    "\n",
    "$$\n",
    "\\kappa = i \\alpha = \\frac{\\sqrt{2 m \\left( E - E_0 \\right)}}{\\hbar} \\mathrm{.}\n",
    "$$\n",
    "\n",
    "From the boundarey conditions\n",
    "\n",
    "$$\n",
    "\\begin{eqnarray}\n",
    "\\psi_1 \\left( x = 0 \\right) & = & \\psi_2 \\left( x = 0 \\right) \\; \\; \\mathrm{and}\\\\\n",
    "\\frac{\\partial}{\\partial x} \\psi_1 \\left( x = 0 \\right) & = &  \\frac{\\partial}{\\partial x} \\psi_2 \\left( x = 0 \\right)\\\\\n",
    "\\end{eqnarray}\n",
    "$$\n",
    "\n",
    "we get\n",
    "\n",
    "$$\n",
    "\\begin{eqnarray}\n",
    "A + B & = & C +D \\; \\; \\mathrm{and}\\\\\n",
    "i k \\left(A - B \\right) & = & i \\kappa \\left( -C + D \\right) \\mathrm{,}\n",
    "\\end{eqnarray}\n",
    "$$\n",
    "\n",
    "respectively. In addition, we set $C = 0$, because therre is no wave to be expected propagating along the $-x$ direction in region 2. As a consequence we can determine the coefficients as\n",
    "\n",
    "$$\n",
    "\\begin{eqnarray}\n",
    "B & = & \\frac{k - \\kappa}{k + \\kappa} A \\; \\; \\mathrm{and}\\\\\n",
    "D & = & \\frac{2 k}{k + \\kappa} A \\mathrm{,}\n",
    "\\end{eqnarray}\n",
    "$$\n",
    "\n",
    "being identical to the above case for $0 < E_0 < E$. As a consequence the reflection coefficient,\n",
    "\n",
    "$$\n",
    "R = \\frac{\\left| B \\right|^2}{\\left| A \\right|^2} = \\frac{\\left| k - \\kappa \\right|^2}{\\left| k + \\kappa \\right|^2}\n",
    "$$\n",
    "\n",
    "and transmission coefficient\n",
    "\n",
    "$$\n",
    "T = \\frac{4 \\kappa k}{\\left( k + \\kappa \\right)^2}\\mathrm{.}\n",
    "$$\n",
    "\n",
    "obey the identical equations. However, bear in mind that $E_0 < 0$ and thus $\\kappa$ is real number with\n",
    "\n",
    "\n",
    "$$\n",
    "\\frac{\\kappa}{k} = \\frac{\\sqrt{E + \\left| E_0 \\right|}}{\\sqrt{E}} = \\sqrt{1 + \\frac{\\left| E_0 \\right|}{E}}\n",
    "$$\n",
    "\n",
    "and $\\kappa \\ge k$. In addition, the transmission coefficient is *non-zero* for e wide range of the relative energy $E/E_0$ which is in stark contradiction to classical mechanics.\n",
    "\n",
    "<figure>\n",
    "      <img src=\"img/L26_potential_barrier_r_t_5_1.png\" width=\"45%\">\n",
    "      <img src=\"img/L26_potential_barrier_r_t_5_2.png\" width=\"45%\">\n",
    "  <figcaption>**Fig.: (left) The transmission coefficient $T$ and reflection coefficient $R$ in dependence of the particle's relative energy $E / E_0$ in the case of a negative potential step $E_0 < 0$. (right) $1 - T$ in a logarithmic scale. Note that $T$ is non-zero for a wide range of energy.**\n",
    "  </figcaption>\n",
    "</figure>"
   ]
  }
 ],
 "metadata": {
  "kernelspec": {
   "display_name": "Python 3 (ipykernel)",
   "language": "python",
   "name": "python3"
  },
  "language_info": {
   "codemirror_mode": {
    "name": "ipython",
    "version": 3
   },
   "file_extension": ".py",
   "mimetype": "text/x-python",
   "name": "python",
   "nbconvert_exporter": "python",
   "pygments_lexer": "ipython3",
   "version": "3.8.12"
  },
  "widgets": {
   "application/vnd.jupyter.widget-state+json": {
    "state": {},
    "version_major": 2,
    "version_minor": 0
   }
  }
 },
 "nbformat": 4,
 "nbformat_minor": 5
}
