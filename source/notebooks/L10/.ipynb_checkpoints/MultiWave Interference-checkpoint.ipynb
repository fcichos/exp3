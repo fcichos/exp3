{
 "cells": [
  {
   "cell_type": "markdown",
   "metadata": {},
   "source": [
    "## Multiple Wave Interference"
   ]
  },
  {
   "cell_type": "markdown",
   "metadata": {},
   "source": [
    "### Multiple Wave Interference with Decreasing Amplitude"
   ]
  },
  {
   "cell_type": "markdown",
   "metadata": {},
   "source": [
    "We will turn our attention now to a slight modification of the previous multiwave interference. We will introduce a decreasing amplitude of the individual waves. The first wave shall have an amplitude $U_1=\\sqrt{I_0}$. The next wave, however, will not only be phase shifted but also have a smaller amplitude.\n",
    "\n",
    "\n",
    "$$\n",
    "U_2=h U_1\n",
    "$$\n",
    "\n",
    "where $h=re^{i\\phi}$ with $|h|=r<1$. $r$ can be regarded as a reflection coefficient, which deminishes the amplitude of the incident wave. According to that the intensity is reduced by \n",
    "\n",
    "$$\n",
    "I_2=|U_2|^2=|h U_1|^2=r^2 I_1\n",
    "$$\n",
    "\n",
    "The intensity of the incident wave is multiplied by a  factor $r^2$, while the amplitude is multiplied by $r$. Note that the phase factor $e^{i\\phi}$ is removed when taking the square of this complex number. "
   ]
  },
  {
   "cell_type": "markdown",
   "metadata": {},
   "source": [
    "<div class=\"alert alert-info\">\n",
    "\n",
    "**Intensity at Boundaries**\n",
    "    \n",
    "The amplitude of the reflected wave is diminished by a factor \n",
    "$r\\le 1$, which is called the reflection coefficient. The intensity is diminished by a factor $R=|r|^2\\le1$, which is the **reflectance**.\n",
    "    \n",
    "In the absence of absorption, reflectance $R$  and **transmittance** $T$ add to one due to energy conservation. \n",
    "    \n",
    "$$\n",
    "R+T=1\n",
    "$$\n",
    "    \n",
    "</div>"
   ]
  },
  {
   "cell_type": "markdown",
   "metadata": {},
   "source": [
    "Consequently, the third wave would be now $U_3=hU_2=h^2U_1$.\n",
    "The total amplitude is thus \n",
    "\n",
    "$$\n",
    "U=U_1+U_2+U_3+\\ldots+U_M = \\sqrt{I_0}(1+h+h^2+\\ldots)\n",
    "$$\n",
    "\n",
    "|<img src=\"img/multi_wave_decreasing.png\" width=\"70%\">|\n",
    "|-|\n",
    "| **Fig.:** Multiple wave interefence with decreasing amplitudes. Left: Phase construction of a multiwave intereference with M equal amplitude waves. Right: Intensity distribution obtained as a function of the phase shift $\\phi$. |\n",
    "\n",
    "This yields again\n",
    "\n",
    "$$\n",
    "U=\\sqrt{I_0}\\frac{(1-h^M)}{1-h}=\\frac{\\sqrt{I_0}}{1-r e^{i\\phi}}\n",
    "$$\n",
    "\n",
    "Calculating the intensity of the waves is giving\n",
    "\n",
    "$$\n",
    "I=|U|^2=\\frac{I_{0}}{|1-re^{i\\phi}|^2}=\\frac{I_0}{(1-r)^2+4r\\sin^2(\\phi/2)}\n",
    "$$\n",
    "\n",
    "which is also known as the **Airy function**. This function can be further simplified by the following abbrevations\n",
    "\n",
    "$$\n",
    "I_{\\rm max}=\\frac{I_0}{(1-r)^2}\n",
    "$$\n",
    "\n",
    "and \n",
    "\n",
    "$$\n",
    "\\mathcal{F}=\\frac{\\pi \\sqrt{r}}{1-r}\n",
    "$$\n",
    "\n",
    "where the latter is called the *Finesse*. With those abbrevations, we obtain\n",
    "\n",
    "$$\n",
    "I=\\frac{I_{\\rm max}}{1+4\\left(\\frac{\\mathcal{F}}{\\pi}\\right)\\sin^{2}(\\phi/2)}\n",
    "$$\n",
    "\n",
    "for the interference of multiple waves with decreasing amplitude. "
   ]
  },
  {
   "cell_type": "markdown",
   "metadata": {},
   "source": [
    "This intensity distribution has a different shape than the one we obtained for multiple waves with the same amplitude."
   ]
  },
  {
   "cell_type": "markdown",
   "metadata": {},
   "source": [
    "|<img src=\"img/perot.png\" width=\"60%\">|\n",
    "|-|\n",
    "| **Fig.:** Multiple wave interference with decreasing amplitude. The graph shows the intensity distribution over the phase angle $\\phi$ for different values of the Finesse $\\mathcal{F}$.|"
   ]
  },
  {
   "cell_type": "markdown",
   "metadata": {},
   "source": [
    "We clearly observe that with increasing Finesse the intensity maxima, which occur at multiples fo $\\pi$ get much narrower. In addition the regions between the maxima show better contrast and fopr higher Finesse we get complete destructive interference. "
   ]
  }
 ],
 "metadata": {
  "kernelspec": {
   "display_name": "Python 3 (ipykernel)",
   "language": "python",
   "name": "python3"
  },
  "language_info": {
   "codemirror_mode": {
    "name": "ipython",
    "version": 3
   },
   "file_extension": ".py",
   "mimetype": "text/x-python",
   "name": "python",
   "nbconvert_exporter": "python",
   "pygments_lexer": "ipython3",
   "version": "3.8.12"
  },
  "toc-autonumbering": false,
  "toc-showmarkdowntxt": false,
  "toc-showtags": false,
  "widgets": {
   "application/vnd.jupyter.widget-state+json": {
    "state": {},
    "version_major": 2,
    "version_minor": 0
   }
  }
 },
 "nbformat": 4,
 "nbformat_minor": 4
}
