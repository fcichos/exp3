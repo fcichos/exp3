{
 "cells": [
  {
   "cell_type": "markdown",
   "metadata": {},
   "source": [
    "# Fresnel Equations"
   ]
  },
  {
   "cell_type": "markdown",
   "metadata": {},
   "source": [
    "<style>\n",
    "figure {\n",
    "  border: 1px #cccccc solid;\n",
    "  padding: 4px; \n",
    "  display: block;\n",
    "  margin-left: auto;\n",
    "  margin-right: auto;\n",
    "}\n",
    "\n",
    "figcaption {\n",
    "  background-color: #eeeeee;\n",
    "  color: black;\n",
    "  padding: 2px;\n",
    "}\n",
    "</style>"
   ]
  },
  {
   "cell_type": "markdown",
   "metadata": {},
   "source": [
    "In the last lecture, we have discussed the matching of the frequency and the wavevector at an interface between the two materials. We now also need to have a look at the matching of the electric field amplitudes at the boundaries. "
   ]
  },
  {
   "cell_type": "markdown",
   "metadata": {},
   "source": [
    "## Reflection"
   ]
  },
  {
   "cell_type": "markdown",
   "metadata": {},
   "source": [
    "**s-polarized light**"
   ]
  },
  {
   "cell_type": "markdown",
   "metadata": {},
   "source": [
    "We would first like to have a look at light that is polarized perpendicular to the incident plane - so-called s-polarized light.\n",
    "According to our previous definition, s-polarized light is directed along the y-axis of our coordinate system. The incident light amplitude\n",
    "is therefore written as\n",
    "\n",
    "$$\n",
    "\\vec{E}_I=E_I\\hat{e}_y\n",
    "$$\n",
    "\n",
    "This electric field vector is perpendicular to the plane of incidence. With this polarization the reflected and the refracted electric field also have to have this polarizations and thus\n",
    "\n",
    "$$\n",
    "\\vec{E}_R=E_{R}\\hat{e}_y\n",
    "$$\n",
    "\n",
    "and\n",
    "\n",
    "$$\n",
    "\\vec{E}_T=E_{T}\\hat{e}_y\n",
    "$$\n",
    "\n",
    "From this it also follows that at the boundary, the incident and the reflected field must be the same as the transmitted field in our matching condition. This is due to the fact that s-polarized light it always parallel to the interface. \n",
    "\n",
    "$$\n",
    "E_I+E_R=E_T\n",
    "\\tag{matching}\n",
    "$$\n",
    "\n",
    "The magnetic field lies then in the plane of incidence as it is perpendicular to $\\vec{k}_I$ and $\\vec{E}_I$. It has components parallel $||$ and perpendicular $\\perp$ to the interface. The tangential components as well as the perpendicular ones are conserved so we can write for the tangential ones\n",
    "\n",
    "$$\n",
    "B_I\\cos(\\theta_I)-B_R\\cos(\\theta_R)=B_T\\cos(\\theta_T)\n",
    "$$\n",
    "\n",
    "Given the fact that \n",
    "\n",
    "$$\n",
    "\\vec{B}=\\frac{1}{v}(\\hat{v}\\times \\vec{E})\n",
    "$$\n",
    "\n",
    "and that all three vectors are orthogonal we can use the relation $B=E/v$ for the magnetic and electric field amplitudes and  $\\theta_I=\\theta_R$ to obtain\n",
    "\n",
    "$$\n",
    "\\frac{E_I-E_r}{v_1}\\cos(\\theta_I)=\\frac{E_T}{v_2}\\cos(\\theta_T)\n",
    "$$\n",
    "\n",
    "With the help of the condition *matching* above we can replace the transmitted electric field $E_T$ and using $v_1=c/n_1$ and $v_2=c/n_2$ we finally find\n",
    "\n",
    "$$\n",
    "\\frac{E_R}{E_I}=\\frac{n_1\\cos(\\theta_I)-n_2\\cos(\\theta_T)}{n_1\\cos(\\theta_I)+n_2\\cos(\\theta_T)}=r_s\n",
    "$$\n",
    "\n",
    "This is the **Fresnel coefficient for the reflection of s-polarized light** $r_s$. If we replace not the transmitted but the reflected electric field in the formula above, we may obtain the **Fresnel coefficient for the transmission of s-polarized light** $t_s$\n",
    "\n",
    "$$\n",
    "\\frac{E_T}{E_I}=\\frac{2n_1\\cos(\\theta_I)}{n_1\\cos(\\theta_I)+n_2\\cos(\\theta_T)}=t_s\n",
    "$$\n"
   ]
  },
  {
   "cell_type": "markdown",
   "metadata": {},
   "source": [
    "**p-polarized light**\n",
    "\n",
    "If the electric field is parallel to the plane of incidence, then we need to split it into parallel $||$ and perpendicular $\\perp$ components. The incident field may be written as\n",
    "\n",
    "$$\n",
    "\\vec{E}_I=-E_I\\sin(\\theta_I)\\hat{e}_x+E_I\\cos(\\theta_I)\\hat{e}_z\n",
    "$$\n",
    "\n",
    "where $\\hat{e}_z$ and $\\hat{e}_x$ are the unit vectors in the z- and x-direction, respectively. The first term is the normal component to the boundary and the second the parallel component. We may pick out the parallel part, for which we know that the electric field is just continuous across the interface.\n",
    "\n",
    "$$\n",
    "E_I\\cos(\\theta_I)+E_R\\cos(\\theta_R)=E_T\\cos(\\theta_T)\n",
    "$$\n",
    "\n",
    "Now the magnetic field is perpendicular to the plane of incidence and we may write\n",
    "\n",
    "$$\n",
    "B_I-B_R=B_T\n",
    "$$\n",
    "\n",
    "for the matching condition of the magnetic field. From this follows that \n",
    "\n",
    "$$\n",
    "\\frac{E_I-E_R}{v_1}=\\frac{E_T}{v_2}\n",
    "$$\n",
    "\n",
    "We may now replace again the transmitted field, which results finally in the **Fresnel coefficient for the reflection of p-polarized light** $r_p$\n",
    "\n",
    "$$\n",
    "\\frac{E_R}{E_I}=\\frac{n_2\\cos(\\theta_I)-n_1\\cos(\\theta_T)}{n_1\\cos(\\theta_T)+n_2\\cos(\\theta_I)}=r_p\n",
    "$$\n",
    "\n",
    "Finally, we may also do the same for the **Fresnel coefficient of the transmission of p-polarized light** $t_p$\n",
    "\n",
    "$$\n",
    "\\frac{E_T}{E_I}=\\frac{2n_1\\cos(\\theta_I)}{n_1\\cos(\\theta_T)+n_2\\cos(\\theta_I)}=t_p\n",
    "$$\n"
   ]
  },
  {
   "cell_type": "markdown",
   "metadata": {},
   "source": [
    "<div class=\"alert alert-info\">\n",
    "\n",
    "**Fresnel Equations**\n",
    "\n",
    "The Fresnel equations give the relations for the amplitude of the transmitted and reflected electric fields to the incident electric field amplitude as a function of the angle of incident and the light polarization.\n",
    "    \n",
    "**s-polarization**\n",
    "    \n",
    "$$\n",
    "\\frac{E_R}{E_I}=\\frac{n_1\\cos(\\theta_I)-n_2\\cos(\\theta_T)}{n_1\\cos(\\theta_I)+n_2\\cos(\\theta_T)}=r_s\n",
    "\\tag{Fresnel Coefficient $r_s$}\n",
    "$$\n",
    "\n",
    "$$\n",
    "\\frac{E_T}{E_I}=\\frac{2n_1\\cos(\\theta_I)}{n_1\\cos(\\theta_I)+n_2\\cos(\\theta_T)}=t_s\n",
    "\\tag{Fresnel Coefficient $t_s$}\n",
    "$$\n",
    "\n",
    "    \n",
    "**p-polarization**\n",
    "    \n",
    "$$\n",
    "\\frac{E_R}{E_I}=\\frac{n_2\\cos(\\theta_I)-n_1\\cos(\\theta_T)}{n_1\\cos(\\theta_T)+n_2\\cos(\\theta_I)}=r_p\n",
    "\\tag{Fresnel Coefficient $r_p$}\n",
    "$$\n",
    "    \n",
    "$$\n",
    "\\frac{E_T}{E_I}=\\frac{2n_1\\cos(\\theta_I)}{n_1\\cos(\\theta_T)+n_2\\cos(\\theta_I)}=t_p\n",
    "\\tag{Fresnel Coefficient $t_p$}\n",
    "$$    \n",
    "    \n",
    "</div>"
   ]
  },
  {
   "cell_type": "markdown",
   "metadata": {},
   "source": [
    "### Air to Glass "
   ]
  },
  {
   "cell_type": "markdown",
   "metadata": {},
   "source": [
    "<figure>\n",
    "      <img src=\"img/reflection_air_glass.png\" width=\"70%\">\n",
    "  <figcaption>**Fig.:** Polarization of an electric cloud of an atom.\n",
    "  </figcaption>\n",
    "</figure>"
   ]
  },
  {
   "cell_type": "markdown",
   "metadata": {},
   "source": [
    "### Glass to Air"
   ]
  },
  {
   "cell_type": "markdown",
   "metadata": {},
   "source": [
    "<figure>\n",
    "      <img src=\"img/reflection_glass_air.png\" width=\"70%\">\n",
    "  <figcaption>**Fig.:** \n",
    "  </figcaption>\n",
    "</figure>\n"
   ]
  },
  {
   "cell_type": "markdown",
   "metadata": {},
   "source": [
    "## Transmission"
   ]
  },
  {
   "cell_type": "markdown",
   "metadata": {},
   "source": [
    "### Air to Glass"
   ]
  },
  {
   "cell_type": "markdown",
   "metadata": {},
   "source": [
    "<figure>\n",
    "      <img src=\"img/transmission_air_glass.png\" width=\"70%\">\n",
    "  <figcaption>**Fig.:** \n",
    "  </figcaption>\n",
    "</figure>"
   ]
  },
  {
   "cell_type": "markdown",
   "metadata": {},
   "source": [
    "### Glass to Air"
   ]
  },
  {
   "cell_type": "markdown",
   "metadata": {},
   "source": [
    "<figure>\n",
    "      <img src=\"img/transmission_glass_air.png\" width=\"70%\">\n",
    "  <figcaption>**Fig.:** \n",
    "  </figcaption>\n",
    "</figure>"
   ]
  },
  {
   "cell_type": "markdown",
   "metadata": {},
   "source": [
    "## Brewster Angle"
   ]
  },
  {
   "cell_type": "markdown",
   "metadata": {},
   "source": [
    "## Total Internal Reflection, Evanescent Waves"
   ]
  }
 ],
 "metadata": {
  "kernelspec": {
   "display_name": "Python 3",
   "language": "python",
   "name": "python3"
  },
  "language_info": {
   "codemirror_mode": {
    "name": "ipython",
    "version": 3
   },
   "file_extension": ".py",
   "mimetype": "text/x-python",
   "name": "python",
   "nbconvert_exporter": "python",
   "pygments_lexer": "ipython3",
   "version": "3.8.5"
  },
  "toc-autonumbering": true,
  "toc-showmarkdowntxt": false,
  "toc-showtags": false
 },
 "nbformat": 4,
 "nbformat_minor": 4
}
