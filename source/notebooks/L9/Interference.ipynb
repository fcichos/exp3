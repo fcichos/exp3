{
 "cells": [
  {
   "cell_type": "markdown",
   "metadata": {},
   "source": [
    "# Coherence"
   ]
  },
  {
   "cell_type": "markdown",
   "metadata": {},
   "source": [
    "One of the important properties I have assumed in the calculation of interference during the last lecture has been coherence. Coherence denotes the phase relation between two waves. "
   ]
  },
  {
   "cell_type": "markdown",
   "metadata": {},
   "source": [
    "<div class=\"alert alert-info\">\n",
    "\n",
    "**Coherence** \n",
    "    \n",
    "Two waves are called coherent if they exihibit a fixed phase relation over time. A constant phase relation allows the observation of interference effects. \n",
    " \n",
    "</div>"
   ]
  },
  {
   "cell_type": "markdown",
   "metadata": {},
   "source": [
    "|<img src=\"img/coherence.png\" width=\"90%\"> |\n",
    "|-|\n",
    "| **Fig.:** Two waves of different frequency over time.|"
   ]
  },
  {
   "cell_type": "markdown",
   "metadata": {},
   "source": [
    "The above image shows the timetrace of the amplitude of two waves with slightly different frequency. Due to the frequency, the waves run out of phase and have acquired a phase difference of $\\pi$ after $40$ fs. "
   ]
  },
  {
   "cell_type": "markdown",
   "metadata": {},
   "source": [
    "The temporal coherence of two waves is now defined by the time it takes for the two waves to obtain a phase difference of $2\\pi$."
   ]
  },
  {
   "cell_type": "markdown",
   "metadata": {},
   "source": [
    "# Interferometers"
   ]
  },
  {
   "cell_type": "markdown",
   "metadata": {},
   "source": [
    "Due to the short wavelength in the optical range, interference is an extremely senstive tool to measures small differences in the optical path length. This is used in a number of applications culminating in the detection of gravitational waves on large length scales and single molecules on the other extreme."
   ]
  },
  {
   "cell_type": "markdown",
   "metadata": {},
   "source": [
    "## Michelson Interferometer"
   ]
  },
  {
   "cell_type": "markdown",
   "metadata": {},
   "source": [
    "The Michelson interferometer is probably the most famous one due to the experiments by Michelson on the existence of the ether (a medium in which light was supposed to propagate) and nowadays also by the LIGO experiments for the detection of gravitational waves. The Michelson interferometer splits an incoming light wave with a beamsplitter (BS) into two equally intense waves that are directed towards two mirrors (M)."
   ]
  },
  {
   "cell_type": "markdown",
   "metadata": {},
   "source": [
    "|<img src=\"img/michelson.png\" width=\"40%\"> |\n",
    "|-|\n",
    "| **Fig.:** Michelson interferometer.|"
   ]
  },
  {
   "cell_type": "markdown",
   "metadata": {},
   "source": [
    "The light is reflected by the mirrors and joined again at the beamsplitter to propagate towards the screen. If the incident wave is a perfect plane wave and the interferometer is aligned perfectly with both arms having the same length, you will observe a bright screen, which, when one are is elongated by half a wavelength is turin dark to show destructive interference. \n",
    "Yet, this perfect alignment does not exist neither a perfect plane wave. Therefore, the pattern observed at the screen is either a stripe or ring pattern. Note that if the screen would be completely dark due to desctructive interference, all light would be reflected back towards the laser. "
   ]
  },
  {
   "cell_type": "markdown",
   "metadata": {},
   "source": [
    "## Mach-Zehnder Interferometer"
   ]
  },
  {
   "cell_type": "markdown",
   "metadata": {},
   "source": [
    "Another important interferometer is the Mach Zehnder interferometer, which is sketched below. There two beamsplitters separate and unite the beams which finally end on two screens. The screens do both display interference patterns, which are complementary, meaning that the regions where the screens are bright on one side are dark on the other screen. This type of interfereometer is often used in integrated circuits and quantum information technology."
   ]
  },
  {
   "cell_type": "markdown",
   "metadata": {},
   "source": [
    "|<img src=\"img/mach.png\" width=\"40%\"> |\n",
    "|-|\n",
    "| **Fig.:** Mach Zehnder interferometer.|"
   ]
  },
  {
   "cell_type": "markdown",
   "metadata": {},
   "source": [
    "## Sagnac Interferometer"
   ]
  },
  {
   "cell_type": "markdown",
   "metadata": {},
   "source": [
    "|<img src=\"img/sagnac.png\" width=\"50%\"> |\n",
    "|-|\n",
    "| **Fig.:** Sagnac interferometer.|"
   ]
  },
  {
   "cell_type": "markdown",
   "metadata": {},
   "source": [
    "## Thin Film Interference"
   ]
  },
  {
   "cell_type": "markdown",
   "metadata": {},
   "source": [
    "|<img src=\"img/thin_film.png\" width=\"60%\"> |\n",
    "|-|\n",
    "| **Fig.:** Thin film interference.|"
   ]
  }
 ],
 "metadata": {
  "kernelspec": {
   "display_name": "Python 3",
   "language": "python",
   "name": "python3"
  },
  "language_info": {
   "codemirror_mode": {
    "name": "ipython",
    "version": 3
   },
   "file_extension": ".py",
   "mimetype": "text/x-python",
   "name": "python",
   "nbconvert_exporter": "python",
   "pygments_lexer": "ipython3",
   "version": "3.8.5"
  },
  "toc-autonumbering": false,
  "toc-showmarkdowntxt": false,
  "toc-showtags": false
 },
 "nbformat": 4,
 "nbformat_minor": 4
}
