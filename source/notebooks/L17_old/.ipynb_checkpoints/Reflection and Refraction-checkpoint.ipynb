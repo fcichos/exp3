{
 "cells": [
  {
   "cell_type": "markdown",
   "metadata": {},
   "source": [
    "# Reflection and Refraction of Electromagnetic Waves"
   ]
  },
  {
   "cell_type": "markdown",
   "metadata": {},
   "source": [
    "<style>\n",
    "figure {\n",
    "  border: 1px #cccccc solid;\n",
    "  padding: 4px; \n",
    "  display: block;\n",
    "  margin-left: auto;\n",
    "  margin-right: auto;\n",
    "}\n",
    "\n",
    "figcaption {\n",
    "  background-color: #eeeeee;\n",
    "  color: black;\n",
    "  padding: 2px;\n",
    "}\n",
    "</style>"
   ]
  },
  {
   "cell_type": "markdown",
   "metadata": {},
   "source": [
    "Before we have a look at the behavior of electromagnetic waves at boundaries, we would like to setup the stage for those consideraations. For this purpose we need to define the geometry we are referring to and also have a look at the electric fields (and magnetic fields) that will be present. The sketch below shows the wavevectors of the incident $\\vec{k}_I$, reflected $\\vec{k}_R$ and transmitted $\\vec{k}_T$ waves in the two materials with the refractive indices $n_1$ and $n_2$."
   ]
  },
  {
   "cell_type": "markdown",
   "metadata": {},
   "source": [
    "<figure>\n",
    "      <img src=\"img/setup_k.png\" width=\"40%\">\n",
    "  <figcaption>**Fig.:** Polarization of an electric cloud of an atom.\n",
    "  </figcaption>\n",
    "</figure>"
   ]
  },
  {
   "cell_type": "markdown",
   "metadata": {},
   "source": [
    "These wavevectors are connected to the following plane waves, we will consider. We will first assume that these three waves have different frequencies as well, even though we may guess that they have the same as they all stem from the incident wave."
   ]
  },
  {
   "cell_type": "markdown",
   "metadata": {},
   "source": [
    "$$\n",
    "\\vec{E}_{\\rm inc}=\\vec{E}_I e^{i(\\omega_I t -\\vec{k}_I\\cdot \\vec{r})}\n",
    "\\tag{incident}\n",
    "$$\n",
    "\n",
    "$$\n",
    "\\vec{E}_{\\rm ref}=\\vec{E}_R e^{i(\\omega_R t -\\vec{k}_R\\cdot \\vec{r})}\n",
    "\\tag{reflected}\n",
    "$$\n",
    "\n",
    "$$\n",
    "\\vec{E}_{\\rm tra}=\\vec{E}_T e^{i(\\omega_T t -\\vec{k}_T\\cdot \\vec{r})}\n",
    "\\tag{transmitted}\n",
    "$$\n"
   ]
  },
  {
   "cell_type": "markdown",
   "metadata": {},
   "source": [
    "What we have to consider, however, is the direction of polarization of their electric or magnetic fields. This is important and shall not be confused in the following.\n",
    "We will differentiate between \n",
    "\n",
    "- **p-polarized light:** electric field is in the plane of incidence (given by the k-vector and the surface normal), also called transverse magnetic (TM)\n",
    "- **s-polarized light:** electric field is perpendicular to the plane of incidence, also called transverse electric (TE)\n",
    "\n",
    "This is sketched in the image below. "
   ]
  },
  {
   "cell_type": "markdown",
   "metadata": {},
   "source": [
    "<figure>\n",
    "      <img src=\"img/pol_decomp.png\" width=\"70%\">\n",
    "  <figcaption>**Fig.:** Polarization of an electric cloud of an atom.\n",
    "  </figcaption>\n",
    "</figure>"
   ]
  },
  {
   "cell_type": "markdown",
   "metadata": {},
   "source": [
    "To apply the boundary conditions, we will further need to split thesse polarisation vectors into components, which are **parallel** ($||$) or **perpendicular** ($\\perp$) to the interface. This is required as we will have boundary conditions for the electric and magnetic fields either parallel or perpendicular to the interface. The s-polarisation, for example, has an electric field, which is always parallel to the interface, while the p-polarization comprises both components."
   ]
  },
  {
   "cell_type": "markdown",
   "metadata": {},
   "source": [
    "## Boundary Condition"
   ]
  },
  {
   "cell_type": "markdown",
   "metadata": {},
   "source": [
    "The boundary conditions fo rthe electric or magnetic field passing an interface are derived from the Maxwell equations. As I assume you have don this already in the electro- and magnetostatics lectures, I will only resume shortly here."
   ]
  },
  {
   "cell_type": "markdown",
   "metadata": {},
   "source": [
    "<figure>\n",
    "      <img src=\"img/boundary.png\" width=\"70%\">\n",
    "  <figcaption>**Fig.:** Polarization of an electric cloud of an atom.\n",
    "  </figcaption>\n",
    "</figure>"
   ]
  },
  {
   "cell_type": "markdown",
   "metadata": {},
   "source": [
    "Let us take the divergence of the displacement field $\\nabla \\cdot \\vec{D}=\\rho_f$ which is equal to the density of free charges. When integrating both sides over the volume\n",
    "\n",
    "$$\n",
    "\\int\\nabla \\vec{D} dV=\\int \\rho_f dV\n",
    "$$\n",
    "\n",
    "we can apply Gauss' theorem and replace the volume integral over the divergence with an integral over closed surface of that volume\n",
    "\n",
    "$$\n",
    "\\oint \\vec{D} d\\vec{A}= q_f\n",
    "$$\n",
    "\n",
    "where $d\\vec{A}$ is a vector standing perpendicular on the surface element $dA$ and $q_f$ are the free charges in the volume. If we now consider a volume, which has the shape of a pillbox as displayed in the above sketch on the left side, we may let the height of the volume contract to zero and write the surface integral as\n",
    "\n",
    "$$\n",
    "(\\vec{D}_2-\\vec{D}_1)\\cdot \\hat{n}=q_f/A=\\sigma_f\n",
    "$$\n",
    "\n",
    "where $A$ is the cap area of the cylinder and $\\hat{n}$ is a unit vector directed from material 2 to material 1. As the unit vector $\\hat{n}$ is perpendicular to the interface, this states that the difference in the normal components of the displacement field is due to free surfaces charges. Thus in the case of no free charges at the interface ($\\sigma_f=0$), the normal components of the displacement field is conserved across the interface. \n",
    "\n",
    "$$\n",
    "D_{1\\perp}=D_{1\\perp}\n",
    "\\tag{for $\\sigma_f=0$}\n",
    "$$\n",
    "\n",
    "This also says that there is a jump in the normal electric field component \n",
    "\n",
    "$$\n",
    "\\frac{E_{1\\perp}}{E_{2\\perp}}=\\frac{\\epsilon_2}{\\epsilon_1}\n",
    "$$\n",
    "\n",
    "as $D=\\epsilon E$. A similar calculation can also be done with the magnetic flux density $\\nabla \\cdot \\vec{B}=0$, which yields tha the normal component of the flux density is conserved as well, but the magnetic field normal component has a jump according to the magnetic permeabilities $\\mu_1,\\mu_2$."
   ]
  },
  {
   "cell_type": "markdown",
   "metadata": {},
   "source": [
    "The right sketch in the above Figure indicates the calculations that yield the boundary conditions for the parallel components of the electric and magnetic field. Here we use the Maxwell equation \n",
    "\n",
    "$$\n",
    "\\nabla \\times \\vec{E}=-\\frac{\\partial \\vec{B}}{\\partial t}\n",
    "$$\n",
    "\n",
    "Integrating both sides over an area allows us to use Stokes theorem, stating that the integral over the rotation of an electric field can be transformed into a closed loop integral over the electric field.\n",
    "\n",
    "$$\n",
    "\\oint \\vec{E} d\\vec{l}=-\\frac{\\partial}{\\partial t}\\int \\vec{B}d\\vec{A}\n",
    "$$\n",
    "\n",
    "Letting the area go to zero as well, we find\n",
    "\n",
    "$$\n",
    "\\hat{n} \\times (\\vec{E}_2-\\vec{E}_1)=0 \n",
    "$$\n",
    "\n",
    "or \n",
    "\n",
    "$$\n",
    "E_{2||}=E_{1||}\n",
    "$$\n",
    "\n",
    "saying that the tangential component of the electric field is conserved. In the case of zero surface currentsm, this is also true for the magnetic field ($\\vec{H}$) components along the interface."
   ]
  },
  {
   "cell_type": "markdown",
   "metadata": {},
   "source": [
    "## Reflection/Refraction"
   ]
  },
  {
   "cell_type": "markdown",
   "metadata": {},
   "source": [
    "We can now continue to calculate the mathcing of frequency and wavevector at the interface as well consider the amplitudes of the electric and magnetic fields."
   ]
  },
  {
   "cell_type": "markdown",
   "metadata": {},
   "source": [
    "### Frequency and Wavevector Matching"
   ]
  },
  {
   "cell_type": "markdown",
   "metadata": {},
   "source": [
    "Recalling the above formulas for the incident, reflected and transmitted plane waves, we can explicitely write down the components of the wavevectors of the three waves in our cordinate system"
   ]
  },
  {
   "cell_type": "markdown",
   "metadata": {},
   "source": [
    "<figure>\n",
    "      <img src=\"img/coordinates.png\" width=\"40%\">\n",
    "  <figcaption>**Fig.:** \n",
    "  </figcaption>\n",
    "</figure>"
   ]
  },
  {
   "cell_type": "markdown",
   "metadata": {},
   "source": [
    "According to that drawing, we have\n",
    "\n",
    "\n",
    "\\begin{eqnarray}\n",
    "\\vec{k}_I &=& k_I \\cos(\\theta_I)\\hat{e}_x+k_I \\sin(\\theta_I)\\hat{e}_z\\\\\n",
    "\\vec{k}_R &=& -k_R \\cos(\\theta_R)\\hat{e}_x+k_R \\sin(\\theta_R)\\hat{e}_z\\\\\n",
    "\\vec{k}_T &=& k_T \\cos(\\theta_T)\\hat{e}_x+k_T \\sin(\\theta_T)\\hat{e}_z\n",
    "\\end{eqnarray}\n",
    "\n",
    "Note that the component $\\hat{e}_x$ always provides the wavevector component perpendicular to the interface, while $\\hat{e}_z$ is the tangential (parallel) component. The total field in both sides is given by\n",
    "\n",
    "$$\n",
    "\\vec{E}=\\vec{E}_{\\rm inc}+\\vec{E}_{\\rm ref}\n",
    "\\tag{$x<0$}\n",
    "$$\n",
    "\n",
    "and\n",
    "\n",
    "$$\n",
    "\\vec{E}=\\vec{E}_{\\rm tra}\n",
    "\\tag{$x>0$}\n",
    "$$\n",
    "\n",
    "on the other side. We now want that those field mathc according to our previously described boundary conditions. "
   ]
  },
  {
   "cell_type": "markdown",
   "metadata": {},
   "source": [
    "This matching of the field shall be valid at all times, which directly requires\n",
    "\n",
    "$$\n",
    "\\omega_I=\\omega_R=\\omega_T\n",
    "\\tag{frequency mathcing}\n",
    "$$\n",
    "\n",
    "This is what we already guessed. Along the interface we also need to have a phase mathcing of the waves as already discussed in the wave optics chapter. This means that\n",
    "\n",
    "$$\n",
    "\\vec{k}_I\\cdot \\vec{r}=\\vec{k}_R\\cdot \\vec{r}=\\vec{k}_T\\cdot \\vec{r}\n",
    "$$\n",
    "\n",
    "at all positions $\\vec{r}$ that belong to the interface (i.e. $x=0$). Therefore $\\vec{r}=\\lbrace 0,y,z \\rbrace$ and the equalities yield\n",
    "\n",
    "$$\n",
    "k_I\\sin(\\theta_I)=k_R\\sin(\\theta_R)=k_T\\sin(\\theta_T)\n",
    "$$\n",
    "\n",
    "Since the magnitude of the wavevector of the incidenet and the reflected light is the same (both wave travel in the same material), we immediately find\n",
    "\n",
    "$\\theta_I=\\theta_R$\n",
    "\n",
    "For the incident and the transmitted wave we have to take the change of the wavenumber into account, which gives. \n",
    "\n",
    "\\begin{eqnarray}\n",
    "n_1 k_0\\sin(\\theta_I) &=& n_2 k_0\\sin(\\theta_T)\\\\\n",
    "n_1 \\sin(\\theta_I) &=& n_2 \\sin(\\theta_T)\n",
    "\\end{eqnarray}\n",
    "\n",
    "which is Snells law. Snells law is the result of the conservation of the parallel component of the wavevector across an interface, while the normal component has to have a jump according to the refractive indices. "
   ]
  }
 ],
 "metadata": {
  "kernelspec": {
   "display_name": "Python 3",
   "language": "python",
   "name": "python3"
  },
  "language_info": {
   "codemirror_mode": {
    "name": "ipython",
    "version": 3
   },
   "file_extension": ".py",
   "mimetype": "text/x-python",
   "name": "python",
   "nbconvert_exporter": "python",
   "pygments_lexer": "ipython3",
   "version": "3.8.5"
  },
  "toc-autonumbering": true,
  "toc-showmarkdowntxt": false,
  "toc-showtags": false
 },
 "nbformat": 4,
 "nbformat_minor": 4
}
