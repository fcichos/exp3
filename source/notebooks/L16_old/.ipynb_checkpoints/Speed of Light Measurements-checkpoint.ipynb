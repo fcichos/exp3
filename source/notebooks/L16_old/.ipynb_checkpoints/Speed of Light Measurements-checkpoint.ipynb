{
 "cells": [
  {
   "cell_type": "markdown",
   "metadata": {},
   "source": [
    "# Measurements of the Speed of Light"
   ]
  },
  {
   "cell_type": "markdown",
   "metadata": {},
   "source": [
    "<style>\n",
    "figure {\n",
    "  border: 1px #cccccc solid;\n",
    "  padding: 4px; \n",
    "  display: block;\n",
    "  margin-left: auto;\n",
    "  margin-right: auto;\n",
    "}\n",
    "\n",
    "figcaption {\n",
    "  background-color: #eeeeee;\n",
    "  color: black;\n",
    "  padding: 2px;\n",
    "}\n",
    "</style>"
   ]
  },
  {
   "cell_type": "markdown",
   "metadata": {},
   "source": [
    "## Rotating Mirror Method by Foucault"
   ]
  },
  {
   "cell_type": "markdown",
   "metadata": {},
   "source": [
    "<figure>\n",
    "      <img src=\"img/mirror.png\" width=\"70%\">\n",
    "  <figcaption>**Fig.:** .\n",
    "  </figcaption>\n",
    "</figure>"
   ]
  },
  {
   "cell_type": "markdown",
   "metadata": {},
   "source": [
    "Path length difference\n",
    "\n",
    "$$\n",
    "\\Delta s =2(f+b)\n",
    "$$\n",
    "\n",
    "$$\n",
    "\\Delta \\alpha=2\\pi\\nu \\Delta t\n",
    "$$\n",
    "\n",
    "$$\n",
    "\\Delta x = 2 \\Delta \\alpha a\n",
    "$$\n",
    "\n",
    "$$\n",
    "\\Delta \\alpha=\\frac{\\Delta x}{2a}\n",
    "$$\n",
    "\n",
    "$$\n",
    "\\frac{\\Delta x}{2a}=2\\pi\\nu \\Delta t\n",
    "$$\n",
    "\n",
    "$$\n",
    "\\Delta t=\\frac{\\Delta x}{2a}\n",
    "$$\n",
    "\n",
    "$$\n",
    "c=\\frac{\\Delta s}{\\Delta t}=\\frac{8\\pi (f+b)a}{\\Delta x}\n",
    "$$"
   ]
  },
  {
   "cell_type": "markdown",
   "metadata": {},
   "source": [
    "## Phase Method"
   ]
  },
  {
   "cell_type": "markdown",
   "metadata": {},
   "source": [
    "<figure>\n",
    "      <img src=\"img/phase.png\" width=\"70%\">\n",
    "  <figcaption>**Fig.:** .\n",
    "  </figcaption>\n",
    "</figure>"
   ]
  },
  {
   "cell_type": "markdown",
   "metadata": {},
   "source": [
    "Path length difference \n",
    "\n",
    "$$\n",
    "\\Delta s = s_2-s_1\n",
    "$$"
   ]
  }
 ],
 "metadata": {
  "kernelspec": {
   "display_name": "Python 3",
   "language": "python",
   "name": "python3"
  },
  "language_info": {
   "codemirror_mode": {
    "name": "ipython",
    "version": 3
   },
   "file_extension": ".py",
   "mimetype": "text/x-python",
   "name": "python",
   "nbconvert_exporter": "python",
   "pygments_lexer": "ipython3",
   "version": "3.8.5"
  },
  "toc-autonumbering": false,
  "toc-showmarkdowntxt": false,
  "toc-showtags": false
 },
 "nbformat": 4,
 "nbformat_minor": 4
}
