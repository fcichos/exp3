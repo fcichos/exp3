{
 "cells": [
  {
   "cell_type": "markdown",
   "metadata": {},
   "source": [
    "# Wave Optics"
   ]
  },
  {
   "cell_type": "markdown",
   "metadata": {},
   "source": [
    "Wave optics extends our insight into optics with the help of a wave description. Light is able to interfere or to be diffracted at edges and it reveals specific colors in the visible range, where we are not able to take account of that with the help of geometrical optics. The spectrum of electromagnetic waves extends over a huge range of frequencies and only a tiny fraction of it is related to the visible region."
   ]
  },
  {
   "cell_type": "markdown",
   "metadata": {},
   "source": [
    "|<img src=\"img/spectrum.png\" width=\"50%\"> |\n",
    "|-|\n",
    "| **Fig.:** .|"
   ]
  },
  {
   "cell_type": "markdown",
   "metadata": {},
   "source": [
    "In the following, we would like to introduce waves by discarding the fact that light is related to electric and magnetic fields. This is useful as the vectorial nature of the electric and magnetic field further complicates the calculations, but we do not need those yet. Accordingly we also do not understand how light really interacts with matter and we, therefore, have to introduce some postulates as well."
   ]
  },
  {
   "cell_type": "markdown",
   "metadata": {},
   "source": [
    "## Postulates of Wave Optics"
   ]
  },
  {
   "cell_type": "markdown",
   "metadata": {},
   "source": [
    "<div class=\"alert alert-info\">\n",
    "\n",
    "A wave corresponds to a physical quantity which oscillates in space and time. Its energy current density is related to the square magnitude of the amplitude.\n",
    " \n",
    "</div>"
   ]
  },
  {
   "cell_type": "markdown",
   "metadata": {},
   "source": [
    "### Wave equation"
   ]
  },
  {
   "cell_type": "markdown",
   "metadata": {},
   "source": [
    "$$\n",
    "\\nabla^2 u - \\frac{1}{c^2}\\frac{\\partial^2 u}{\\partial t^2}=0\n",
    "$$\n",
    "\n",
    "where \n",
    "\n",
    "$$\n",
    "\\nabla^2 =\\frac{\\partial^2}{\\partial x^2}+\\frac{\\partial^2}{\\partial y^2}+\\frac{\\partial^2}{\\partial z^2}\n",
    "$$\n",
    "\n",
    "is the Laplace operator. The wave equation is a linear differential equation, which means that the superposition principle is valid. This means that if we have found two solutions $u_1(\\vec{r},t)$ and $u_2(\\vec{r},t)$ being solutions of the wave equation, then $u(\\vec{r},t)=a_1u_1(\\vec{r},t)+a_2u_2(\\vec{r},t)$ is a solution as well ($a_1,a_2$ being constants)."
   ]
  },
  {
   "cell_type": "markdown",
   "metadata": {},
   "source": [
    "### Intensity of waves\n",
    "\n",
    "$$\n",
    "I(\\vec{r},t)=2\\langle u^2(\\vec{r},t)\\rangle\n",
    "$$\n",
    "\n",
    "which is given in units $[\\frac{W}{m^2}]$. The $\\langle \\ldots \\rangle$ denotes a time average over one cycle of the oscillation of $u$. This is extremely short. For light of 600 nm wavelength, one cycle just lasts 2 femtoseconds.\n",
    "\n",
    "The optical power of a wave is obtained when integrating the intensity over an area $A$:\n",
    "\n",
    "$$\n",
    "P=\\int_A I(\\vec{r},t) \\mathrm dA.\n",
    "$$"
   ]
  },
  {
   "cell_type": "markdown",
   "metadata": {},
   "source": [
    "### Monochromatic wave"
   ]
  },
  {
   "cell_type": "markdown",
   "metadata": {},
   "source": [
    "A monochromatic wave is obtained when only one single frequency $\\omega$ is contained in a wave. For this to be true, the wave has to be inifnitely long in time and the oscillation should not have any phase disturbances (such as jumps). A monochromatic wave is given by \n",
    "\n",
    "$$u(\\vec{r},t)=a(\\vec{r})\\cos(\\omega t + \\phi(\\vec{r})),$$\n",
    "\n",
    "where\n",
    "\n",
    "- $a(\\vec{r})$ is the amplitude \n",
    "- $\\phi(\\vec{r})$ is the spatial phase\n",
    "- $\\omega$ is the frequency\n",
    "\n",
    "\n"
   ]
  },
  {
   "cell_type": "markdown",
   "metadata": {},
   "source": [
    "|<img src=\"img/wave.png\" width=\"50%\"> |\n",
    "|-|\n",
    "| **Fig.:** Representation of a wavefunction over time (constant position) denoting the phase $\\phi$ and the period $T=1/\\nu$.|"
   ]
  },
  {
   "cell_type": "markdown",
   "metadata": {},
   "source": [
    "#### Complex Amplitude"
   ]
  },
  {
   "cell_type": "markdown",
   "metadata": {},
   "source": [
    "We may also introduce a complex representation of a wave by\n",
    "\n",
    "$$\n",
    "U(\\vec{r},t)=a(\\vec{r})e^{i\\phi(r)}e^{i\\omega t},\n",
    "$$\n",
    "\n",
    "which is called the complex wavefunction. "
   ]
  },
  {
   "cell_type": "markdown",
   "metadata": {},
   "source": [
    "|<img src=\"img/complex_rep.png\" width=\"50%\"> |\n",
    "|-|\n",
    "| **Fig.:** Phasor diagram of the complex amplitude $U(r)$ (left) and $U(t)$ (right).|"
   ]
  },
  {
   "cell_type": "markdown",
   "metadata": {},
   "source": [
    "This complex wavefunction is related to the real wavefunction by\n",
    "\n",
    "$$\n",
    "u(\\vec{r},t)=Re\\lbrace U(\\vec{r},t)\\rbrace=\\frac{1}{2}\\left [ U(\\vec{r},t)+U^*(\\vec{r},t)\\right ]\n",
    "$$\n",
    "\n",
    "but allows us much easier calculations. In the same way as for the real wavefunction we may now also write a wave equation for the complex wavefunction\n",
    "\n",
    "\n",
    "$$\n",
    "\\nabla^2 U - \\frac{1}{c^2}\\frac{\\partial^2 U}{\\partial t^2}=0.\n",
    "$$"
   ]
  },
  {
   "cell_type": "markdown",
   "metadata": {},
   "source": [
    "We may now further split up the complex wavefunction into a spatial and temporal dependence\n",
    "\n",
    "$$\n",
    "U(\\vec{r},t)=U(\\vec{r})e^{i\\omega t}\n",
    "$$\n",
    "\n",
    "where\n",
    "\n",
    "$$\n",
    "U(\\vec{r})=a(\\vec{r})e^{i\\phi(\\vec{r})}.\n",
    "$$\n",
    "\n",
    "The quantity $\\phi$ resembles to be the spatial part of the phase of a wavefunction. The intensity of the wave is further now just given by\n",
    "\n",
    "$$\n",
    "I(\\vec{r})=|U(r)|^2.\n",
    "$$"
   ]
  },
  {
   "cell_type": "markdown",
   "metadata": {},
   "source": [
    "#### Wavefronts"
   ]
  },
  {
   "cell_type": "markdown",
   "metadata": {},
   "source": [
    "Wavefronts are the surfaces in space where the phase $\\phi(\\vec{r})={\\rm const}$. This constant can be chosen such that we always denote the maximum of the spatial amplitude, i.e., $\\phi(\\vec{r})=2\\pi q$, where $q$ is an integer. We will later have a look how those wavefronts propagate in time. We can also define a vector which is perpendicular to the wavefront. This is given by\n",
    "\n",
    "$$\n",
    "\\vec{n}=\\left \\{ \\frac{\\partial \\phi}{\\partial x},\\frac{\\partial \\phi}{\\partial y},\\frac{\\partial \\phi}{\\partial z} \\right \\}.\n",
    "$$"
   ]
  },
  {
   "cell_type": "markdown",
   "metadata": {},
   "source": [
    "## Plane Waves"
   ]
  },
  {
   "cell_type": "markdown",
   "metadata": {},
   "source": [
    "A plane wave is a solution of the homogeneous wave equation and is given in its complex form by \n",
    "\n",
    "\\begin{equation}\n",
    "U=Ae^{-i\\vec{k}\\cdot \\vec{r}}e^{i\\omega t},\n",
    "\\end{equation}\n",
    "\n",
    "where the two exponentials contain a spatial and a temporal phase. $A$ denotes the amplitude of the plane wave and can be a complex number as well. The plane is defined by the shape of the wavefront which is given by $\\vec{k}\\cdot \\vec{r}=2\\pi q + {\\rm arg}{A}$, which is just the definition of a plane perpendicular to $\\vec{k}$. The planes are separated by the wavelength $\\lambda=2\\pi /k$. The wavenumber $k$ is, therefore, the spatial frequency of the oscillation in position of a wave. "
   ]
  },
  {
   "cell_type": "markdown",
   "metadata": {
    "slideshow": {
     "slide_type": "fragment"
    }
   },
   "source": [
    "The spatial amplitude of the plane wave is given by\n",
    "\n",
    "\\begin{equation}\n",
    "U(\\vec{r})=Ae^{-i\\vec{k}\\cdot \\vec{r}}.\n",
    "\\end{equation}\n",
    "\n",
    "The propagation direction of the wave is defined by the wavevector $\\vec{k}$. In vacuum, the wavevector is just real valued\n",
    "\n",
    "\\begin{equation}\n",
    "\\vec{k}_{0}=\n",
    "\\begin{pmatrix}\n",
    "k_{0x} \\\\\n",
    "k_{0y}\\\\\n",
    "k_{0z}\\\\\n",
    "\\end{pmatrix}\n",
    "\\end{equation}.\n",
    "\n"
   ]
  },
  {
   "cell_type": "markdown",
   "metadata": {},
   "source": [
    "|<img src=\"img/plane_wave.png\" width=\"45%\">|\n",
    "|-|\n",
    "| **Fig.:** Plane wave propagating along the horizontal direction.|"
   ]
  },
  {
   "cell_type": "markdown",
   "metadata": {
    "slideshow": {
     "slide_type": "subslide"
    }
   },
   "source": [
    "The wavevector is also proportional to the momentum of the wave, which will be important if we consider the refraction process a bit later. The magnitude of the wavevector is related to the frequency \n",
    "\n",
    "\\begin{equation}\n",
    "k_{0}=\\frac{\\omega}{c_{0}}.\n",
    "\\end{equation}\n",
    "\n",
    "This relation connects the momentum ($k$) to the energy $\\omega$ and is in general in physics called **dispersion relation**. Light in free space obeys a linear dispersion relation. \n",
    "\n",
    "If we consider a wave propagating in a medium, the frequency of the wave $\\omega$ stays the same as this is defined by the source. Nevertheless the propagation speed of the wave changes, i.e.,\n",
    "\n",
    "$$\n",
    "c=\\frac{c}{n_0}\n",
    "$$\n",
    "\n",
    "and by a factor lower (the refractive index $n$ of the medium). As a result, the wavelength of the wave changes in a medium and gets typically shorter for $n>1$: \n",
    "\n",
    "$$\n",
    "\\lambda=\\frac{\\lambda_0}{n}.\n",
    "$$\n",
    "\n",
    "Correspondingly, the wavenumber gets larger, \n",
    "\n",
    "$$k=nk_{0}.$$"
   ]
  },
  {
   "cell_type": "markdown",
   "metadata": {
    "slideshow": {
     "slide_type": "fragment"
    }
   },
   "source": [
    "The above graph shows a static snapshot of the plane wave at a time $t=0$. The animation below shows the plane wave propagation of a $\\lambda=532$ nm wave."
   ]
  },
  {
   "cell_type": "markdown",
   "metadata": {},
   "source": [
    "|<img src=\"img/plane_prop.mov\" width=\"40%\">|\n",
    "|-|\n",
    "| **Fig.:** . Propagating spherical waves for positive and negative wavenumber.|"
   ]
  },
  {
   "cell_type": "markdown",
   "metadata": {},
   "source": [
    "A reversal of the wavevector to its negative value changes the propagation direction to the opposite direction."
   ]
  },
  {
   "cell_type": "markdown",
   "metadata": {},
   "source": [
    "## Spherical Waves"
   ]
  },
  {
   "cell_type": "markdown",
   "metadata": {
    "slideshow": {
     "slide_type": "fragment"
    }
   },
   "source": [
    "A spherical wave is as well described by two exponentials containing the spatial and temporal dependence of the wave. The only difference is that the wavefronts shall describe spheres instead of planes. We, therefore, need $|\\vec{k}||\\vec{r}|=k r=const$. The product of the magntitudes of the wavevector and the distance from the source are constant. If we further generalize the position of the source to $\\vec{r}_{0}$, we can write a spherical wave by \n",
    "\n",
    "\\begin{equation}\n",
    "U=\\frac{A}{|\\vec{r}-\\vec{r}_{0}|}e^{-i k|\\vec{r}-\\vec{r}_{0}|} e^{i\\omega t}.\n",
    "\\end{equation}\n",
    "\n",
    "Note that we have to introduce an additional scaling of the amplitude with the inverse distance of the source. This is due to energy conservation, as we require that all the energy that flows through all spheres around the source is constant."
   ]
  },
  {
   "cell_type": "markdown",
   "metadata": {
    "slideshow": {
     "slide_type": "subslide"
    }
   },
   "source": [
    "The line plots below show that the field amplitude rapidly decays and the intensity follows a $1/r^2$ law as expected. The slight deviation at small distances is an artifact from our discretization. We used the image above to extract the line plot and, therefore, never exactly hit $r=0$. "
   ]
  },
  {
   "cell_type": "markdown",
   "metadata": {
    "slideshow": {
     "slide_type": "subslide"
    }
   },
   "source": [
    "|<img src=\"img/spherical_wave.png\" width=\"80%\">|\n",
    "|-|\n",
    "| **Fig.:** Spherical wave amplitude and intensity of the spherical wave as a function of distance from the source.|"
   ]
  },
  {
   "cell_type": "markdown",
   "metadata": {
    "slideshow": {
     "slide_type": "fragment"
    }
   },
   "source": [
    "We can also visualize the animation our spherical wave to check for the direction of the wave propagation."
   ]
  },
  {
   "cell_type": "markdown",
   "metadata": {},
   "source": [
    "|<img src=\"img/out.mov\" width=\"30%\">  <img src=\"img/in.mov\" width=\"30%\">|\n",
    "|-|\n",
    "| **Fig.:** . Propagating spherical waves for positive and negative wavenumber.|"
   ]
  },
  {
   "cell_type": "markdown",
   "metadata": {},
   "source": [
    "## Interference"
   ]
  },
  {
   "cell_type": "markdown",
   "metadata": {},
   "source": [
    "Interference is one of the most important phenomena in physics. It is a realization of the superposition principle which is valid if the differential equation which produces the solutions is linear as we already stated above."
   ]
  },
  {
   "cell_type": "markdown",
   "metadata": {},
   "source": [
    "Let us assume we have two solutions of the wave equation $U_1(\\vec{r})$ and $U_2(\\vec{r})$. The superposition allows to add them to get a new solution $U(\\vec{r})$,"
   ]
  },
  {
   "cell_type": "markdown",
   "metadata": {},
   "source": [
    "$$\n",
    "U(\\vec{r})=U_{1}(\\vec{r})+U_{2}(\\vec{r}).\n",
    "$$\n"
   ]
  },
  {
   "cell_type": "markdown",
   "metadata": {},
   "source": [
    "To calculate the intensity of the total wave, we have to calculate, therefore, the magnitude square of the sum of the two waves. \n",
    "\n",
    "\\begin{eqnarray}\n",
    "I &= &|U|^2\\\\\n",
    "  &= &|U_1+U_2|\\\\\n",
    "  &= &|U_1|^2+|U_2|^2+U^{*}_1 U_2 + U_1 U^{*}_1  \n",
    "\\end{eqnarray}\n",
    "\n",
    "which results in two terms, which resemble to be the sum of the two waves. Yet, there are two additional cross-terms, which say that the resulting intensity is not just the sum of the two intensities in case the two terms do not cancel out."
   ]
  },
  {
   "cell_type": "markdown",
   "metadata": {},
   "source": [
    "If we use\n",
    "\n",
    "$$I_{1}=|U_1|^2$$\n",
    "\n",
    "$$I_{2}=|U_2|^2$$\n",
    "\n",
    "we can express the individual waves as\n",
    "\n",
    "$$\n",
    "U_{1}=\\sqrt{I_1}e^{i\\phi_1}\n",
    "$$\n",
    "\n",
    "and \n",
    "\n",
    "$$\n",
    "U_{2}=\\sqrt{I_2}e^{i\\phi_2},\n",
    "$$\n",
    "\n",
    "where the exponential term with $\\phi_1,\\phi_2$ denotes the phase of the two spatial amplitudes.  Taking the magnitude square of the sum of those two waves we then obtain \n",
    "\n",
    "$$\n",
    "I=I_{1}+I_{2}+2\\sqrt{I_1 I_2}\\cos(\\Delta \\phi)\n",
    "$$\n",
    "\n",
    "with \n",
    "\n",
    "$$\n",
    "\\Delta \\phi=\\phi_{2}-\\phi_1,\n",
    "$$\n",
    "\n",
    "which now clearly tells us that the total intensity of two waves in not the sum of the two intensities, but contains an additional term, which depends on the phase difference between the two waves. This term $2\\sqrt{I_1 I_2}\\cos(\\Delta \\phi)$ is called the interference term."
   ]
  },
  {
   "cell_type": "markdown",
   "metadata": {},
   "source": [
    "Let us assume for an example two waves, which originally have the same intensity, i.e., $I_2=I_1=I_0$. If we insert this into the above formulas, we obtain for the total intensity\n",
    "\n",
    "$$\n",
    "I=2I_{0}(1+\\cos(\\Delta \\phi)=4I_{0}\\cos^2\\left (\\frac{\\Delta \\phi}{2}\\right).\n",
    "$$"
   ]
  },
  {
   "cell_type": "markdown",
   "metadata": {},
   "source": [
    "This is quite interesting as we obtain the following results for specific phase shifts.\n",
    "\n",
    "\n",
    "**Contructive Interference**\n",
    "\n",
    "- $\\Delta \\phi=0,2\\pi,2\\pi m$: $I=4I_{0}$, where m is an integer\n",
    "\n",
    "\n",
    "|<img src=\"img/w_0.png\" width=\"33%\"> <img src=\"img/w_0.png\" width=\"33%\"> <img src=\"img/sum_const.png\" width=\"33%\">|\n",
    "|-|\n",
    "| **Fig.:** Constructive interference of two waves (left, middle) and the sum of the two wave amplitudes.|\n",
    "\n",
    "\n",
    "**Destructive Interference**\n",
    "\n",
    "- $\\Delta \\phi=\\pi,3\\pi,(2m-1)\\pi$: $I=0$, where m is an integer  \n",
    "\n",
    "|<img src=\"img/w_0.png\" width=\"33%\"> <img src=\"img/w_pi.png\" width=\"33%\"> <img src=\"img/sum_destr.png\" width=\"33%\">|\n",
    "|-|\n",
    "| **Fig.:** Destructive interference of two waves (left, middle) and the sum of the two wave amplitudes.|\n",
    "\n",
    "**Sum of both Intensities**\n",
    "\n",
    "- $\\Delta \\phi=\\pi/2,3\\pi/2,(2m-1)\\pi/2$: $I=2I_0$, where m is an integer\n",
    "\n",
    "\n",
    "Note that a phase angle corresponds to length, which, when multiplied with $k$ gives the phase angle, i.e., $\\Delta \\phi=k\\Delta r$. Thus, a phase angle of $2\\pi$ corresponds to a path difference of $\\Delta r=\\lambda$. All other relations follow from that. "
   ]
  },
  {
   "cell_type": "markdown",
   "metadata": {},
   "source": [
    "#### Interference of Waves in Space"
   ]
  },
  {
   "cell_type": "markdown",
   "metadata": {},
   "source": [
    "Interference may give rise to distinct patterns in space, which can be used for lithography purposes, for example. If we superpose two plane waves with different directions of the wave propagation, we will in general obtain a stripe like intensity pattern as depicted below."
   ]
  },
  {
   "cell_type": "markdown",
   "metadata": {},
   "source": [
    "|<img src=\"img/plane_plane.png\" width=\"90%\"> |\n",
    "|-|\n",
    "| **Fig.:** Interference of two plane waves propagating under an angle of 45$^{\\circ}$. The two left graphs show the original waves. The two right the total amplitude and the intensity pattern.|"
   ]
  },
  {
   "cell_type": "markdown",
   "metadata": {},
   "source": [
    "The interference of the two plane waves shown above leads also to a stripe pattern on a screen (think of the intensity pattern at $z=10$ µm, for example)."
   ]
  },
  {
   "cell_type": "markdown",
   "metadata": {},
   "source": [
    "If we use a spherical and a plane wave, we will find a circular shaped interference intensity due to the curvature of the wavefronts of the spherical wave. "
   ]
  },
  {
   "cell_type": "markdown",
   "metadata": {},
   "source": [
    "|<img src=\"img/sphere_plane.png\" width=\"90%\"> |\n",
    "|-|\n",
    "| **Fig.:** Interference of a spherical wave and a plane wave (left amplitude, right intensity).|"
   ]
  }
 ],
 "metadata": {
  "kernelspec": {
   "display_name": "Python 3",
   "language": "python",
   "name": "python3"
  },
  "language_info": {
   "codemirror_mode": {
    "name": "ipython",
    "version": 3
   },
   "file_extension": ".py",
   "mimetype": "text/x-python",
   "name": "python",
   "nbconvert_exporter": "python",
   "pygments_lexer": "ipython3",
   "version": "3.8.5"
  },
  "toc-autonumbering": false,
  "toc-showmarkdowntxt": false,
  "toc-showtags": false
 },
 "nbformat": 4,
 "nbformat_minor": 4
}
