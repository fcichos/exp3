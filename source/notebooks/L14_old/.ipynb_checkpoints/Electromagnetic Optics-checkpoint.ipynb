{
 "cells": [
  {
   "cell_type": "markdown",
   "metadata": {},
   "source": [
    "# Electromagnetic Optics"
   ]
  },
  {
   "cell_type": "markdown",
   "metadata": {},
   "source": [
    "<style>\n",
    "figure {\n",
    "  border: 1px #cccccc solid;\n",
    "  padding: 4px; \n",
    "  display: block;\n",
    "  margin-left: auto;\n",
    "  margin-right: auto;\n",
    "}\n",
    "\n",
    "figcaption {\n",
    "  background-color: #eeeeee;\n",
    "  color: black;\n",
    "  padding: 2px;\n",
    "}\n",
    "</style>"
   ]
  },
  {
   "cell_type": "markdown",
   "metadata": {},
   "source": [
    "So far we have looked at the propagation of light in form of ray's and its description in Gemoetrical Optics. We made a number of assumtions that we formulated as postulates. We then extended this description by a scalar Wave Optics description to allow for a description of interference and diffraction, which can not be explained by Geometrical Optics. Yet concepts of refractive index and light matter interaction and the intensities are not covered by Wave Optics and also just postulates. \n",
    "\n",
    "Electromagnetic Optics allows us to define these missing things. We discover light as electromagnetic waves consisting of electric and magnetic fields, which allow us to describe the interaction with charges in atoms, which is the foundation for the refractive index for example. The new thing is therefore the fact that we now need vectors for the description of light. "
   ]
  },
  {
   "cell_type": "markdown",
   "metadata": {},
   "source": [
    "<figure>\n",
    "      <img src=\"img/vertical_pol.png\" width=\"45%\"> <img src=\"img/horizontal_pol.png\" width=\"45%\">\n",
    "  <figcaption>**Fig.:** Demonstration of the vectorial nature of the electric field of electromagnetic waves with the help of a set of polarizers. (Left) The firstr polarizer on the right side of the image is transmitting only the vertical direction of the electric field. This vertical direction of the electric field is probed with the second polarizer. If pointing in the same direction, the intensity as measured with the meter behind is maximum. When probed with a second polarizer along the horizontal direction (Right), the detector shows zero intensity.\n",
    "  </figcaption>\n",
    "</figure>"
   ]
  },
  {
   "cell_type": "markdown",
   "metadata": {},
   "source": [
    "## Electromagnetic Spectrum"
   ]
  },
  {
   "cell_type": "markdown",
   "metadata": {},
   "source": [
    "While most of our considerations are focused on electromagnetic waves in the visible region, all of them can be generalized to other regions of the very broad electromagnetic spectrum. The electromagnetic theory is scale free, meaning that the same effect on specific structures occur also at smaller scales if you scale the wavelength of the wave."
   ]
  },
  {
   "cell_type": "markdown",
   "metadata": {},
   "source": [
    "<figure>\n",
    "      <img src=\"img/em_spectrum.png\" width=\"90%\">\n",
    "  <figcaption>**Fig.:** Electromagnetic wave spectrum with its specific regions.\n",
    "  </figcaption>\n",
    "</figure>"
   ]
  },
  {
   "cell_type": "markdown",
   "metadata": {},
   "source": [
    "### Maxwell Equations"
   ]
  },
  {
   "cell_type": "markdown",
   "metadata": {},
   "source": [
    "To obtain a wave equation in terms of electric $\\vec{E}$ and magnetic fields $\\vec{B}$ we need Maxwell's equations. We will consider them in vacumm, i.e. for zero charge $\\rho=0$ and current density. The electric and magnetic permeabilities of vacuum are given by $\\epsilon_0$ and $\\mu_0$. \n",
    "\n",
    "$$\n",
    "\\nabla \\times \\vec{E}=-\\frac{\\partial \\vec{B}}{\\partial t}\n",
    "\\label{eq:ME1}\\tag{ME.1}\n",
    "$$\n",
    "\n",
    "$$\n",
    "\\nabla\\cdot\\vec{E}=0\n",
    "\\tag{ME.2}\n",
    "$$\n",
    "\n",
    "$$\n",
    "\\nabla\\times \\vec{B}=\\epsilon_0\\mu_0\\frac{\\partial \\vec{E}}{\\partial t}\n",
    "\\tag{ME.3}\n",
    "$$\n",
    "\n",
    "$$\n",
    "\\nabla\\cdot \\vec{B}=0\n",
    "\\tag{ME.4}\n",
    "$$\n"
   ]
  },
  {
   "cell_type": "markdown",
   "metadata": {},
   "source": [
    "We will take the first (ME.1) of the four equations and apply another rotation $\\nabla \\times$ to both sides\n",
    "\n",
    "$$\n",
    "\\nabla\\times\\nabla\\times = -\\nabla \\times \\frac{\\partial \\vec{B}}{\\partial t}\n",
    "$$\n",
    "\n",
    "We can exchange the time and spatial derivate on the right side as $\\nabla$ is not depending on time to get\n",
    "\n",
    "\\begin{eqnarray}\n",
    "\\nabla\\times\\nabla\\times \\vec{E}&=& - \\frac{\\partial \\nabla \\times \\vec{B}}{\\partial t}\\\\\n",
    "&=&-\\epsilon_0\\mu_0 \\frac{\\partial^2 \\vec{E}}{\\partial t^2}\n",
    "\\end{eqnarray}\n",
    "\n",
    "where we used the third equation (ME.3) to replace the rotation of the magnetic field. We now have to expand the left side with the identity\n",
    "\n",
    "$$\n",
    "\\nabla\\times\\nabla\\times \\vec{E}=\\nabla(\\nabla\\cdot \\vec{E})-\\nabla(\\nabla \\vec{E})\n",
    "$$\n",
    "\n",
    "Note the the first term on the right side is the gradient of the divergence of $\\vec{E}$, while the second term is the divergence of the gradient of $\\vec{E}$. We know that in vacuum the divergence of the elecric field is zero (no sources of the electric field) and therefore $\\nabla\\times\\nabla\\times \\vec{E}=-\\nabla(\\nabla \\vec{E})\n",
    "$ and we have our wave equation\n",
    "\n",
    "$$\n",
    "\\frac{\\partial^2 \\vec{E}}{\\partial \\vec{r}^2}-\\epsilon_0\\mu_0 \\frac{\\partial^2\\vec{E}}{\\partial t^2}=0\n",
    "\\tag{Wave Equation}\n",
    "$$\n"
   ]
  },
  {
   "cell_type": "markdown",
   "metadata": {},
   "source": [
    "<div class=\"alert alert-info\">\n",
    "**Wave Equation**\n",
    "\n",
    "The wave equation for the propagation of electric fields in vaccum is given by\n",
    "    \n",
    "$$\n",
    "\\frac{\\partial^2 \\vec{E}}{\\partial \\vec{r}^2}-\\epsilon_0\\mu_0 \\frac{\\partial^2\\vec{E}}{\\partial t^2}=0\n",
    "$$\n",
    "    \n",
    "The phase velocity of the wave is\n",
    "    \n",
    "$$\n",
    "c=\\frac{1}{\\sqrt{\\mu_0\\epsilon_0}}=299792458 \\, {\\rm\\frac{m}{s}}\n",
    "$$\n",
    "    \n",
    "</div>"
   ]
  },
  {
   "cell_type": "markdown",
   "metadata": {},
   "source": [
    "One of the interesting relations to electrostatics is now, that the static permeabilities $\\epsilon_0.\\mu_0$ determine the speed of light. Note that the above wave equation is a vectorial equation., That means there is a wave equation for each component of the elecric field, e.g.\n",
    "\n",
    "$$\n",
    "\\frac{\\partial^2 E_x}{\\partial x^2}+\\frac{\\partial^2 E_x}{\\partial y^2}+\\frac{\\partial^2 E_x}{\\partial z^2}-\\frac{1}{c^2} \\frac{\\partial^2 E_x}{\\partial t^2}=0\n",
    "$$\n",
    "\n",
    "for the x-component of the electric field. Equivalent equations exist for the other field components. \n",
    "\n",
    "The same mathematical treatment can be done for the magnetic field $\\vec{B}$ and the same wave equation will follow from that."
   ]
  },
  {
   "cell_type": "markdown",
   "metadata": {},
   "source": [
    "## Plane Waves, Spherical Waves"
   ]
  },
  {
   "cell_type": "markdown",
   "metadata": {},
   "source": [
    "### Plane Waves"
   ]
  },
  {
   "cell_type": "markdown",
   "metadata": {},
   "source": [
    "We will first have a look at elementary solutions of the wave equation again as we have done that in the wave optics sections. First of all we can write the solution of the wave equation as a product of a spatial and a temporal amplitude, i.e.\n",
    "\n",
    "\\begin{eqnarray}\n",
    "\\vec{\\mathcal{E}}(\\vec{r},t)&=&\\mathcal{Re}\\lbrace \\vec{E}(\\vec{r})e^{-i\\omega t}\\rbrace\\\\\n",
    "\\vec{\\mathcal{B}}(\\vec{r},t)&=&\\mathcal{Re}\\lbrace \\vec{B}(\\vec{r})e^{-i\\omega t}\\rbrace\n",
    "\\end{eqnarray}\n",
    "\n",
    "We use again the complex notation and remember that the measurable physical quantity $\\vec{\\mathcal{E}}$ or $\\vec{\\mathcal{B}}$ has to be a real valued quantity. Therefore we may calculate with the complex quantities, but finally need to calculate the real part ($\\mathcal{Re}$) if required. In the following we will use the complex notation throughout the calculation and only refer to the real value if this is really useful.\n",
    "When inserting the complex ansatz above into the wave equation, we can take the time derivative which yields for the electric field\n",
    "\n",
    "\\begin{equation}\n",
    "\\Delta \\vec{E}(\\vec{r})+\\frac{\\omega^2}{c^2}\\vec{E}(\\vec{r})=0\n",
    "\\tag{Helmholtz Equation}\n",
    "\\end{equation}\n",
    "\n",
    "The latter equation is known as the **Helmholtz equation**. It is the differential equation for the spatial amplitude of the wave. We may also insert the solutions into the first and the third Maxwell equation which results in \n",
    "\n",
    "\\begin{eqnarray}\n",
    "\\nabla \\times \\vec{E}&=&i\\omega\\vec{B}\\\\\n",
    "\\nabla \\times\\vec{B} &=& -\\epsilon_0\\mu_0 i\\omega \\vec{E}\n",
    "\\end{eqnarray}\n",
    "\n",
    "We obtain finally a plane wave with our knowledge from the wave optics section. \n",
    "\n",
    "\\begin{eqnarray}\n",
    "\\vec{E}(\\vec{r})&=&\\vec{E}_{0}e^{i\\vec{k}\\cdot\\vec{r}}\\\\\n",
    "\\vec{B}(\\vec{r})&=&\\vec{B}_{0}e^{i\\vec{k}\\cdot\\vec{r}}\\\\\n",
    "\\end{eqnarray}\n",
    "\n",
    "Taking the rotation of those two equations yields\n",
    "\n",
    "\\begin{eqnarray}\n",
    "\\vec{k}\\times \\vec{E}_{0}&=&\\omega \\vec{B}_0\\\\\n",
    "\\vec{k}\\times \\vec{B}_{0}&=&-\\frac{\\omega}{c^2} \\vec{E}_0\n",
    "\\end{eqnarray}\n",
    "\n",
    "The latter two equations tell essentiall two things. First of all they state that the vectors $\\vec{k}$, $\\vec{E}_0$ and $\\vec{B}_{0}$ stand perpendicular to each other. This is why electromagnetic waves are termed transverse waves. The physical quantity of a transverse wave change sperpendicular to its propagation direction.\n",
    "\n",
    "The second thing is that the ampolitudes of the two waves are not independent of each other but rather \n",
    "\n",
    "$$\n",
    "B_0=\\frac{1}{c}E_0\n",
    "$$\n",
    "\n",
    "This is quite helpful, as we may just do calculations for the electric field and transfer them with the help of this conversion to the magnetic field."
   ]
  },
  {
   "cell_type": "markdown",
   "metadata": {},
   "source": [
    "<figure>\n",
    "      <img src=\"img/plane_wave.png\" width=\"90%\">\n",
    "  <figcaption>**Fig.:** Plane wave propagating along the y-direction, with the electric field oscillating along the z-direction..\n",
    "  </figcaption>\n",
    "</figure>"
   ]
  },
  {
   "cell_type": "markdown",
   "metadata": {},
   "source": [
    "### Spherical Waves"
   ]
  },
  {
   "cell_type": "markdown",
   "metadata": {},
   "source": [
    "The situation is a bit more complicated for spherical waves and we wont do the detailed calculation here. A spherical wave is constructed with the help of an axuliary function \n",
    "\n",
    "$$\n",
    "\\vec{A}(\\vec{r})=A_0 U(\\vec{r})\\hat{x}\n",
    "$$\n",
    "\n",
    "where $\\hat{x}$ is the unit vector in the x-direction and \n",
    "\n",
    "$$\n",
    "U(\\vec{r})=\\frac{1}{r}e^{-ik r}\n",
    "$$\n",
    "\n",
    "is our scalar spherical wave we know from the wave optics section. The auxilary function is termed **Vector potential** and also fulfills an Helmholtz equation\n",
    "\n",
    "$$\n",
    "\\Delta\\vec{A}+k^2 \\vec{A}=0\n",
    "$$\n",
    "\n",
    "A more detailed calculation finally leads to the following Electric and magnetic field vectors in spherical coordinates and for large distances $r\\gg\\lambda$ or $k r\\gg2\\pi$.\n",
    "\n",
    "\\begin{eqnarray}\n",
    "\\vec{E}(\\vec{r})&=& E_0 \\sin(\\theta) U(\\vec{r}) \\hat{\\theta}\\\\\n",
    "\\vec{B}(\\vec{r})&=& B_0 \\sin(\\theta) U(\\vec{r}) \\hat{\\phi}\n",
    "\\end{eqnarray}\n"
   ]
  },
  {
   "cell_type": "markdown",
   "metadata": {},
   "source": [
    "The electric and magnetic fields are therefire tangential to the wavefront surface, which is a sphere. The propgation direction is always radial, so the spherical wave is also a transverse electromagnetic wave. \n",
    "\n",
    "\n",
    "\n",
    "<figure>\n",
    "      <img src=\"img/spherical_wave.png\" width=\"95%\">\n",
    "  <figcaption>**Fig.:** (Left) Definition of the unit vectors in a spherical coordinate system. (Right) Vectors of the electric and magnetic field for a spherical wave.\n",
    "  </figcaption>\n",
    "</figure>"
   ]
  }
 ],
 "metadata": {
  "kernelspec": {
   "display_name": "Python 3",
   "language": "python",
   "name": "python3"
  },
  "language_info": {
   "codemirror_mode": {
    "name": "ipython",
    "version": 3
   },
   "file_extension": ".py",
   "mimetype": "text/x-python",
   "name": "python",
   "nbconvert_exporter": "python",
   "pygments_lexer": "ipython3",
   "version": "3.8.5"
  },
  "toc-autonumbering": false,
  "toc-showmarkdowntxt": false,
  "toc-showtags": false
 },
 "nbformat": 4,
 "nbformat_minor": 4
}
