{
 "cells": [
  {
   "cell_type": "markdown",
   "id": "d3248917-f391-4795-8ee9-a54709656014",
   "metadata": {},
   "source": [
    "# The Birth of Quantum mechanics"
   ]
  },
  {
   "cell_type": "markdown",
   "id": "9c930424-62a6-4718-ae94-b4b741bd4241",
   "metadata": {},
   "source": [
    "## Planck's law"
   ]
  },
  {
   "cell_type": "markdown",
   "id": "6476cdab-1be2-4b02-bf32-5445e235e80d",
   "metadata": {},
   "source": [
    "In 1900 Max Planck faced the question how to omit the ultraviolet catastrophe and  to describe the blackboda radiation as a whole.\n",
    "\n",
    "<figure>\n",
    "      <img src=\"img/Lecture20_spectra_planck_rayleigh-jeans-wien.png\" width=\"50%\">\n",
    "  <figcaption>**Fig.: Comparison between blackbody radiation at 3000 K (solid line) and radiation as decribed through the Wien approximation (dashed line) and the Rayleigh-Jeans law (dash-dotteded line).** \n",
    "  </figcaption>\n",
    "</figure>\n",
    "\n",
    "He proposed a revolutionary hypothesis called **Quantum Hypothesis** or **Planck's Postulate**. He as well assumed the modes within a cavity as oscillations. However, in contrast to the classical approach allowing every oscillator to acquire every, arbitrary small value of energy ($W_{\\nu} = k \\cdot T$), Planck postulated that these oscillators are allowed to acquire energy only in particular **quanta of energy**. Those quanta do depend on the frequency $\\nu$ of the eigen-oscillation and are multiples of a *smalles quantum of energy*. Thus it follows\n",
    "\n",
    "$$\n",
    "E \\left( \\nu \\right) = n E_{\\mathrm{ph}} \\left( \\nu \\right) = n \\cdot h \\cdot \\nu \\mathrm{.}\n",
    "$$\n",
    "\n",
    "The letter $h$ was initially chosen as *help constant*, but shortly after the suggess of Planck's Postulate the constant was re-named as *Plack's Constat* with the value\n",
    "\n",
    "$$\n",
    "h = 6.626 \\ldots \\cdot 10^{-34} \\mbox{ Js}.\n",
    "$$\n",
    "\n",
    "This event of postulating a smallest quantum of energy is often referred to as the birth of quantum mechanics. Nowadays we can define the smallest quantum of the electromagnetic field bearing the energy $h \\cdot \\nu$ as **Photon**. The energy of an eigen-oscillation with $n$ photons is then\n",
    "\n",
    "$$\n",
    "W_{\\nu} = n \\cdot h \\cdot \\nu\\mathrm{.}\n",
    "$$\n",
    "\n",
    "If we now consider thermal equilibrium, the likelyhood $p \\left( W_{\\nu} \\right)$ of this particular eigen-oscillation bearing the energy of $W_{\\nu}$ (meaning that this particular eigenstate is occupied qith \n",
    "$n$ photons) is propotional to the Boltzmann factor $\\mathrm{e}^{-W_{\\nu}/\\left( k\\cdot T \\right)}$\n",
    "\n",
    "$$\n",
    "p \\left( W_{\\nu} \\right) = \\frac{\n",
    "\\mathrm{e}^{- \\frac{n \\cdot h \\cdot \\nu}{k \\cdot T}}\n",
    "}{\n",
    "\\sum_{n=0}^{\\infty} \\mathrm{e}^{- \\frac{n \\cdot h \\cdot \\nu}{k \\cdot T}}\n",
    "}\n",
    "$$\n",
    "\n",
    "Since we did calculate a likelyhood the relation $\\sum_{n=0}^{\\infty} p \\left(n \\cdot h \\cdot \\nu \\right) = 1$ holds true. Furthermore, we can calculate the average energy per eigen-oscillation as the energy of this particular oscillation weighted with the likelyhood that this particular eigenstate is occupied with this particular number of photons. the averagred energy per eigen-oscillation then reads as\n",
    "$\\bar{W}_{\\nu} = \\sum_{n=0}^{infty} p\\left( nh\\nu \\right) n \\, h\\, \\nu$ and further\n",
    "\n",
    "\n",
    "$$\n",
    "\\bar{W}_{\\nu} = \\frac{n \\cdot \\nu}{\\mathrm{e}^{+\\frac{n \\cdot h \\cdot \\nu}{k \\cdot T}} -1} \\mathrm{.}\n",
    "$$\n",
    "\n",
    "The spectral energy density of a cavity radiator then is given through \n",
    "\n",
    "$$\n",
    "\\omega \\left( \\nu,T \\right) = n\\left(\\nu \\right) \\cdot \\bar{W_{\\nu}} \\left( \\nu,T \\right)     \n",
    "$$\n",
    "\n",
    "which leads us to the famous Planck's formula\n",
    "\n",
    "$$\n",
    "\\omega \\left( \\nu,T \\right) \\mathrm{d} \\nu = \\frac{8 \\pi h \\nu^3}{c_0^3} \\, \\frac{\\mathrm{d} \\nu}{\\mathrm{e}^{\\frac{h \\nu}{k T}} -1} \\mathrm{.}\n",
    "$$\n",
    "\n",
    "Here $\\omega \\left( \\nu,T \\right) \\mathrm{d}\\nu$ represents the spatial distribution of the energy density per frequency intervall; its unit is $\\left[ \\omega \\left( \\nu,T \\right) \\right] = \\mbox{Jsm}^3$. The radiance of the area element $\\mathrm{d}A$ emitted into the solid angle $\\mathrm{d} \\Omega$ then is \n",
    "\n",
    "$$\n",
    "\\begin{eqnarray}\n",
    "S^{\\ast}_{\\nu} \\mathrm{d} \\nu \\mathrm{d} \\Omega & = & \\frac{c_0}{4\\pi} \\omega_{\\nu} \\left(\\nu,T\\right) \\, \\mathrm{d} \\nu \\, \\mathrm{d} \\Omega\\\\\n",
    "{} & = & \\frac{2 h \\nu^3}{c_0^2} \\, \\frac{\\mathrm{d} \\nu \\, \\mathrm{d} \\Omega}{\\mathrm{e}^{\\frac{h \\nu}{k T}} -1} \\mathrm{.}\n",
    "\\end{eqnarray}\n",
    "$$\n",
    "\n",
    "So far we have expressed Planck's law in dependece of the spectral frequency $\\nu$. With the aid of teh relation $\\lambda = c/\\nu$ we can also express Planck's law in dependence of the wavelength. Therfor, we have to pay attantion to $\\mathrm{d}\\lambda = -\\left( c / \\nu^2 \\right) \\mathrm{d} \\nu$. Then, we can describe the spectral energy density\n",
    "\n",
    "$$\n",
    "\\omega \\left( \\lambda,T \\right) \\mathrm{d} \\lambda = \\frac{8 \\pi h c_0}{\\lambda^5} \\, \\frac{\\mathrm{d} \\lambda}{\\mathrm{e}^{\\frac{h c_0}{\\lambda k T}} -1} \n",
    "$$\n",
    "\n",
    "and the radiance \n",
    "$$\n",
    "S^{\\ast}_{\\lambda} \\mathrm{d} \\lambda \\mathrm{d} \\Omega = \\frac{2 h c^2}{\\lambda^5} \\, \\frac{\\mathrm{d} \\lambda \\, \\mathrm{d} \\Omega}{\\mathrm{e}^{\\frac{h c}{\\lambda k T}} -1}\n",
    "$$\n",
    "\n",
    "as functions of $\\lambda$ and $T$.\n",
    "\n",
    "<figure>\n",
    "      <img src=\"img/Lecture20_spectra_planck.png\" width=\"90%\">\n",
    "  <figcaption>**Fig.: Blackbody radiation as described through Planck's law of radiation at different tempertures.** \n",
    "  </figcaption>\n",
    "</figure>"
   ]
  },
  {
   "cell_type": "markdown",
   "id": "7b8b5489-adf1-4361-9bd4-e6e5890f9861",
   "metadata": {},
   "source": [
    "## Rayleight-Jeans law as special case of Planck's law"
   ]
  },
  {
   "cell_type": "markdown",
   "id": "118618df-5d55-41df-a75c-7dd641deb595",
   "metadata": {},
   "source": [
    "Now we consider Plank's law in dependence of teh frequency and apply this formula to the case of small energies with $h \\cdot \\nu \\ll k\\cdot T$. We can approximate the exponential function in the denominator with its series expansion\n",
    "\n",
    "$$\n",
    "\\mathrm{e}^x = 1+x + \\mathcal{O} \\left( x^2 \\right) \\mathrm{.}\n",
    "$$\n",
    "\n",
    "As a consequence we get\n",
    "\n",
    "$$\n",
    "\\begin{eqnarray}\n",
    "\\omega \\left( \\nu,T \\right) & \\approx & \\frac{8 \\pi \\nu^2}{c_0^3} \\, k \\, T \\mathrm{ \\; and} \\\\\n",
    "S^{\\ast}_{\\nu} & \\approx & \\frac{2 h c_0^2}{\\lambda^5} \\, k \\, T \\mathrm{.}\n",
    "\\end{eqnarray}\n",
    "$$\n",
    "\n",
    "Here we demonstrated that the Rayleigh-Jeans law is a special case of the general Planck's law for the case of small energies ($h \\cdot \\nu \\ll k \\cdot T$). This also explains why the Rayleigh-Jeans law is in accord with experiments covering the infrared spectral range but does not descibe experimental results for the visible or ultraviolet spectral range."
   ]
  },
  {
   "cell_type": "markdown",
   "id": "49e4e40f-a93f-4bec-9f73-2901bce41bad",
   "metadata": {
    "tags": []
   },
   "source": [
    "## Wien approximation as special case of Planck's law"
   ]
  },
  {
   "cell_type": "markdown",
   "id": "28f9fec0-3180-4af0-834d-6824406a7357",
   "metadata": {},
   "source": [
    "Now we consider Plank's law depending on the wavelength and apply this formula to the case of high energies with $h \\cdot \\nu \\gg k\\cdot T$. Then, we can approximate the denominator with\n",
    "\n",
    "$$\n",
    "\\frac{1}{\\mathrm{e}^{\\frac{h \\nu}{k t}} -1} \\approx \\mathrm{e}^{\\frac{h \\nu}{k t}} \\mathrm{.}\n",
    "$$\n",
    "\n",
    "As a consequence we get\n",
    "\n",
    "$$\n",
    "\\begin{eqnarray}\n",
    "\\omega \\left( \\nu,T \\right) & = & \\frac{8 \\pi h c_0}{\\lambda^5} \\, \\mathrm{e}^{- \\frac{h \\nu}{k T}} \\mathrm{ \\; and} \\\\\n",
    "S^{\\ast}_{\\nu} & = & \\frac{2 h \\nu^3}{c_0^2} \\, \\mathrm{e}^{- \\frac{h \\nu}{k T}} \\mathrm{.}\n",
    "\\end{eqnarray}\n",
    "$$\n",
    "\n",
    "If we know compare these equations with Wien's distribution law\n",
    "\n",
    "$$\n",
    "S^{\\ast}_{\\lambda} \\left(\\lambda, T \\right) = \\frac{C_1}{\\lambda^5} \\; \\mathrm{e}^{- \\frac{C_2}{\\lambda T}} \\mathrm{,}\n",
    "$$\n",
    "\n",
    "we are able to identify \n",
    "\n",
    "$$\n",
    "\\begin{eqnarray}\n",
    "C_1 & = & 2 h c_0^2 \\; \\mathrm{and} \\\\\n",
    "C_1 & = & \n",
    "\\end{eqnarray}\n",
    "$$\n",
    "Here we demonstrated that the Rayleigh-Jeans law is a special case of the general Planck's law for the case of small energies ($h \\cdot \\nu \\ll k \\cdot T$). This also explains why the Rayleigh-Jeans law is in accord with experiments covering the infrared spectral range but does not descibe experimental results for the visible or ultraviolet spectral range."
   ]
  },
  {
   "cell_type": "markdown",
   "id": "23120701-e9f4-4f14-8aa6-1e6e06bb1e5d",
   "metadata": {},
   "source": [
    "## Wiens displacement law as derived from Planck's law"
   ]
  },
  {
   "cell_type": "markdown",
   "id": "b873920a-3f7c-45cb-8780-03c223eec758",
   "metadata": {},
   "source": [
    "Text"
   ]
  },
  {
   "cell_type": "markdown",
   "id": "10cf1eb9-f310-44d0-a43b-8509f185dc89",
   "metadata": {},
   "source": [
    "## Stefan-Boltzmann law as derived from Planck's law"
   ]
  },
  {
   "cell_type": "markdown",
   "id": "f6f0ab16-7b41-4f29-9358-e37ca9757ac2",
   "metadata": {},
   "source": [
    "Text"
   ]
  },
  {
   "cell_type": "code",
   "execution_count": null,
   "id": "ea9ae9ca-9435-4d23-be77-dcd1ecc80e89",
   "metadata": {},
   "outputs": [],
   "source": []
  }
 ],
 "metadata": {
  "kernelspec": {
   "display_name": "Python 3 (ipykernel)",
   "language": "python",
   "name": "python3"
  },
  "language_info": {
   "codemirror_mode": {
    "name": "ipython",
    "version": 3
   },
   "file_extension": ".py",
   "mimetype": "text/x-python",
   "name": "python",
   "nbconvert_exporter": "python",
   "pygments_lexer": "ipython3",
   "version": "3.8.12"
  },
  "widgets": {
   "application/vnd.jupyter.widget-state+json": {
    "state": {},
    "version_major": 2,
    "version_minor": 0
   }
  }
 },
 "nbformat": 4,
 "nbformat_minor": 5
}
