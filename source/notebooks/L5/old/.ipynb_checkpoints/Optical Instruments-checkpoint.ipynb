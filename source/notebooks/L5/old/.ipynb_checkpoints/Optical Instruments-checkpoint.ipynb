{
 "cells": [
  {
   "cell_type": "markdown",
   "metadata": {},
   "source": [
    "### Optical Instruments"
   ]
  },
  {
   "cell_type": "markdown",
   "metadata": {},
   "source": [
    "Optical instruments now combine a number of optical elements or even consist only out of a single one as in the case of the magnifying glass or the eye.\n"
   ]
  },
  {
   "cell_type": "markdown",
   "metadata": {},
   "source": [
    "#### The Eye"
   ]
  },
  {
   "cell_type": "markdown",
   "metadata": {},
   "source": [
    "The human eye is certainly one of the most amazing biological sensorial systems, which consists of biologically grown optical elements including an apeture, an adaptive lens and a photodetector, which is connected to an intelligent neural network, that is amazingly accurate and fast in pattern recognition. Think of that for a moment, that this performance is given with a few 10 W power consumption and then turn around your laptop and check out its power consumption. \n",
    "\n",
    "The eye allows you to image objects at variable distance from you. The sketch below indicates some of its essential ingredients."
   ]
  },
  {
   "cell_type": "markdown",
   "metadata": {},
   "source": [
    "|<img src=\"img/eye.jpeg\" width=\"20%\"> <img src=\"img/retina.png\" width=\"20%\">|\n",
    "|-|\n",
    "|**Fig.:** Sketch of the ingredients of the human eye. Most important parts the lens, the glass body and the retina containing the bightness (rods) and color sensors (cones). A more detailed sketch in depicted on the right side, which shows the arrangement of rods and cones in the retina including their parallel connection. Their combined signal is ending the optical nerves guiding the signals to the brain.|"
   ]
  },
  {
   "cell_type": "markdown",
   "metadata": {},
   "source": [
    "Most important is the pupil resembling an adjustable aperture for adjusting the total light falling to the retina and the lens, connected to muscles to change the curvature of the lens and thus also the focal distance. "
   ]
  },
  {
   "cell_type": "markdown",
   "metadata": {},
   "source": [
    "The lens  is connected to air on one side as the surrounding medium and to a vitreous humor (glass body) on the oder side. So there is some asymmetry. The eye therefore has a front focal length of $f_1=17\\,{\\rm mm}$ and a back focal length of $f_2=22\\,{\\rm mm}$. These values may vary by the individual but also by the distance of the object. For close objects the eye can accomodate its focal distance to $f_1=14\\,{\\rm mm}$ and $f_2=19\\,{\\rm mm}$."
   ]
  },
  {
   "cell_type": "markdown",
   "metadata": {},
   "source": [
    "|<img src=\"img/eye_focal_distance.png\" width=\"40%\">|\n",
    "|-|\n",
    "|**Fig.:** Focal distances for the eye lens.|"
   ]
  },
  {
   "cell_type": "markdown",
   "metadata": {},
   "source": [
    "Cones and rods are differently distributed around the fovea, which is the spot of the highest color sensitivity. The cone density peaks around this center, while the ro density is larger outside. COnes are the color sensitive objects, which gain their light sensitive from a dye molecules called *retinal* undergoing a conformational transition upon excitation with light. This trigges a cascasde of different chemical processes. Cones with three narrow excitation ranges allow our color vision (see Fig. below)."
   ]
  },
  {
   "cell_type": "markdown",
   "metadata": {},
   "source": [
    "|<img src=\"img/cone_and_rods.png\" width=\"60%\">|\n",
    "|-|\n",
    "|**Fig.:** Angular distribution of cones and rods around the fovea, electron micrograph of cones (large) and rods (small) as well as their color sensitivity.|"
   ]
  },
  {
   "cell_type": "markdown",
   "metadata": {},
   "source": [
    "Under normal conditions, objects at infinite distance are imaged to the retina at the back focal distance $f_2=22\\, {\\rm mm}$. However. the lens of the eye may have defects changing its refractive power. Often this leads to short-sightedness or far-sightedness. If you are short-sighted, the light from infinite distance is not focused to the retina but to some shorter distance inside the glass body. This may be corrected by a concave lens as displayed in the image below on the left side. If you are far-sighted, then the light is focused behind the retina if objects are ininitely distant away. To correct for that error, one needs a convex lens as displayed on the right side."
   ]
  },
  {
   "cell_type": "markdown",
   "metadata": {},
   "source": [
    "|<img src=\"img/short_sighted.png\" width=\"25%\">  <img src=\"img/far_sighted.png\" width=\"30%\">|\n",
    "|-|\n",
    "|**Fig.:** Short-sightedness (left) and far-sightedness (right) and their correction by additional lenses.|"
   ]
  },
  {
   "cell_type": "markdown",
   "metadata": {},
   "source": [
    "In the normal relaxed state of the eye muscle, one can therefore observe objects up to a distance of $s_0=25\\, {\\rm cm}$ without additional accomodation of the eye lens. This distance, which varies from person to person, is standarized and called the **range of clear visual sight**. This range of clear visual sight allows to observe objects under an angle $\\epsilon$."
   ]
  },
  {
   "cell_type": "markdown",
   "metadata": {},
   "source": [
    "|<img src=\"img/relaxed_eye.png\" width=\"40%\">|\n",
    "|-|\n",
    "|**Fig.:** Short-signtedness (left) and far-sightedness (right) and their correction by additional lenses.|"
   ]
  },
  {
   "cell_type": "markdown",
   "metadata": {},
   "source": [
    "Instead of calculating the magnification of the following optical instruments from the object and image distances, we refer now to a different measure, which is the **angular magnification**. The angular magnification is given by\n",
    "\n",
    "$$\n",
    "V=\\frac{\\tan(\\epsilon)}{\\tan(\\epsilon_0)}\\approx \\frac{\\epsilon}{\\epsilon_0}\n",
    "$$\n",
    "\n",
    "This is a useful measure as the image size is not really accessible ;-)."
   ]
  }
 ],
 "metadata": {
  "kernelspec": {
   "display_name": "Python 3",
   "language": "python",
   "name": "python3"
  },
  "language_info": {
   "codemirror_mode": {
    "name": "ipython",
    "version": 3
   },
   "file_extension": ".py",
   "mimetype": "text/x-python",
   "name": "python",
   "nbconvert_exporter": "python",
   "pygments_lexer": "ipython3",
   "version": "3.8.5"
  }
 },
 "nbformat": 4,
 "nbformat_minor": 4
}
