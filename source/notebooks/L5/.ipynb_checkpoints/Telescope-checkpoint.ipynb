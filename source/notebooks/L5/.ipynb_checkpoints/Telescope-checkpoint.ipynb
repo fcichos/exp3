{
 "cells": [
  {
   "cell_type": "markdown",
   "metadata": {},
   "source": [
    "### Telescope"
   ]
  },
  {
   "cell_type": "markdown",
   "metadata": {},
   "source": [
    "Other than the microscope, the telescope is made to observe distant objects, which would appear under a very small observation angle. In the same way as a microscope, the telescope consists of two lenses with the focal distances $f_1,f_2$."
   ]
  },
  {
   "cell_type": "markdown",
   "metadata": {},
   "source": [
    "|<img src=\"img/telescope.png\" width=\"60%\">|\n",
    "|-|\n",
    "| **Fig.:** Kepler telescope with two biconvex lenses, creating a reversed image of distance objects.|\n"
   ]
  },
  {
   "cell_type": "markdown",
   "metadata": {},
   "source": [
    "As indicated in the sketch above, the first lens generates an image at the focal length of the first lens. This intermediate image is the magnified by an eye-piece as well acting as a magnifying glass. We may therefore apply the same kind of techniques as earlier for the calculation of the angular magnification. The angle of observation for the object of size $D$ is given by\n",
    "\n",
    "$$\n",
    "2\\epsilon_0=\\frac{D}{f_1}\n",
    "$$\n",
    "\n",
    "while the angle of observation through the telescope is given as \n",
    "\n",
    "$$\n",
    "2\\epsilon=\\frac{D}{f_2}\n",
    "$$\n",
    "\n",
    "Correspondingly, the angular magnification is given by\n",
    "\n",
    "$$\n",
    "V=\\frac{\\epsilon}{\\epsilon_0}=\\frac{D}{f_2}\\frac{f_1}{D}=\\frac{f_1}{f_2}\n",
    "$$\n",
    "\n",
    "The magnification is therefore given by the ration of the focal length of the entrance lens and the eye-piece. The above telescope is also termed **astronomical telescope** or **Kepler telescope**, since it has been used for astromical observations. It creates an image which is reversed. \n",
    "\n",
    "\n"
   ]
  },
  {
   "cell_type": "markdown",
   "metadata": {},
   "source": [
    "A telescope with an upright image may be created with the help of a concave lens. This type of telescope is called Galilei telescope and obeyes the same magnification formula as above. Due to the fact that a concave lens has a negative focal length, the total magnification will be negative as well being indicative for an upright image.\n",
    "\n",
    "|<img src=\"img/galilei.png\" width=\"40%\">|\n",
    "|-|\n",
    "| **Fig.:** Galilei telescope for imaging objects into upright images with the help of a concave and a convex lens.|\n",
    "\n",
    "\n"
   ]
  },
  {
   "cell_type": "markdown",
   "metadata": {},
   "source": [
    "Modern powerful telescopes also use mirrors instead of refracting optical elements, as reflecting elements with nearly 100 percent reflectivity can be built with a much smaller mass than large glass elements. Such telescopes come in different setups. The one below is a Cassegrain telescope, where a secondary convex miror is used for imaging the intermediate image to the eye."
   ]
  },
  {
   "cell_type": "markdown",
   "metadata": {},
   "source": [
    " \n",
    "\n",
    "\n",
    "|<img src=\"img/real_telescope.png\" width=\"20%\"> <img src=\"img/cassegrain.png\" width=\"40%\">|\n",
    "|-|\n",
    "| **Fig.:** Reflective optics is commonly used in modern high quality telescopes for the advantage of weight. The image and sketch shows the optics of a so-called Cassegrain telescope.|\n",
    "\n",
    "\n"
   ]
  },
  {
   "cell_type": "markdown",
   "metadata": {},
   "source": [
    "The most famous Cassegrain telescope is probably the Hubble space telescope as you might recognize from the sketch below.\n",
    "\n",
    "\n",
    "\n",
    "|<img src=\"img/hubble.png\" width=\"60%\">|\n",
    "|-|\n",
    "| **Fig.:** Light path in the Hubble space telescope.|\n",
    "\n",
    "\n"
   ]
  }
 ],
 "metadata": {
  "kernelspec": {
   "display_name": "Python 3",
   "language": "python",
   "name": "python3"
  },
  "language_info": {
   "codemirror_mode": {
    "name": "ipython",
    "version": 3
   },
   "file_extension": ".py",
   "mimetype": "text/x-python",
   "name": "python",
   "nbconvert_exporter": "python",
   "pygments_lexer": "ipython3",
   "version": "3.8.5"
  }
 },
 "nbformat": 4,
 "nbformat_minor": 4
}
