{
 "cells": [
  {
   "cell_type": "markdown",
   "metadata": {},
   "source": [
    "## Optical Elements Part I"
   ]
  },
  {
   "cell_type": "code",
   "execution_count": 29,
   "metadata": {},
   "outputs": [],
   "source": [
    "## just for plotting later\n",
    "\n",
    "import pandas as pd\n",
    "import matplotlib.pyplot as plt\n",
    "%matplotlib inline\n",
    "%config InlineBackend.figure_format = 'retina' \n",
    "\n",
    "plt.rcParams.update({'font.size': 12,\n",
    "                     'axes.titlesize': 18,\n",
    "                     'axes.labelsize': 16,\n",
    "                     'axes.labelpad': 14,\n",
    "                     'lines.linewidth': 1,\n",
    "                     'lines.markersize': 10,\n",
    "                     'xtick.labelsize' : 16,\n",
    "                     'ytick.labelsize' : 16,\n",
    "                     'xtick.top' : True,\n",
    "                     'xtick.direction' : 'in',\n",
    "                     'ytick.right' : True,\n",
    "                     'ytick.direction' : 'in',}) "
   ]
  },
  {
   "cell_type": "markdown",
   "metadata": {},
   "source": [
    "### Mirrors"
   ]
  },
  {
   "cell_type": "markdown",
   "metadata": {},
   "source": [
    "#### Plane Mirrors"
   ]
  },
  {
   "cell_type": "markdown",
   "metadata": {},
   "source": [
    "If a point $P$ sends out light that is reflected on a mirror as depicted in the image below, the rays reflected from the mirror diverge, but appear to originate from a point $P^\\prime$ behind the mirror. The distance of this image point from the mirror is the same as the one of the object point from the mirror due to the reflection law. An observer, who would thus collect all the reflected rays and image them, e.g., onto the retina of his eye will see the point behind the mirror. "
   ]
  },
  {
   "cell_type": "markdown",
   "metadata": {},
   "source": [
    "|<img src=\"img/plane_mirror.png\" width=\"49%\"> <img src=\"img/reflection_plane.png\" width=\"50%\">|\n",
    "|--|\n",
    "|**Fig.:** Image formation on a plane mirror.|"
   ]
  },
  {
   "cell_type": "markdown",
   "metadata": {},
   "source": [
    "If now many points of an object emit light towards the mirror then this is also true for all of the points and the whole object appears as an image behind the mirror. Consequently, the image has the same size as the object. Therefore the magnification defined as \n",
    "\n",
    "\\begin{equation}\n",
    "M=\\frac{h_{\\rm image}}{h_{\\rm object}}=1.\n",
    "\\end{equation}"
   ]
  },
  {
   "cell_type": "markdown",
   "metadata": {},
   "source": [
    "|<img src=\"img/image_plane_mirror.png\" width=\"40%\">|\n",
    "|-|\n",
    "|**Fig.:** Image formation on a plane mirror.|"
   ]
  },
  {
   "cell_type": "markdown",
   "metadata": {},
   "source": [
    "#### Concave Mirrors"
   ]
  },
  {
   "cell_type": "markdown",
   "metadata": {},
   "source": [
    "When we apply the law of reflection for a concave mirror (i.e., the reflecting side of the mirror is on the inside of the spherical surface), the light parallel to the optical axis at a distance $h$ is reflected towards the optical axis and crosses the axis at a specifc point $F$. For symmetry reasons, a ray on the other side of the mirror needs to cross the axis in the same point. "
   ]
  },
  {
   "cell_type": "markdown",
   "metadata": {},
   "source": [
    "|<img src=\"img/concave_mirror.png\" width=\"40%\">|\n",
    "|-|\n",
    "|**Fig.:** Ray propagation on a concave mirror.|"
   ]
  },
  {
   "cell_type": "markdown",
   "metadata": {},
   "source": [
    "We may calculate the position of the point $F$, e.g., the distance from the mirror surface point $O$, by applying the law of reflection. If the spherical mirror surface has a radius $R$, then the distance between the center of the sphere $M$ and the point $F$ is given by\n",
    "\n",
    "$$FM=\\frac{R}{2\\cos(\\alpha)}.$$"
   ]
  },
  {
   "cell_type": "markdown",
   "metadata": {},
   "source": [
    "Therefore, we can also calculate the distance of the mirror surafce from the point $F$, which results in \n",
    "\n",
    "\\begin{equation}\n",
    "OF=R\\left (1-\\frac{1}{2\\cos(\\alpha)}\\right)=f.\n",
    "\\end{equation}"
   ]
  },
  {
   "cell_type": "markdown",
   "metadata": {},
   "source": [
    "This distance is the so-called focal length of the concave mirror $f$. For small angles $\\alpha$, the above equation yields the so-called paraxial limit (all angles are small and the rays are close to the optical axis). In this limit we find $\\cos(\\alpha)\\approx 1$ and the focal length becomes $f=R/2$. If we replace the cosine function by\n",
    "$\\cos(\\alpha)=\\sqrt{1-sin^2(\\alpha)}$ with $\\sin(\\alpha)=h/R$, we find\n",
    "\n",
    "\\begin{equation}\n",
    "f=R\\left [ 1-\\frac{R}{2\\sqrt{R^2-h^2}}\\right ].\n",
    "\\end{equation}"
   ]
  },
  {
   "cell_type": "markdown",
   "metadata": {},
   "source": [
    "This equation is telling us that the focal distance is not a single value for a concave mirror. The focal distance rather changes with the distance $h$ from the optical axis. If $h$ approaches $R$, the focal length become shorter."
   ]
  },
  {
   "cell_type": "markdown",
   "metadata": {},
   "source": [
    "To obtain now an equation which predicts the point at which the reflected ray intersects the optical axis if it emerged at a point $A$, we just consider the following sketch."
   ]
  },
  {
   "cell_type": "markdown",
   "metadata": {},
   "source": [
    "|<img src=\"img/image_concave_mirror.png\" width=\"40%\">|\n",
    "|-|\n",
    "|**Fig.:** Image formation on a concave mirror.|"
   ]
  },
  {
   "cell_type": "markdown",
   "metadata": {},
   "source": [
    "For this situation, we can write down immediately the following relations\n",
    "\n",
    "$$\\delta=\\alpha+\\gamma$$\n",
    "\n",
    "$$\\gamma+\\beta=2\\delta$$\n",
    "\n",
    "\n",
    "Further \n",
    "\n",
    "$$\\tan(\\gamma)=\\frac{h}{g}\\approx \\gamma$$\n",
    "\n",
    "and\n",
    "\n",
    "$$\\tan(\\beta)=\\frac{h}{g}\\approx \\beta$$\n",
    "\n",
    "and finally \n",
    "\n",
    "$$\\sin(\\delta)=\\frac{h}{R}\\approx \\delta$$\n",
    "\n",
    "from which we obtain the imaging equation\n",
    "\n",
    "$$\\frac{1}{g}+\\frac{1}{b}\\approx \\frac{2}{R}\\approx \\frac{1}{f}.$$\n",
    "\n",
    "This equation has some surprising property. It is completely independent of $h$ and $\\gamma$. That means all points in a plane at a distance $g$ are imaged into a plane at a distance $b$. Both planes are, therefore, called conjugated planes. "
   ]
  },
  {
   "cell_type": "markdown",
   "metadata": {},
   "source": [
    "<div class=\"alert alert-info\">\n",
    "\n",
    "**Imaging Equation Concave Mirror**\n",
    "    \n",
    "The sum of the inverse object and image distances equals the inverse focal length of the cocave mirror.\n",
    "\n",
    "$$\\frac{1}{g}+\\frac{1}{b}\\approx\\frac{1}{f}$$\n",
    "    \n",
    " \n",
    "</div>"
   ]
  },
  {
   "cell_type": "markdown",
   "metadata": {},
   "source": [
    "This equation now helps to construct the image of an object in front of a concave mirror and we may define 3 different rays to identify the size of an image $h_{\\rm image}$ from the size of an object $h_{\\rm object}$.\n",
    "\n",
    "|<img src=\"img/image_size.png\" width=\"70%\">|\n",
    "|-|\n",
    "|**Fig.:** Image formation on a concave mirror.|\n",
    "\n",
    "In the above sketch, there are three different rays, which help us to construct the image.\n",
    "\n",
    "1. **red ray:** parallel ray → focal ray\n",
    "2. **green ray:** focal ray → parallel ray\n",
    "3. **central ray:** central ray → central ray\n",
    "\n",
    "All three reflected rays will either intersect on the same side of the mirror as the object. In this case, the image is called **real image** and it will be inverted as in the sketch. If the reflected rays on the other hand diverge, they appear to intersect behind the mirror. In this case, the image is called **virtual image**. It is located behind the mirror. There is no real intersection of rays in that case. \n",
    "\n",
    "The intersection point further gives the size of the image. Using a ray from the tip of the object to the intersection between mirror and optical axis (O), we may easily determine the image height $h_{\\rm image}$. Try yourself if you see that the magnification of a concave mirror is described by\n",
    "\n",
    "$$ \\frac{h_{\\rm image}}{h_{\\rm image}}=-\\frac{b}{g}=M.$$\n",
    "\n",
    "As mentioned earlier, this resembles to be the magnification $M$. The minus sign in the ratio of image and object distance appears due to the fact that the image is reversed in its orientation in a real image. "
   ]
  },
  {
   "cell_type": "markdown",
   "metadata": {},
   "source": [
    "With the help of the imaging equation and the magnification we may in general differentiate between the following general situations:\n",
    "\n",
    "1. $g>2f$: image is real, inverted and smaller than the object\n",
    "2. $g=2f$: image is real, inverted and of the same size as the object\n",
    "3. $f<g<2f$: image is real, inverted and larger than the object\n",
    "4. $g<f$: image is virtual, upright and larger than the object"
   ]
  }
 ],
 "metadata": {
  "kernelspec": {
   "display_name": "Python 3",
   "language": "python",
   "name": "python3"
  },
  "language_info": {
   "codemirror_mode": {
    "name": "ipython",
    "version": 3
   },
   "file_extension": ".py",
   "mimetype": "text/x-python",
   "name": "python",
   "nbconvert_exporter": "python",
   "pygments_lexer": "ipython3",
   "version": "3.8.5"
  }
 },
 "nbformat": 4,
 "nbformat_minor": 4
}
