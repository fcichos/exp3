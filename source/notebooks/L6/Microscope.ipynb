{
 "cells": [
  {
   "cell_type": "markdown",
   "metadata": {},
   "source": [
    "### Microscope"
   ]
  },
  {
   "cell_type": "markdown",
   "metadata": {},
   "source": [
    "The simplest form of a microscope consists of an objective lens with a focal distance $f_1$ and a magnifying glass called eye-piece with a focal length $f_2$. In this system of two lenses (which are itself systems of lenses in modern microscopes, see below),\n",
    "\n",
    "|<img src=\"img/microscopy_lenses.png\" width=\"60%\">|\n",
    "|-|\n",
    "| **Fig.:** Cut through a microscope objective lens (left) and an eye-piece.|\n",
    "\n",
    "The object is placed at a distance $f_1< a_1<2f_1$ from the objective lens creating a real and reversed image at a distance $b_1$ behind the lens.  This reversed image is observed by the eye through the eye-piece. The image of the objective lens is thereby adjusted to appear at the focal distance of the eye-piece."
   ]
  },
  {
   "cell_type": "markdown",
   "metadata": {},
   "source": [
    "|<img src=\"img/simple_microscope.png\" width=\"60%\">|\n",
    "|-|\n",
    "| **Fig.:** Sketch of a simple microscope. The strange object on the right is an eye.|"
   ]
  },
  {
   "cell_type": "markdown",
   "metadata": {},
   "source": [
    "For this simple microscope system we may calculate first the intermediate image position $b_1$:\n",
    "\n",
    "$$\n",
    "\\frac{1}{f_1}=\\frac{1}{a_1}+\\frac{1}{b_1}\n",
    "$$\n",
    "\n",
    "resulting in\n",
    "\n",
    "$$\n",
    "b_1=\\frac{a_1 f_1}{a_1-f_1}.\n",
    "$$\n",
    "\n",
    "If we assume a $\\delta$ to be the distance of the object from the focal point of the objective lens, we even find for $\\delta \\rightarrow 0$\n",
    "\n",
    "$$\n",
    "b_1=\\frac{a_1 f_1}{\\delta}.\n",
    "$$\n",
    "\n",
    "\n"
   ]
  },
  {
   "cell_type": "markdown",
   "metadata": {},
   "source": [
    "The intermediate image of size $B_1$ is now imaged by a magnifying glass of focal distance $f_2$. According to what we calculated earlier, we have now the observation angle \n",
    "\n",
    "$$\n",
    "\\tan(\\epsilon)=\\frac{B_1}{f_2}=\\frac{Ab}{a_1 f_2}.\n",
    "$$"
   ]
  },
  {
   "cell_type": "markdown",
   "metadata": {},
   "source": [
    "If we observe the object of a size $A$ and the clear visual distance $s_0$, it would cover an angle of\n",
    "\n",
    "$$\n",
    "\\tan(\\epsilon_0)=\\frac{A}{s_0}\n",
    "$$\n",
    "\n",
    "and we may obtain the total angular magnification \n",
    "\n",
    "$$\n",
    "V=\\frac{A b_1 s_0}{A b_1 f_2}=\\frac{b_1 s_0}{g f_2}.\n",
    "$$"
   ]
  },
  {
   "cell_type": "markdown",
   "metadata": {},
   "source": [
    "If we set the distance between the two lenses to $D=b_1+f_2$ and $g\\approx f_1$ then we obtain\n",
    "\n",
    "$$\n",
    "V=\\frac{(D-f_2)s_0}{f_1 f_2}\n",
    "$$\n",
    "\n",
    "which says that the magnification is the result of the two focal lengths $f_1,f_2$."
   ]
  },
  {
   "cell_type": "markdown",
   "metadata": {},
   "source": [
    "#### Modern microscopy"
   ]
  },
  {
   "cell_type": "markdown",
   "metadata": {},
   "source": [
    "While the above description is correct for the simplest microscope you can think of, modern microscopes have much more complex light paths and work in general with optics, that is so-called **inifinity corrected**. Infinity corrected optics consists of an objective lens, which images the objects in the focal plane to infinity. \n",
    "Such an objctive lens always comes with a second lens, the **tube lens**, which together are designed to give a magnification specified at the objective lens housing. "
   ]
  },
  {
   "cell_type": "markdown",
   "metadata": {},
   "source": [
    "|<img src=\"img/infinity_optics.png\" width=\"40%\">|\n",
    "|-|\n",
    "| **Fig.:** Infinity optics vs. normal microscopy optics.|"
   ]
  },
  {
   "cell_type": "markdown",
   "metadata": {},
   "source": [
    "Infinity optics allows you to have a free length with a parallel optical path where you can insert optical elements. There is no fixed tube length as in the case sketched above, where the distance of the intermediate image has to be considered. Therefore, it has tremendous technical advantages. Common optical microscopes are further today coupled to CCD cameras to record images digitally. Yet, an eye-piece may still be available in many cases. The sketch below shows the light path for a simple fluorescence microscope recording fluorescence images with a camera.\n",
    "\n",
    "\n",
    "|<img src=\"img/fluorescence_micr.png\" width=\"40%\">|\n",
    "|-|\n",
    "| **Fig.:** Simple fluorescence microscope. |"
   ]
  },
  {
   "cell_type": "markdown",
   "metadata": {},
   "source": [
    "The possibility to digitally record images creates endless possibilities to computationally enhance and combine images. Nowadays the field of optics is one of the fastest developing fields in physics with numerous new techniques appearing every week. In this field of imaging methods of machine learning also play an increasingly important role. While I am not ablields in physics with numerous new techniques appearing every week. In this field of imaging methods of machine learning also play an increasingly important role. While I am not able to refer to all possible optical microscopy techniques, I will exemplarily show some data from the Waller group at Berkley using computational methods to enhance the resolution by keeping at the same time a large field of view for imaging. This technique is called **ptychography** and can be understood if you consider Fourier Optics (a field of optics describing ligh propagation in terms Fourier transforms).\n",
    "\n",
    "|<img src=\"img/ptychography.png\" width=\"80%\">|\n",
    "|-|\n",
    "| **Fig.:** Ptychographic imaging with LED arrays. |\n",
    "\n",
    "\n",
    "There is a massive amount of other techniques with increadible images being generated. Have a look around."
   ]
  }
 ],
 "metadata": {
  "kernelspec": {
   "display_name": "Python 3",
   "language": "python",
   "name": "python3"
  },
  "language_info": {
   "codemirror_mode": {
    "name": "ipython",
    "version": 3
   },
   "file_extension": ".py",
   "mimetype": "text/x-python",
   "name": "python",
   "nbconvert_exporter": "python",
   "pygments_lexer": "ipython3",
   "version": "3.8.5"
  }
 },
 "nbformat": 4,
 "nbformat_minor": 4
}
